{
  "cells": [
    {
      "cell_type": "markdown",
      "metadata": {
        "id": "view-in-github",
        "colab_type": "text"
      },
      "source": [
        "<a href=\"https://colab.research.google.com/github/marihecksh/meufba/blob/main/chatgpt_FBA_corrigido.ipynb\" target=\"_parent\"><img src=\"https://colab.research.google.com/assets/colab-badge.svg\" alt=\"Open In Colab\"/></a>"
      ]
    },
    {
      "cell_type": "markdown",
      "metadata": {
        "id": "RJ5_yV3Hmqot"
      },
      "source": [
        "# **Nova simulação Flux Balance Analysis**\n",
        "\n",
        "---\n",
        "\n",
        "\n",
        "\n",
        "---\n",
        "\n",
        "\n",
        "\n"
      ]
    },
    {
      "cell_type": "markdown",
      "metadata": {
        "id": "u_nNVIcHImIL"
      },
      "source": [
        "**Links importantes**\n",
        "\n",
        "\n",
        "*   [Documentação atualizada cobrapy](https://cobrapy.readthedocs.io/en/latest/autoapi/cobra/core/gene/index.html)\n",
        "\n",
        "*   [Documentação Escher](https://escher.readthedocs.io/en/latest/getting_started.html)\n",
        "* [Escher-FBA](https://sbrg.github.io/escher-fba/#/)\n",
        "* [FBA with Cobrapy](https://cnls.lanl.gov/external/qbio2018/Slides/FBA%202/qBio-FBA-lab-slides.pdf)\n",
        "* [Example codes para PyFBA](https://github.com/linsalrob/PyFBA/blob/master/example_code/run_fba_sbml.py)\n",
        "\n",
        "---\n",
        "\n",
        "\n",
        "\n"
      ]
    },
    {
      "cell_type": "markdown",
      "metadata": {
        "id": "ACj_jF6jqmQ3"
      },
      "source": [
        "---\n",
        "**Instalação de bibliotecas e criação da cópia do modelo**\n",
        "---\n"
      ]
    },
    {
      "cell_type": "code",
      "execution_count": null,
      "metadata": {
        "id": "A03UbKgWmouu",
        "colab": {
          "base_uri": "https://localhost:8080/"
        },
        "outputId": "9eb9147f-65bc-403b-e933-045265b2724d"
      },
      "outputs": [
        {
          "output_type": "stream",
          "name": "stdout",
          "text": [
            "Requirement already satisfied: cobra in /usr/local/lib/python3.10/dist-packages (0.29.1)\n",
            "Requirement already satisfied: appdirs~=1.4 in /usr/local/lib/python3.10/dist-packages (from cobra) (1.4.4)\n",
            "Requirement already satisfied: depinfo~=2.2 in /usr/local/lib/python3.10/dist-packages (from cobra) (2.2.0)\n",
            "Requirement already satisfied: diskcache~=5.0 in /usr/local/lib/python3.10/dist-packages (from cobra) (5.6.3)\n",
            "Requirement already satisfied: future in /usr/local/lib/python3.10/dist-packages (from cobra) (1.0.0)\n",
            "Requirement already satisfied: httpx~=0.24 in /usr/local/lib/python3.10/dist-packages (from cobra) (0.27.2)\n",
            "Requirement already satisfied: importlib-resources in /usr/local/lib/python3.10/dist-packages (from cobra) (6.4.5)\n",
            "Requirement already satisfied: numpy>=1.13 in /usr/local/lib/python3.10/dist-packages (from cobra) (1.26.4)\n",
            "Requirement already satisfied: optlang~=1.8 in /usr/local/lib/python3.10/dist-packages (from cobra) (1.8.2)\n",
            "Requirement already satisfied: pandas<3.0,>=1.0 in /usr/local/lib/python3.10/dist-packages (from cobra) (2.1.4)\n",
            "Requirement already satisfied: pydantic>=1.6 in /usr/local/lib/python3.10/dist-packages (from cobra) (2.9.2)\n",
            "Requirement already satisfied: python-libsbml~=5.19 in /usr/local/lib/python3.10/dist-packages (from cobra) (5.20.4)\n",
            "Requirement already satisfied: rich>=8.0 in /usr/local/lib/python3.10/dist-packages (from cobra) (13.8.1)\n",
            "Requirement already satisfied: ruamel.yaml~=0.16 in /usr/local/lib/python3.10/dist-packages (from cobra) (0.18.6)\n",
            "Requirement already satisfied: swiglpk in /usr/local/lib/python3.10/dist-packages (from cobra) (5.0.10)\n",
            "Requirement already satisfied: anyio in /usr/local/lib/python3.10/dist-packages (from httpx~=0.24->cobra) (3.7.1)\n",
            "Requirement already satisfied: certifi in /usr/local/lib/python3.10/dist-packages (from httpx~=0.24->cobra) (2024.8.30)\n",
            "Requirement already satisfied: httpcore==1.* in /usr/local/lib/python3.10/dist-packages (from httpx~=0.24->cobra) (1.0.5)\n",
            "Requirement already satisfied: idna in /usr/local/lib/python3.10/dist-packages (from httpx~=0.24->cobra) (3.10)\n",
            "Requirement already satisfied: sniffio in /usr/local/lib/python3.10/dist-packages (from httpx~=0.24->cobra) (1.3.1)\n",
            "Requirement already satisfied: h11<0.15,>=0.13 in /usr/local/lib/python3.10/dist-packages (from httpcore==1.*->httpx~=0.24->cobra) (0.14.0)\n",
            "Requirement already satisfied: sympy>=1.12.0 in /usr/local/lib/python3.10/dist-packages (from optlang~=1.8->cobra) (1.13.2)\n",
            "Requirement already satisfied: python-dateutil>=2.8.2 in /usr/local/lib/python3.10/dist-packages (from pandas<3.0,>=1.0->cobra) (2.8.2)\n",
            "Requirement already satisfied: pytz>=2020.1 in /usr/local/lib/python3.10/dist-packages (from pandas<3.0,>=1.0->cobra) (2024.2)\n",
            "Requirement already satisfied: tzdata>=2022.1 in /usr/local/lib/python3.10/dist-packages (from pandas<3.0,>=1.0->cobra) (2024.1)\n",
            "Requirement already satisfied: annotated-types>=0.6.0 in /usr/local/lib/python3.10/dist-packages (from pydantic>=1.6->cobra) (0.7.0)\n",
            "Requirement already satisfied: pydantic-core==2.23.4 in /usr/local/lib/python3.10/dist-packages (from pydantic>=1.6->cobra) (2.23.4)\n",
            "Requirement already satisfied: typing-extensions>=4.6.1 in /usr/local/lib/python3.10/dist-packages (from pydantic>=1.6->cobra) (4.12.2)\n",
            "Requirement already satisfied: markdown-it-py>=2.2.0 in /usr/local/lib/python3.10/dist-packages (from rich>=8.0->cobra) (3.0.0)\n",
            "Requirement already satisfied: pygments<3.0.0,>=2.13.0 in /usr/local/lib/python3.10/dist-packages (from rich>=8.0->cobra) (2.18.0)\n",
            "Requirement already satisfied: ruamel.yaml.clib>=0.2.7 in /usr/local/lib/python3.10/dist-packages (from ruamel.yaml~=0.16->cobra) (0.2.8)\n",
            "Requirement already satisfied: mdurl~=0.1 in /usr/local/lib/python3.10/dist-packages (from markdown-it-py>=2.2.0->rich>=8.0->cobra) (0.1.2)\n",
            "Requirement already satisfied: six>=1.5 in /usr/local/lib/python3.10/dist-packages (from python-dateutil>=2.8.2->pandas<3.0,>=1.0->cobra) (1.16.0)\n",
            "Requirement already satisfied: mpmath<1.4,>=1.1.0 in /usr/local/lib/python3.10/dist-packages (from sympy>=1.12.0->optlang~=1.8->cobra) (1.3.0)\n",
            "Requirement already satisfied: exceptiongroup in /usr/local/lib/python3.10/dist-packages (from anyio->httpx~=0.24->cobra) (1.2.2)\n",
            "Requirement already satisfied: pandas in /usr/local/lib/python3.10/dist-packages (2.1.4)\n",
            "Requirement already satisfied: numpy<2,>=1.22.4 in /usr/local/lib/python3.10/dist-packages (from pandas) (1.26.4)\n",
            "Requirement already satisfied: python-dateutil>=2.8.2 in /usr/local/lib/python3.10/dist-packages (from pandas) (2.8.2)\n",
            "Requirement already satisfied: pytz>=2020.1 in /usr/local/lib/python3.10/dist-packages (from pandas) (2024.2)\n",
            "Requirement already satisfied: tzdata>=2022.1 in /usr/local/lib/python3.10/dist-packages (from pandas) (2024.1)\n",
            "Requirement already satisfied: six>=1.5 in /usr/local/lib/python3.10/dist-packages (from python-dateutil>=2.8.2->pandas) (1.16.0)\n"
          ]
        }
      ],
      "source": [
        "#Instalação do cobrapy\n",
        "!pip install cobra\n",
        "#Instalação do pandas\n",
        "!pip install pandas\n",
        "\n",
        "#Importação do cobrapy e funções importantes dele\n",
        "import cobra\n",
        "from cobra.io import load_model\n",
        "from cobra.io import load_json_model, save_json_model\n",
        "from cobra import Model, Reaction, Metabolite\n",
        "\n",
        "#Importação do pandas para manusear os dados de fluxo do cobrapy\n",
        "import pandas as pd\n",
        "\n",
        "#Permitir download do aquivo do Bigg\n",
        "from urllib import request\n",
        "\n",
        "#Permitir copiar arquivos\n",
        "import copy"
      ]
    },
    {
      "cell_type": "code",
      "execution_count": null,
      "metadata": {
        "id": "dfstTKnMpn0K",
        "colab": {
          "base_uri": "https://localhost:8080/"
        },
        "outputId": "5a5d8d6f-5b29-48c5-a9a7-1b54dd8059d1"
      },
      "outputs": [
        {
          "output_type": "execute_result",
          "data": {
            "text/plain": [
              "('iMM904.json', <http.client.HTTPMessage at 0x7dc09de75810>)"
            ]
          },
          "metadata": {},
          "execution_count": 830
        }
      ],
      "source": [
        "#Download do modelo a partir do BIGG\n",
        "file_url = 'http://bigg.ucsd.edu/static/models/iMM904.json'\n",
        "file = 'iMM904.json'\n",
        "request.urlretrieve(file_url , file )"
      ]
    },
    {
      "cell_type": "code",
      "execution_count": null,
      "metadata": {
        "id": "Z8JhyDmcLelk",
        "colab": {
          "base_uri": "https://localhost:8080/"
        },
        "outputId": "615c2e1c-015b-4e32-be0b-d4d4ebcfbd2f"
      },
      "outputs": [
        {
          "output_type": "stream",
          "name": "stdout",
          "text": [
            "1577\n",
            "1226\n",
            "905\n"
          ]
        }
      ],
      "source": [
        "#Leitura do modelo baixado\n",
        "modelo = load_json_model('/content/iMM904.json')\n",
        "\n",
        "#Verificando as caracteristicas do modelo\n",
        "print(len(modelo.reactions))\n",
        "print(len(modelo.metabolites))\n",
        "print(len(modelo.genes))"
      ]
    },
    {
      "cell_type": "code",
      "execution_count": null,
      "metadata": {
        "id": "f1dNqWXBE5cA"
      },
      "outputs": [],
      "source": [
        "#Fazendo copia para modificar o modelo\n",
        "nmodelo = copy.deepcopy(modelo)"
      ]
    },
    {
      "cell_type": "code",
      "execution_count": null,
      "metadata": {
        "id": "LqjLKJ7zFB44",
        "colab": {
          "base_uri": "https://localhost:8080/"
        },
        "outputId": "9baf3d5e-64ac-4ad9-8959-e13a6f8df8fb"
      },
      "outputs": [
        {
          "output_type": "stream",
          "name": "stdout",
          "text": [
            "1577\n",
            "1226\n",
            "905\n"
          ]
        }
      ],
      "source": [
        "#Verificando as caracteristicas da cópia\n",
        "print(len(nmodelo.reactions))\n",
        "print(len(nmodelo.metabolites))\n",
        "print(len(nmodelo.genes))"
      ]
    },
    {
      "cell_type": "code",
      "execution_count": null,
      "metadata": {
        "id": "4ZdP_oM8M5eM",
        "colab": {
          "base_uri": "https://localhost:8080/",
          "height": 204
        },
        "outputId": "4d74dc45-f003-45b4-c7ef-1a6128570059"
      },
      "outputs": [
        {
          "output_type": "execute_result",
          "data": {
            "text/plain": [
              "<Reaction ACALDtm at 0x7dc0959213f0>"
            ],
            "text/html": [
              "\n",
              "        <table>\n",
              "            <tr>\n",
              "                <td><strong>Reaction identifier</strong></td><td>ACALDtm</td>\n",
              "            </tr><tr>\n",
              "                <td><strong>Name</strong></td><td>Acetaldehyde mitochondrial diffusion</td>\n",
              "            </tr><tr>\n",
              "                <td><strong>Memory address</strong></td>\n",
              "                <td>0x7dc0959213f0</td>\n",
              "            </tr><tr>\n",
              "                <td><strong>Stoichiometry</strong></td>\n",
              "                <td>\n",
              "                    <p style='text-align:right'>acald_m <=> acald_c</p>\n",
              "                    <p style='text-align:right'>Acetaldehyde <=> Acetaldehyde</p>\n",
              "                </td>\n",
              "            </tr><tr>\n",
              "                <td><strong>GPR</strong></td><td></td>\n",
              "            </tr><tr>\n",
              "                <td><strong>Lower bound</strong></td><td>-999999.0</td>\n",
              "            </tr><tr>\n",
              "                <td><strong>Upper bound</strong></td><td>999999.0</td>\n",
              "            </tr>\n",
              "        </table>\n",
              "        "
            ]
          },
          "metadata": {},
          "execution_count": 834
        }
      ],
      "source": [
        "#Para visualizar uma reação específica (para ver reação número 30 deve-se usar o numero 29 devi ao o-indexing)\n",
        "modelo.reactions[29]"
      ]
    },
    {
      "cell_type": "code",
      "execution_count": null,
      "metadata": {
        "id": "8dDDuQKg659E"
      },
      "outputs": [],
      "source": [
        "#Definindo os metabolitos do modelo\n",
        "nad_c = nmodelo.metabolites.get_by_id( 'nad_c') #nad\n",
        "h2o_c = nmodelo.metabolites.get_by_id( 'h2o_c') #h2o\n",
        "amp_c = nmodelo.metabolites.get_by_id( 'amp_c') #AMP\n",
        "nmn_c = nmodelo.metabolites.get_by_id( 'nmn_c') #NMN\n",
        "pi_c = nmodelo.metabolites.get_by_id( 'pi_c') #phosphate\n",
        "rnam_c = nmodelo.metabolites.get_by_id( 'rnam_c') #NR\n",
        "nac_m = nmodelo.metabolites.get_by_id( 'nac_m') #Nicotinate mitocondrial\n",
        "ncam_m = nmodelo.metabolites.get_by_id( 'ncam_m') #Nicotinamide mitocondrial\n",
        "h2o_m = nmodelo.metabolites.get_by_id( 'h2o_m') #h2o mitocondrial\n",
        "nh4_m = nmodelo.metabolites.get_by_id( 'nh4_m') #Amonio mitocondrial\n",
        "co2_m = nmodelo.metabolites.get_by_id( 'co2_m') #CO2 mitocondrial\n",
        "h_m = nmodelo.metabolites.get_by_id( 'h_m') #H+ mitocondrial\n",
        "nicrnt_m = nmodelo.metabolites.get_by_id( 'nicrnt_m') #Nicotinate D-ribonucleotide mitocondrial\n",
        "ppi_m = nmodelo.metabolites.get_by_id( 'ppi_m') #Diphosphate mitocondrial\n",
        "prpp_m = nmodelo.metabolites.get_by_id( 'prpp_m') #5-Phospho-alpha-D-ribose 1-diphosphate mitocondrial\n",
        "quln_m = nmodelo.metabolites.get_by_id( 'quln_m') #Quinolinato mitocondrial\n",
        "adp_c = nmodelo.metabolites.get_by_id( 'adp_c') #ADP\n",
        "atp_c = nmodelo.metabolites.get_by_id( 'atp_c') #ATP\n",
        "h_c = nmodelo.metabolites.get_by_id( 'h_c') #H+\n",
        "nad_c = nmodelo.metabolites.get_by_id( 'nad_c') #NAD\n",
        "ppi_c = nmodelo.metabolites.get_by_id( 'ppi_c') #Diphosphate\n",
        "ncam_c = nmodelo.metabolites.get_by_id( 'ncam_c') #Nicotinamide\n",
        "nac_c = nmodelo.metabolites.get_by_id( 'nac_c') #Nicotinate\n",
        "nh4_c = nmodelo.metabolites.get_by_id( 'nh4_c') #Ammonium\n",
        "co2_c = nmodelo.metabolites.get_by_id( 'co2_c') #CO2\n",
        "nicrnt_c = nmodelo.metabolites.get_by_id( 'nicrnt_c') #Nicotinate D-ribonucleotide\n",
        "prpp_c = nmodelo.metabolites.get_by_id('prpp_c') #5-Phospho-alpha-D-ribose 1-diphosphate\n",
        "quln_c = nmodelo.metabolites.get_by_id('quln_c') #Quinolinato\n",
        "adprib_c = nmodelo.metabolites.get_by_id('adprib_c') # ADP ribose\n",
        "dnad_c = nmodelo.metabolites.get_by_id('dnad_c') #Deamino-NAD+\n",
        "r1p_c = nmodelo.metabolites.get_by_id('r1p_c') #Alpha-D-Ribose 1-phosphate\n",
        "nac_e = nmodelo.metabolites.get_by_id('nac_e') #Nicotinate externo\n",
        "hLkynr_c = nmodelo.metabolites.get_by_id('hLkynr_c') #3-Hydroxy-L-kynurenine\n",
        "nadp_c = nmodelo.metabolites.get_by_id('nadp_c') #NADP\n",
        "nadph_c = nmodelo.metabolites.get_by_id('nadph_c') #NADPH\n",
        "Lkynr_c = nmodelo.metabolites.get_by_id('Lkynr_c') #KYN\n",
        "ala__L_c = nmodelo.metabolites.get_by_id('ala__L_c') #L-Alanine\n",
        "hanthrn_c = nmodelo.metabolites.get_by_id('3hanthrn_c') #3 Hydroxyanthranilate\n",
        "cmusa_c = nmodelo.metabolites.get_by_id('cmusa_c') #2 Amino 3 carboxymuconate semialdehyde\n",
        "o2_c = nmodelo.metabolites.get_by_id('o2_c') #Oxigenio\n",
        "Lfmkynr_c = nmodelo.metabolites.get_by_id('Lfmkynr_c') #L Formylkynurenine\n",
        "for_c = nmodelo.metabolites.get_by_id('for_c') #Formic acid\n",
        "arg__L_c = nmodelo.metabolites.get_by_id('arg__L_c')\n",
        "asn__L_c = nmodelo.metabolites.get_by_id('asn__L_c')\n",
        "asp__L_c = nmodelo.metabolites.get_by_id('asp__L_c')\n",
        "cmp_c = nmodelo.metabolites.get_by_id('cmp_c')\n",
        "cys__L_c = nmodelo.metabolites.get_by_id('cys__L_c')\n",
        "damp_c = nmodelo.metabolites.get_by_id('damp_c')\n",
        "dcmp_c = nmodelo.metabolites.get_by_id('dcmp_c')\n",
        "dgmp_c = nmodelo.metabolites.get_by_id('dgmp_c')\n",
        "dtmp_c = nmodelo.metabolites.get_by_id('dtmp_c')\n",
        "gln__L_c = nmodelo.metabolites.get_by_id('gln__L_c')\n",
        "glu__L_c = nmodelo.metabolites.get_by_id('glu__L_c')\n",
        "gly_c = nmodelo.metabolites.get_by_id('gly_c')\n",
        "glycogen_c = nmodelo.metabolites.get_by_id('glycogen_c')\n",
        "gmp_c = nmodelo.metabolites.get_by_id('gmp_c')\n",
        "his__L_c = nmodelo.metabolites.get_by_id('his__L_c')\n",
        "ile__L_c = nmodelo.metabolites.get_by_id('ile__L_c')\n",
        "leu__L_c = nmodelo.metabolites.get_by_id('leu__L_c')\n",
        "lys__L_c = nmodelo.metabolites.get_by_id('lys__L_c')\n",
        "met__L_c = nmodelo.metabolites.get_by_id('met__L_c')\n",
        "phe__L_c = nmodelo.metabolites.get_by_id('phe__L_c')\n",
        "pro__L_c = nmodelo.metabolites.get_by_id('pro__L_c')\n",
        "ribflv_c = nmodelo.metabolites.get_by_id('ribflv_c')\n",
        "ser__L_c = nmodelo.metabolites.get_by_id('ser__L_c')\n",
        "so4_c = nmodelo.metabolites.get_by_id('so4_c')\n",
        "thr__L_c = nmodelo.metabolites.get_by_id('thr__L_c')\n",
        "tre_c = nmodelo.metabolites.get_by_id('tre_c')\n",
        "tyr__L_c = nmodelo.metabolites.get_by_id('tyr__L_c')\n",
        "ump_c = nmodelo.metabolites.get_by_id('ump_c')\n",
        "val__L_c = nmodelo.metabolites.get_by_id('val__L_c')\n",
        "BDglcn_c = nmodelo.metabolites.get_by_id('13BDglcn_c')\n",
        "ergst_c = nmodelo.metabolites.get_by_id('ergst_c')\n",
        "mannan_c = nmodelo.metabolites.get_by_id('mannan_c')\n",
        "pa_SC_c = nmodelo.metabolites.get_by_id('pa_SC_c')\n",
        "pc_SC_c = nmodelo.metabolites.get_by_id('pc_SC_c')\n",
        "pe_SC_c = nmodelo.metabolites.get_by_id('pe_SC_c')\n",
        "ps_SC_c = nmodelo.metabolites.get_by_id('pe_SC_c')\n",
        "ptd1ino_SC_c = nmodelo.metabolites.get_by_id('ptd1ino_SC_c')\n",
        "triglyc_SC_c = nmodelo.metabolites.get_by_id('triglyc_SC_c')\n",
        "zymst_c = nmodelo.metabolites.get_by_id('zymst_c')"
      ]
    },
    {
      "cell_type": "code",
      "execution_count": null,
      "metadata": {
        "id": "HSMtyAT-4URc",
        "colab": {
          "base_uri": "https://localhost:8080/"
        },
        "outputId": "d611ca8e-7aa8-4ace-9261-62f295484758"
      },
      "outputs": [
        {
          "output_type": "stream",
          "name": "stdout",
          "text": [
            "NNAM: h2o_c + ncam_c --> nac_c + nh4_c\n"
          ]
        }
      ],
      "source": [
        "#Reacao referente ao gene YGL037C (Nicotinamidase - citosol)  (essa celula adiciona ao modelo a reaçao, os metabolitos e o gene relacionado)\n",
        "nmodelo = Model('nmodelo')\n",
        "\n",
        "reacao01 = Reaction('NNAM')\n",
        "reacao01.name = 'Nicotinamidase'\n",
        "reacao01.subsystem = 'S_NAD_Biosynthesis'\n",
        "reacao01.lower_bound = 0.\n",
        "reacao01.upper_bound = 1000.\n",
        "\n",
        "reacao01.add_metabolites({\n",
        "    h2o_c: -1.0,\n",
        "    ncam_c: -1.0,\n",
        "    nac_c: 1.0,\n",
        "    nh4_c: 1.0\n",
        "})\n",
        "reacao01.gene_reaction_rule = ( 'YGL037C' )\n",
        "reacao01.genes\n",
        "print(reacao01)"
      ]
    },
    {
      "cell_type": "code",
      "execution_count": null,
      "metadata": {
        "id": "b-KCEc9yQToj",
        "colab": {
          "base_uri": "https://localhost:8080/"
        },
        "outputId": "71315374-acff-4830-dbcc-51df29fb45c6"
      },
      "outputs": [
        {
          "output_type": "stream",
          "name": "stdout",
          "text": [
            "NNDPR: co2_c + 2.0 h_c + prpp_c + quln_c --> nicrnt_c + ppi_c\n"
          ]
        }
      ],
      "source": [
        "#Reacao referente ao gene YFR047C (BNA6/QPT1)\n",
        "nmodelo = Model('nmodelo')\n",
        "\n",
        "reacao02 = Reaction('NNDPR')\n",
        "reacao02.name = 'Nicotinate-nucleotide diphosphorylase (carboxylating)'\n",
        "reacao02.subsystem = 'S_NAD_Biosynthesis'\n",
        "reacao02.lower_bound = 0.\n",
        "reacao02.upper_bound = 1000.\n",
        "\n",
        "reacao02.add_metabolites({\n",
        "    co2_c: -1.0,\n",
        "    h_c: -2.0,\n",
        "    nicrnt_c: 1.0,\n",
        "    ppi_c: 1.0,\n",
        "    prpp_c: -1.0,\n",
        "    quln_c: -1.0\n",
        "})\n",
        "reacao02.gene_reaction_rule = ( 'YFR047C' )\n",
        "reacao02.genes\n",
        "print(reacao02)\n",
        "nmodelo.add_reactions([reacao02])"
      ]
    },
    {
      "cell_type": "code",
      "execution_count": null,
      "metadata": {
        "id": "ec7-WeYpHU8u",
        "colab": {
          "base_uri": "https://localhost:8080/"
        },
        "outputId": "4a84fc71-dee3-4de6-b653-0f66e144eca4"
      },
      "outputs": [
        {
          "output_type": "stream",
          "name": "stdout",
          "text": [
            "2 reactions\n",
            "10 metabolites\n",
            "2 genes\n"
          ]
        }
      ],
      "source": [
        "#Adicionando a reaçao\n",
        "nmodelo.add_reactions([reacao01])\n",
        "print(f'{len(nmodelo.reactions)} reactions')\n",
        "print(f'{len(nmodelo.metabolites)} metabolites')\n",
        "print(f'{len(nmodelo.genes)} genes')"
      ]
    },
    {
      "cell_type": "code",
      "execution_count": null,
      "metadata": {
        "id": "q__Y9WAkbLIf",
        "colab": {
          "base_uri": "https://localhost:8080/"
        },
        "outputId": "355ad670-55d2-41d0-9250-386d6370f89d"
      },
      "outputs": [
        {
          "output_type": "stream",
          "name": "stdout",
          "text": [
            "RNMK: atp_c + rnam_c --> adp_c + h_c + nmn_c\n"
          ]
        }
      ],
      "source": [
        "#Reacao referente ao gene YNL129W (NRK1)\n",
        "nmodelo = Model('nmodelo')\n",
        "\n",
        "reacao03 = Reaction('RNMK')\n",
        "reacao03.name = 'Ribosylnicotinamide kinase'\n",
        "reacao03.subsystem = 'S_NAD_Biosynthesis'\n",
        "reacao03.lower_bound = 0.\n",
        "reacao03.upper_bound = 1.\n",
        "\n",
        "reacao03.add_metabolites({\n",
        "    atp_c: -1.0,\n",
        "    rnam_c: -1.0,\n",
        "    adp_c: 1.0,\n",
        "    h_c: 1.0,\n",
        "    nmn_c: 1.0,\n",
        "\n",
        "})\n",
        "reacao03.gene_reaction_rule = ( 'YNL129W' )\n",
        "reacao03.genes\n",
        "print(reacao03)"
      ]
    },
    {
      "cell_type": "code",
      "execution_count": null,
      "metadata": {
        "id": "w_dKF0u6qaYx",
        "colab": {
          "base_uri": "https://localhost:8080/"
        },
        "outputId": "c931f36f-f7e8-462d-d2c0-749f3b6ca55e"
      },
      "outputs": [
        {
          "output_type": "stream",
          "name": "stdout",
          "text": [
            "NMNAT: atp_c + h_c + nmn_c --> nad_c + ppi_c\n"
          ]
        }
      ],
      "source": [
        "#Reacao referente ao gene YGR010W (NMA2)\n",
        "nmodelo = Model('nmodelo')\n",
        "\n",
        "reacao04 = Reaction('NMNAT')\n",
        "reacao04.name = 'Nicotinamide-nucleotide adenylyltransferase'\n",
        "reacao04.subsystem = 'S_NAD_Biosynthesis'\n",
        "reacao04.lower_bound = 0.\n",
        "reacao04.upper_bound = 1000.\n",
        "\n",
        "reacao04.add_metabolites({\n",
        "    atp_c: -1.0,\n",
        "    nad_c: 1.0,\n",
        "    nmn_c: -1.0,\n",
        "    h_c: -1.0,\n",
        "    ppi_c: 1.0,\n",
        "\n",
        "})\n",
        "reacao04.gene_reaction_rule = ( 'YGR010W' )\n",
        "reacao04.genes\n",
        "print(reacao04)\n",
        "nmodelo.add_reactions([reacao04])"
      ]
    },
    {
      "cell_type": "code",
      "execution_count": null,
      "metadata": {
        "id": "RQJ3Y7se7TcL",
        "colab": {
          "base_uri": "https://localhost:8080/"
        },
        "outputId": "4829ed99-6db8-4f40-8ec8-4998ff46043c"
      },
      "outputs": [
        {
          "output_type": "stream",
          "name": "stdout",
          "text": [
            "NADN: h2o_c + nad_c --> adprib_c + h_c + ncam_c\n"
          ]
        }
      ],
      "source": [
        "#Reacao referente ao gene TEMQUEVER (SIR2)\n",
        "nmodelo = Model('nmodelo')\n",
        "\n",
        "reacao05 = Reaction('NADN')\n",
        "reacao05.name = 'NAD nucleosidase'\n",
        "reacao05.subsystem = 'S_NAD_Biosynthesis'\n",
        "reacao05.lower_bound = 0.\n",
        "reacao05.upper_bound = 1000.\n",
        "\n",
        "reacao05.add_metabolites({\n",
        "    adprib_c: 1.0,\n",
        "    h_c: 1.0,\n",
        "    h2o_c: -1.0,\n",
        "    nad_c: -1.0,\n",
        "    ncam_c: 1.0,\n",
        "\n",
        "})\n",
        "reacao05.gene_reaction_rule = ( 'TEMQUEVER' )\n",
        "reacao05.genes\n",
        "print(reacao05)\n",
        "nmodelo.add_reactions([reacao05])\n",
        "\n",
        "#Nao tem gene relacionado no bigg models ( http://bigg.ucsd.edu/models/iMM904/reactions/NADN)"
      ]
    },
    {
      "cell_type": "code",
      "execution_count": null,
      "metadata": {
        "id": "0MKUAxjkuhBW",
        "colab": {
          "base_uri": "https://localhost:8080/"
        },
        "outputId": "ea06a02e-264b-4096-fc55-0143ee392dfc"
      },
      "outputs": [
        {
          "output_type": "stream",
          "name": "stdout",
          "text": [
            "NADS1: atp_c + dnad_c + nh4_c --> amp_c + h_c + nad_c + ppi_c\n"
          ]
        }
      ],
      "source": [
        "#Reacao referente ao gene YHR074W (QNS1)\n",
        "nmodelo = Model('nmodelo')\n",
        "\n",
        "reacao06 = Reaction('NADS1')\n",
        "reacao06.name = 'NAD synthase (nh3)'\n",
        "reacao06.subsystem = 'S_NAD_Biosynthesis'\n",
        "reacao06.lower_bound = 0.\n",
        "reacao06.upper_bound = 1000.\n",
        "\n",
        "reacao06.add_metabolites({\n",
        "    atp_c: -1.0,\n",
        "    dnad_c: -1.0,\n",
        "    nh4_c: -1.0,\n",
        "    amp_c: 1.0,\n",
        "    h_c: 1.0,\n",
        "    nad_c: 1.0,\n",
        "    ppi_c: 1.0\n",
        "\n",
        "})\n",
        "reacao06.gene_reaction_rule = ( 'YHR074W' )\n",
        "reacao06.genes\n",
        "print(reacao06)\n",
        "nmodelo.add_reactions([reacao06])"
      ]
    },
    {
      "cell_type": "code",
      "execution_count": null,
      "metadata": {
        "id": "G3a7jifFOeex",
        "colab": {
          "base_uri": "https://localhost:8080/"
        },
        "outputId": "ecf8c477-0226-4721-e342-690c99ca9392"
      },
      "outputs": [
        {
          "output_type": "stream",
          "name": "stdout",
          "text": [
            "PNP: pi_c + rnam_c --> h_c + ncam_c + r1p_c\n"
          ]
        }
      ],
      "source": [
        "#Reacao referente ao gene NAODIZ (PNP1)\n",
        "nmodelo = Model('nmodelo')\n",
        "\n",
        "reacao07 = Reaction('PNP')\n",
        "reacao07.name = 'Purine nucleoside phosphorylase'\n",
        "reacao07.subsystem = 'S_NAD_Biosynthesis'\n",
        "reacao07.lower_bound = 0.\n",
        "reacao07.upper_bound = 1000.\n",
        "\n",
        "reacao07.add_metabolites({\n",
        "      pi_c: -1.0,\n",
        "    rnam_c: -1.0,\n",
        "    h_c: 1.0,\n",
        "    ncam_c: 1.0,\n",
        "    r1p_c: 1.0,\n",
        "\n",
        "\n",
        "})\n",
        "reacao07.gene_reaction_rule = ( 'PNP' )\n",
        "reacao07.genes\n",
        "print(reacao07)\n",
        "nmodelo.add_reactions([reacao07])"
      ]
    },
    {
      "cell_type": "code",
      "execution_count": null,
      "metadata": {
        "id": "vw47Hu3IUtpI",
        "colab": {
          "base_uri": "https://localhost:8080/"
        },
        "outputId": "614366da-61ee-479e-ec8d-0fd66d01fb28"
      },
      "outputs": [
        {
          "output_type": "stream",
          "name": "stdout",
          "text": [
            "NNATr: atp_c + h_c + nicrnt_c --> dnad_c + ppi_c\n"
          ]
        }
      ],
      "source": [
        "#Reacao referente ao gene YLR328W (NMA1) -- \tR03005\n",
        "nmodelo = Model('nmodelo')\n",
        "\n",
        "reacao08 = Reaction('NNATr')\n",
        "reacao08.name = 'Nicotinate-nucleotide adenylyltransferase'\n",
        "reacao08.subsystem = 'S_NAD_Biosynthesis'\n",
        "reacao08.lower_bound = 0.\n",
        "reacao08.upper_bound = 1000.\n",
        "\n",
        "reacao08.add_metabolites({\n",
        "      atp_c: -1.0,\n",
        "    nicrnt_c: -1.0,\n",
        "    h_c: -1.0,\n",
        "    dnad_c: 1.0,\n",
        "    ppi_c: 1.0\n",
        "\n",
        "})\n",
        "reacao08.gene_reaction_rule = ( 'YLR328W' )\n",
        "reacao08.genes\n",
        "print(reacao08)\n",
        "nmodelo.add_reactions([reacao08])"
      ]
    },
    {
      "cell_type": "code",
      "execution_count": null,
      "metadata": {
        "id": "esjdXYgo6zxM",
        "colab": {
          "base_uri": "https://localhost:8080/"
        },
        "outputId": "a6f239ff-c2a6-4876-cf18-7569f0c34672"
      },
      "outputs": [
        {
          "output_type": "stream",
          "name": "stdout",
          "text": [
            "NNATr2: atp_c + h_c + nicrnt_c --> dnad_c + ppi_c\n"
          ]
        }
      ],
      "source": [
        "#Reacao referente ao gene YCL047C (POF1)\n",
        "nmodelo = Model('nmodelo')\n",
        "\n",
        "reacao082 = Reaction('NNATr2')\n",
        "reacao082.name = 'Nicotinate-nucleotide adenylyltransferase'\n",
        "reacao082.subsystem = 'S_NAD_Biosynthesis'\n",
        "reacao082.lower_bound = 0.\n",
        "reacao082.upper_bound = 1000.\n",
        "\n",
        "reacao082.add_metabolites({\n",
        "      atp_c: -1.0,\n",
        "    nicrnt_c: -1.0,\n",
        "    h_c: -1.0,\n",
        "    dnad_c: 1.0,\n",
        "    ppi_c: 1.0\n",
        "\n",
        "})\n",
        "reacao082.gene_reaction_rule = ( 'YCL047C' )\n",
        "reacao082.genes\n",
        "print(reacao082)\n",
        "nmodelo.add_reactions([reacao082])"
      ]
    },
    {
      "cell_type": "code",
      "execution_count": null,
      "metadata": {
        "id": "6FTqvzFuvSQz",
        "colab": {
          "base_uri": "https://localhost:8080/"
        },
        "outputId": "600408b2-8af2-4e70-edf5-bce16da228df"
      },
      "outputs": [
        {
          "output_type": "stream",
          "name": "stdout",
          "text": [
            "NNATr2: atp_c + h_c + nicrnt_c --> dnad_c + ppi_c\n"
          ]
        }
      ],
      "source": [
        "#Reacao referente ao gene YCL047C (POF1)\n",
        "# adicionando a reaçao da pof1 mais vezes para ela ter maior impacto no mapa\n",
        "nmodelo = Model('nmodelo')\n",
        "\n",
        "reacao082 = Reaction('NNATr2')\n",
        "reacao082.name = 'Nicotinate-nucleotide adenylyltransferase'\n",
        "reacao082.subsystem = 'S_NAD_Biosynthesis'\n",
        "reacao082.lower_bound = 0.\n",
        "reacao082.upper_bound = 1000.\n",
        "\n",
        "reacao082.add_metabolites({\n",
        "      atp_c: -1.0,\n",
        "    nicrnt_c: -1.0,\n",
        "    h_c: -1.0,\n",
        "    dnad_c: 1.0,\n",
        "    ppi_c: 1.0\n",
        "\n",
        "})\n",
        "reacao082.gene_reaction_rule = ( 'YCL047C' )\n",
        "reacao082.genes\n",
        "print(reacao082)\n",
        "nmodelo.add_reactions([reacao082])"
      ]
    },
    {
      "cell_type": "code",
      "execution_count": null,
      "metadata": {
        "id": "xbWUcaXPvTOr",
        "colab": {
          "base_uri": "https://localhost:8080/"
        },
        "outputId": "c16c2c3b-f2be-4a31-b687-c83311c13421"
      },
      "outputs": [
        {
          "output_type": "stream",
          "name": "stdout",
          "text": [
            "NNATr2: atp_c + h_c + nicrnt_c --> dnad_c + ppi_c\n"
          ]
        }
      ],
      "source": [
        "#Reacao referente ao gene YCL047C (POF1)\n",
        "# adicionando a reaçao da pof1 mais vezes para ela ter maior impacto no mapa\n",
        "nmodelo = Model('nmodelo')\n",
        "\n",
        "reacao082 = Reaction('NNATr2')\n",
        "reacao082.name = 'Nicotinate-nucleotide adenylyltransferase'\n",
        "reacao082.subsystem = 'S_NAD_Biosynthesis'\n",
        "reacao082.lower_bound = 0.\n",
        "reacao082.upper_bound = 1000.\n",
        "\n",
        "reacao082.add_metabolites({\n",
        "      atp_c: -1.0,\n",
        "    nicrnt_c: -1.0,\n",
        "    h_c: -1.0,\n",
        "    dnad_c: 1.0,\n",
        "    ppi_c: 1.0\n",
        "\n",
        "})\n",
        "reacao082.gene_reaction_rule = ( 'YCL047C' )\n",
        "reacao082.genes\n",
        "print(reacao082)\n",
        "nmodelo.add_reactions([reacao082])"
      ]
    },
    {
      "cell_type": "code",
      "execution_count": null,
      "metadata": {
        "id": "BQoE45fz9Eks",
        "colab": {
          "base_uri": "https://localhost:8080/"
        },
        "outputId": "2ac1728f-f792-43a4-c30c-eb05ed9c26a3"
      },
      "outputs": [
        {
          "output_type": "stream",
          "name": "stdout",
          "text": [
            "NNATr3: atp_c + h_c + nicrnt_c --> dnad_c + ppi_c\n"
          ]
        }
      ],
      "source": [
        "#Reacao referente ao gene YGR010W (NMA2)\n",
        "nmodelo = Model('nmodelo')\n",
        "\n",
        "reacao083 = Reaction('NNATr3')\n",
        "reacao083.name = 'Nicotinate-nucleotide adenylyltransferase'\n",
        "reacao083.subsystem = 'S_NAD_Biosynthesis'\n",
        "reacao083.lower_bound = 0.\n",
        "reacao083.upper_bound = 1000.\n",
        "\n",
        "reacao083.add_metabolites({\n",
        "      atp_c: -1.0,\n",
        "    nicrnt_c: -1.0,\n",
        "    h_c: -1.0,\n",
        "    dnad_c: 1.0,\n",
        "    ppi_c: 1.0\n",
        "\n",
        "})\n",
        "reacao083.gene_reaction_rule = ( 'YGR010W' )\n",
        "reacao083.genes\n",
        "print(reacao083)\n",
        "nmodelo.add_reactions([reacao083])"
      ]
    },
    {
      "cell_type": "code",
      "execution_count": null,
      "metadata": {
        "id": "BF1RN0HSWWig",
        "colab": {
          "base_uri": "https://localhost:8080/"
        },
        "outputId": "a0e02ff3-91ad-4c9d-b4dd-8be5727e3f98"
      },
      "outputs": [
        {
          "output_type": "stream",
          "name": "stdout",
          "text": [
            "NAPRT: h_c + nac_c + prpp_c --> nicrnt_c + ppi_c\n"
          ]
        }
      ],
      "source": [
        "#Reacao referente ao gene YOR209C (NPT1)\n",
        "nmodelo = Model('nmodelo')\n",
        "\n",
        "reacao09 = Reaction('NAPRT')\n",
        "reacao09.name = 'NAPRTase (rev)'\n",
        "reacao09.subsystem = 'S_NAD_Biosynthesis'\n",
        "reacao09.lower_bound = 0.\n",
        "reacao09.upper_bound = 1000.\n",
        "\n",
        "reacao09.add_metabolites({\n",
        "      prpp_c: -1.0,\n",
        "    nac_c: -1.0,\n",
        "    h_c: -1.0,\n",
        "    nicrnt_c: 1.0,\n",
        "    ppi_c: 1.0\n",
        "\n",
        "})\n",
        "reacao09.gene_reaction_rule = ( 'YOR209C' )\n",
        "reacao09.genes\n",
        "print(reacao09)\n",
        "nmodelo.add_reactions([reacao09])"
      ]
    },
    {
      "cell_type": "code",
      "execution_count": null,
      "metadata": {
        "id": "jw_AD9xQbtCd",
        "colab": {
          "base_uri": "https://localhost:8080/"
        },
        "outputId": "c96e024f-0d31-4531-dcd7-47fd3288a8fe"
      },
      "outputs": [
        {
          "output_type": "stream",
          "name": "stdout",
          "text": [
            "NACt: nac_e --> nac_c\n"
          ]
        }
      ],
      "source": [
        "#Reacao referente ao gene YGR260W (TNA1)\n",
        "nmodelo = Model('nmodelo')\n",
        "\n",
        "reacao10 = Reaction('NACt')\n",
        "reacao10.name = 'Nicotinic acid transport'\n",
        "reacao10.subsystem = 'S_Transport__Extracellular'\n",
        "reacao10.lower_bound = 0.\n",
        "reacao10.upper_bound = 1000.\n",
        "\n",
        "reacao10.add_metabolites({\n",
        "      nac_e: -1.0,\n",
        "    nac_c: 1.0,\n",
        "\n",
        "\n",
        "})\n",
        "reacao10.gene_reaction_rule = ( 'YGR260W' )\n",
        "reacao10.genes\n",
        "print(reacao10)\n",
        "nmodelo.add_reactions([reacao10])"
      ]
    },
    {
      "cell_type": "code",
      "execution_count": null,
      "metadata": {
        "id": "81l3sbSJdul2",
        "colab": {
          "base_uri": "https://localhost:8080/"
        },
        "outputId": "379d3ba7-36cb-4c8e-b237-e6884e028687"
      },
      "outputs": [
        {
          "output_type": "stream",
          "name": "stdout",
          "text": [
            "1577 reactions\n",
            "1226 metabolites\n",
            "905 genes\n"
          ]
        }
      ],
      "source": [
        "#Quantidade de genes, reaçoes e metabolitos tem ate agora no modelo -- o aviso de que as reacoes ja existem acontece quando vc executa mais de uma vez a celula, mas executando apenas 1x ele vai avisar que ja existe apenas a ultima (NACt)\n",
        "nmodelo = copy.deepcopy(modelo)\n",
        "\n",
        "print(f'{len(nmodelo.reactions)} reactions')\n",
        "print(f'{len(nmodelo.metabolites)} metabolites')\n",
        "print(f'{len(nmodelo.genes)} genes')\n",
        "\n",
        "#AS CÉLULAS ACIMA FORAM ALTERADAS DO MEU TESTE INICIAL -- ESTOU TENTANDO RESOLVER O PROBLEMA DO \"SUMIÇO\" DAS REAÇOES NO MODELO; ACREDITO QUE ESSAS 10 REAÇOES JA FAZEM PARTE DO MODELO POR ESTAREM DESCRITAS NO BIGG MODELS"
      ]
    },
    {
      "cell_type": "markdown",
      "metadata": {
        "id": "g_EN_B7gyka0"
      },
      "source": [
        "\n",
        "\n",
        "---\n",
        "\n",
        "\n",
        "**Criando reações que não estavam descritas no Bigg**\n",
        "---\n",
        "\n",
        "[Como criar reações que não estam descritas no bigg models e adicioná-las ao\n",
        "modelo](https://cobrapy.readthedocs.io/en/latest/building_model.html)\n",
        "\n",
        "\n",
        "\n",
        "---\n",
        "\n"
      ]
    },
    {
      "cell_type": "code",
      "execution_count": null,
      "metadata": {
        "id": "k4UPQZlTlpul"
      },
      "outputs": [],
      "source": [
        "#Lista de novos metabolitos, nao descritos no Bigg Models\n",
        "h3po4_c = Metabolite(\n",
        "    'h3po4_c',\n",
        "    formula='H3PO4',\n",
        "    name='Orthophosphate',\n",
        "    compartment='c')\n",
        "nar_c = Metabolite(\n",
        "    'nar_c',\n",
        "    formula= 'C11H15NO9P',\n",
        "    name= 'Nicotinate D-ribonucleotide',\n",
        "    compartment= 'c')\n",
        "rib_c = Metabolite(\n",
        "    'rib_c',\n",
        "    formula= 'C5H10O5',\n",
        "    name= 'D-Ribose',\n",
        "    compartment = 'c'\n",
        ")\n",
        "rnam_e = Metabolite(\n",
        "    'rnam_e',\n",
        "    formula= 'C11H15N2O5',\n",
        "    name= 'N Ribosylnicotinamide',\n",
        "    compartment = 'e'\n",
        ")\n",
        "trp__L_c = Metabolite(\n",
        "    'trp__L_c',\n",
        "    formula= 'C11H12N2O2',\n",
        "    name= 'Tryptophan',\n",
        "    compartment= 'c'\n",
        ")\n",
        "frmt_c = Metabolite(\n",
        "    'frmt_c',\n",
        "    formula= 'CH2O2',\n",
        "    name= 'Formic acid',\n",
        "    compartment= 'c'\n",
        ")\n",
        "\n"
      ]
    },
    {
      "cell_type": "code",
      "execution_count": null,
      "metadata": {
        "id": "nmaTz_vufi6t",
        "colab": {
          "base_uri": "https://localhost:8080/"
        },
        "outputId": "a5e210ee-89a1-4bee-f497-a9438d3cb142"
      },
      "outputs": [
        {
          "output_type": "stream",
          "name": "stdout",
          "text": [
            "R02323: h2o_c + nmn_c --> h3po4_c + rnam_c\n"
          ]
        }
      ],
      "source": [
        "#Criando a reação do gene YGL224C (SDT1)\n",
        "nmodelo = Model('nmodelo')\n",
        "\n",
        "reacao11 = Reaction('R02323')\n",
        "reacao11.name = 'nicotinamide ribonucleotide phosphohydrolase'\n",
        "reacao11.subsystem = 'Nucleotidase'\n",
        "reacao11.lower_bound = 0.\n",
        "reacao11.upper_bound = 1.\n",
        "\n",
        "reacao11.add_metabolites({\n",
        "      nmn_c: -1.0,\n",
        "    h2o_c: -1.0,\n",
        "      h3po4_c: 1.0,\n",
        "      rnam_c: 1.0\n",
        "\n",
        "\n",
        "\n",
        "})\n",
        "reacao11.gene_reaction_rule = ( 'YGL224C' )\n",
        "reacao11.genes\n",
        "print(reacao11)"
      ]
    },
    {
      "cell_type": "code",
      "execution_count": null,
      "metadata": {
        "id": "YpI-EDSs1bxc",
        "colab": {
          "base_uri": "https://localhost:8080/"
        },
        "outputId": "db7c4509-f5fb-42e7-a091-63a72a6fdd7c"
      },
      "outputs": [
        {
          "output_type": "stream",
          "name": "stdout",
          "text": [
            "R02323: h2o_c + nmn_c --> h3po4_c + rnam_c\n"
          ]
        }
      ],
      "source": [
        "#Criando a reação do gene K18550  (Isn1)\n",
        "nmodelo = Model('nmodelo')\n",
        "\n",
        "reacao112 = Reaction('R02323')\n",
        "reacao112.name = 'nicotinamide ribonucleotide phosphohydrolase'\n",
        "reacao112.subsystem = 'Nucleotidase'\n",
        "reacao112.lower_bound = 0.\n",
        "reacao112.upper_bound = 1.\n",
        "\n",
        "reacao112.add_metabolites({\n",
        "      nmn_c: -1.0,\n",
        "    h2o_c: -1.0,\n",
        "      h3po4_c: 1.0,\n",
        "      rnam_c: 1.0\n",
        "\n",
        "\n",
        "\n",
        "})\n",
        "reacao112.gene_reaction_rule = ( 'K18550' )\n",
        "reacao112.genes\n",
        "print(reacao112)"
      ]
    },
    {
      "cell_type": "code",
      "execution_count": null,
      "metadata": {
        "id": "1pinCYO6zHHz",
        "colab": {
          "base_uri": "https://localhost:8080/"
        },
        "outputId": "47c6cbe3-d1f0-4086-9ba6-c78a4c630d3c"
      },
      "outputs": [
        {
          "output_type": "stream",
          "name": "stdout",
          "text": [
            "R03346: h3po4_c + nicrnt_c --> h2o_c + nar_c\n"
          ]
        }
      ],
      "source": [
        "#Criando a reação do gene YGL224C (SDT1)\n",
        "nmodelo = Model('nmodelo')\n",
        "\n",
        "reacao12 = Reaction('R03346')\n",
        "reacao12.name = 'nicotinate D-ribonucleotide phosphohydrolase'\n",
        "reacao12.subsystem = 'phosphohydrolase'\n",
        "reacao12.lower_bound = 0.\n",
        "reacao12.upper_bound = 1000.\n",
        "\n",
        "reacao12.add_metabolites({\n",
        "      nicrnt_c: -1.0,\n",
        "    h3po4_c: -1.0,\n",
        "      h2o_c: 1.0,\n",
        "      nar_c: 1.0\n",
        "\n",
        "\n",
        "\n",
        "})\n",
        "reacao12.gene_reaction_rule = ( 'YGL224C' )\n",
        "reacao12.genes\n",
        "print(reacao12)\n",
        "nmodelo.add_reactions([reacao12])"
      ]
    },
    {
      "cell_type": "code",
      "execution_count": null,
      "metadata": {
        "id": "G7u0VDWQ1iVT",
        "colab": {
          "base_uri": "https://localhost:8080/"
        },
        "outputId": "3123da15-1613-4da8-8889-146f39408d31"
      },
      "outputs": [
        {
          "output_type": "stream",
          "name": "stdout",
          "text": [
            "R01273: h2o_c + rnam_c --> ncam_c + rib_c\n"
          ]
        }
      ],
      "source": [
        "#Criando a reação do gene YDR400W (URH1)\n",
        "nmodelo = Model('nmodelo')\n",
        "\n",
        "reacao13 = Reaction('R01273')\n",
        "reacao13.name = 'N-ribosylnicotinamide ribohydrolase'\n",
        "reacao13.subsystem = 'ribohydrolase'\n",
        "reacao13.lower_bound = 0.\n",
        "reacao13.upper_bound = 1000.\n",
        "\n",
        "reacao13.add_metabolites({\n",
        "      rnam_c: -1.0,\n",
        "    h2o_c: -1.0,\n",
        "    ncam_c: 1.0,\n",
        "    rib_c: 1.0,\n",
        "\n",
        "})\n",
        "reacao13.gene_reaction_rule = ( 'YDR400W' )\n",
        "reacao13.genes\n",
        "print(reacao13)\n",
        "nmodelo.add_reactions([reacao13])"
      ]
    },
    {
      "cell_type": "code",
      "execution_count": null,
      "metadata": {
        "id": "VB0aQxiQ-TtV",
        "colab": {
          "base_uri": "https://localhost:8080/"
        },
        "outputId": "1443624f-ddc5-4d5c-d567-32e67aa45111"
      },
      "outputs": [
        {
          "output_type": "stream",
          "name": "stdout",
          "text": [
            "R01273.2: h2o_c + rnam_c --> ncam_c + rib_c\n"
          ]
        }
      ],
      "source": [
        "#Criando a reação do gene K03783 (PNP1)\n",
        "nmodelo = Model('nmodelo')\n",
        "\n",
        "reacao132 = Reaction('R01273.2')\n",
        "reacao132.name = 'N-ribosylnicotinamide ribohydrolase'\n",
        "reacao132.subsystem = 'ribohydrolase'\n",
        "reacao132.lower_bound = 0.\n",
        "reacao132.upper_bound = 1000.\n",
        "\n",
        "reacao132.add_metabolites({\n",
        "    rnam_c: -1.0,\n",
        "    h2o_c: -1.0,\n",
        "    ncam_c: 1.0,\n",
        "    rib_c: 1.0,\n",
        "\n",
        "})\n",
        "reacao132.gene_reaction_rule = ( 'K03783' )\n",
        "reacao132.genes\n",
        "print(reacao132)\n",
        "nmodelo.add_reactions([reacao132])"
      ]
    },
    {
      "cell_type": "code",
      "execution_count": null,
      "metadata": {
        "id": "wOvlAsMk7pjS",
        "colab": {
          "base_uri": "https://localhost:8080/"
        },
        "outputId": "8d7f12d5-0fb1-4a66-9047-d7889a586b1a"
      },
      "outputs": [
        {
          "output_type": "stream",
          "name": "stdout",
          "text": [
            "R10046: h2o_c + nar_c --> nac_c + rib_c\n"
          ]
        }
      ],
      "source": [
        "#Criando a reação do gene YDR400W (URH1)\n",
        "nmodelo = Model('nmodelo')\n",
        "\n",
        "reacao14 = Reaction('R10046')\n",
        "reacao14.name = 'Nicotinate D-ribonucleoside ribohydrolase'\n",
        "reacao14.subsystem = 'ribohydrolase'\n",
        "reacao14.lower_bound = 0.\n",
        "reacao14.upper_bound = 1000.\n",
        "\n",
        "reacao14.add_metabolites({\n",
        "      nar_c: -1.0,\n",
        "    h2o_c: -1.0,\n",
        "    nac_c: 1.0,\n",
        "    rib_c: 1.0,\n",
        "\n",
        "})\n",
        "reacao14.gene_reaction_rule = ( 'YDR400W' )\n",
        "reacao14.genes\n",
        "print(reacao14)\n",
        "nmodelo.add_reactions([reacao14])"
      ]
    },
    {
      "cell_type": "code",
      "execution_count": null,
      "metadata": {
        "id": "q2fTVgdc-UkQ",
        "colab": {
          "base_uri": "https://localhost:8080/"
        },
        "outputId": "9268c91e-ce9c-4234-e456-1232c5f85237"
      },
      "outputs": [
        {
          "output_type": "stream",
          "name": "stdout",
          "text": [
            "R03347: adp_c + nar_c --> atp_c + nicrnt_c\n"
          ]
        }
      ],
      "source": [
        "#Criando a reação do gene YNL129W (NRK1)\n",
        "nmodelo = Model('nmodelo')\n",
        "\n",
        "reacao15 = Reaction('R03347')\n",
        "reacao15.name = 'ATP:beta-D-ribosylnicotinate 5-phosphotransferase'\n",
        "reacao15.subsystem = 'Phosphotransferase'\n",
        "reacao15.lower_bound = 0.\n",
        "reacao15.upper_bound = 1000.\n",
        "\n",
        "reacao15.add_metabolites({\n",
        "      nar_c: -1.0,\n",
        "    adp_c: -1.0,\n",
        "    nicrnt_c: 1.0,\n",
        "    atp_c: 1.0,\n",
        "\n",
        "})\n",
        "reacao15.gene_reaction_rule = ( 'YNL129W' )\n",
        "reacao15.genes\n",
        "print(reacao15)\n",
        "nmodelo.add_reactions([reacao15])"
      ]
    },
    {
      "cell_type": "code",
      "execution_count": null,
      "metadata": {
        "id": "WU5P3kKp5BZu",
        "colab": {
          "base_uri": "https://localhost:8080/"
        },
        "outputId": "042959bb-25fa-4d2c-b447-397eab39c5be"
      },
      "outputs": [
        {
          "output_type": "stream",
          "name": "stdout",
          "text": [
            "Nr_intake: rnam_e --> rnam_c\n"
          ]
        }
      ],
      "source": [
        "#Criando a reação do gene YOR071C (NRT11)\n",
        "nmodelo = Model('nmodelo')\n",
        "\n",
        "reacao16_2 = Reaction('Nr_intake')\n",
        "reacao16_2.name = 'Transporte extracel-intracel'\n",
        "reacao16_2.subsystem = 'Transporte intramemb'\n",
        "reacao16_2.lower_bound = 0.\n",
        "reacao16_2.upper_bound = 1000.\n",
        "\n",
        "reacao16_2.add_metabolites({\n",
        "      rnam_e: -1.0,\n",
        "    rnam_c: 1.0\n",
        "\n",
        "})\n",
        "reacao16_2.gene_reaction_rule = ( 'YOR071C' )\n",
        "reacao16_2.genes\n",
        "print(reacao16_2)"
      ]
    },
    {
      "cell_type": "code",
      "source": [],
      "metadata": {
        "id": "ofuRzwGrGX2b"
      },
      "execution_count": null,
      "outputs": []
    },
    {
      "cell_type": "code",
      "execution_count": null,
      "metadata": {
        "id": "MyCoNkEWPC1p",
        "colab": {
          "base_uri": "https://localhost:8080/"
        },
        "outputId": "ad1f205a-1986-4ee4-8846-34fbcab9464c"
      },
      "outputs": [
        {
          "output_type": "stream",
          "name": "stdout",
          "text": [
            "TRPO2: o2_c + trp__L_c --> Lfmkynr_c\n"
          ]
        }
      ],
      "source": [
        "#Criando a reação do gene YJR078W (BNA2) -- COMEÇANDO A ADICIONAR A VIA DE SINTESE DE NOVO DO TRIPTOFANO\n",
        "nmodelo = Model('nmodelo')\n",
        "\n",
        "reacao17 = Reaction('TRPO2')\n",
        "reacao17.name = 'L Tryptophanoxygen 2 3 oxidoreductase decyclizing'\n",
        "reacao17.subsystem = 'S_Tyrosine__Tryptophan__and_Phenylalanine_Metabolism'\n",
        "reacao17.lower_bound = 0.\n",
        "reacao17.upper_bound = 1000.\n",
        "\n",
        "reacao17.add_metabolites({\n",
        "      o2_c: -1.0,\n",
        "    trp__L_c: -1.0,\n",
        "      Lfmkynr_c: 1.0\n",
        "\n",
        "})\n",
        "reacao17.gene_reaction_rule = ( 'YJR078W' )\n",
        "reacao17.genes\n",
        "print(reacao17)"
      ]
    },
    {
      "cell_type": "code",
      "execution_count": null,
      "metadata": {
        "id": "LPhWBJCXRuZn",
        "colab": {
          "base_uri": "https://localhost:8080/"
        },
        "outputId": "4dc91fc1-03d2-46da-a2de-07a0388815f6"
      },
      "outputs": [
        {
          "output_type": "stream",
          "name": "stdout",
          "text": [
            "FKYNH: Lfmkynr_c + h2o_c --> Lkynr_c + for_c + h_c\n"
          ]
        }
      ],
      "source": [
        "#Criando a reação do gene NAOFALA (BNA7)\n",
        "nmodelo = Model('nmodelo')\n",
        "\n",
        "reacao18 = Reaction('FKYNH')\n",
        "reacao18.name = 'N Formyl L kynurenine amidohydrolase'\n",
        "reacao18.subsystem = 'S_Tyrosine__Tryptophan__and_Phenylalanine_Metabolism'\n",
        "reacao18.lower_bound = 0.\n",
        "reacao18.upper_bound = 1000.\n",
        "\n",
        "reacao18.add_metabolites({\n",
        "      h2o_c: -1.0,\n",
        "    Lfmkynr_c: -1.0,\n",
        "      for_c: 1.0,\n",
        "      h_c: 1.0,\n",
        "      Lkynr_c: 1.0\n",
        "\n",
        "})\n",
        "reacao18.gene_reaction_rule = ( 'NAOFALA' )\n",
        "reacao18.genes\n",
        "print(reacao18)"
      ]
    },
    {
      "cell_type": "code",
      "execution_count": null,
      "metadata": {
        "id": "641UgY2bliY4",
        "colab": {
          "base_uri": "https://localhost:8080/"
        },
        "outputId": "fde15251-be2d-4869-8447-5616c3e587e0"
      },
      "outputs": [
        {
          "output_type": "stream",
          "name": "stdout",
          "text": [
            "NR_salvage: rnam_e --> rnam_c\n"
          ]
        }
      ],
      "source": [
        "#Criando a reação do gene YAL022C (FUN26)\n",
        "nmodelo = Model('nmodelo')\n",
        "\n",
        "reacaox= Reaction('NR_salvage')\n",
        "reacaox.name = 'N Formyl L kynurenine amidohydrolase'\n",
        "reacaox.subsystem = 'S_Tyrosine__Tryptophan__and_Phenylalanine_Metabolism'\n",
        "reacaox.lower_bound = 0.\n",
        "reacaox.upper_bound = 1000.\n",
        "\n",
        "reacaox.add_metabolites({\n",
        "      rnam_e: -1.0,\n",
        "    rnam_c: 1.0,\n",
        "      })\n",
        "reacaox.gene_reaction_rule = ( 'YAL022C' )\n",
        "reacaox.genes\n",
        "print(reacaox)"
      ]
    },
    {
      "cell_type": "code",
      "execution_count": null,
      "metadata": {
        "id": "ZDkigfIXpJtA",
        "colab": {
          "base_uri": "https://localhost:8080/"
        },
        "outputId": "e442887f-ea22-4b76-d300-22188d0edf18"
      },
      "outputs": [
        {
          "output_type": "stream",
          "name": "stdout",
          "text": [
            "KYN3OX: Lkynr_c + h_c + nadph_c + o2_c --> h2o_c + hLkynr_c + nadp_c\n"
          ]
        }
      ],
      "source": [
        "#Criando a reação do gene YBL098W (BNA4)\n",
        "nmodelo = Model('nmodelo')\n",
        "\n",
        "reacao19 = Reaction('KYN3OX')\n",
        "reacao19.name = 'Kynurenine 3 monooxygenase'\n",
        "reacao19.subsystem = 'S_Tyrosine__Tryptophan__and_Phenylalanine_Metabolism'\n",
        "reacao19.lower_bound = 0.\n",
        "reacao19.upper_bound = 1000.\n",
        "\n",
        "reacao19.add_metabolites({\n",
        "      nadph_c: -1.0,\n",
        "      o2_c: -1.0,\n",
        "      h_c: -1.0,\n",
        "      Lkynr_c: -1.0,\n",
        "      h2o_c: 1.0,\n",
        "      nadp_c: 1.0,\n",
        "      hLkynr_c: 1.0\n",
        "\n",
        "})\n",
        "reacao19.gene_reaction_rule = ( 'YBL098W' )\n",
        "reacao19.genes\n",
        "print(reacao19)"
      ]
    },
    {
      "cell_type": "code",
      "execution_count": null,
      "metadata": {
        "id": "RQ8pCC-swbXO",
        "colab": {
          "base_uri": "https://localhost:8080/"
        },
        "outputId": "04d2c8ad-09dd-498d-bf7b-8208cc7cebc7"
      },
      "outputs": [
        {
          "output_type": "stream",
          "name": "stdout",
          "text": [
            "HKYNH: h2o_c + hLkynr_c --> 3hanthrn_c + ala__L_c\n"
          ]
        }
      ],
      "source": [
        "#Criando a reação do gene YLR231C (BNA5)\n",
        "nmodelo = Model('nmodelo')\n",
        "\n",
        "reacao20 = Reaction('HKYNH')\n",
        "reacao20.name = '3 Hydroxy L kynurenine hydrolase'\n",
        "reacao20.subsystem = 'S_Tyrosine__Tryptophan__and_Phenylalanine_Metabolism'\n",
        "reacao20.lower_bound = 0.\n",
        "reacao20.upper_bound = 1000.\n",
        "\n",
        "reacao20.add_metabolites({\n",
        "      h2o_c: -1.0,\n",
        "      hLkynr_c: -1.0,\n",
        "      ala__L_c: 1.0,\n",
        "      hanthrn_c: 1.0\n",
        "\n",
        "})\n",
        "reacao20.gene_reaction_rule = ( 'YLR231C' )\n",
        "reacao20.genes\n",
        "print(reacao20)"
      ]
    },
    {
      "cell_type": "code",
      "execution_count": null,
      "metadata": {
        "id": "tYAAKktwzxmM",
        "colab": {
          "base_uri": "https://localhost:8080/"
        },
        "outputId": "81fd98d1-1448-4c3f-9cf6-b43b4278d77a"
      },
      "outputs": [
        {
          "output_type": "stream",
          "name": "stdout",
          "text": [
            "3HAO: 3hanthrn_c + o2_c --> cmusa_c + h_c\n"
          ]
        }
      ],
      "source": [
        "#Criando a reação do gene YJR025C (BNA1)\n",
        "nmodelo = Model('nmodelo')\n",
        "\n",
        "reacao21 = Reaction('3HAO')\n",
        "reacao21.name = '3 hydroxyanthranilate 3 4 dioxygenase'\n",
        "reacao21.subsystem = 'S_Tyrosine__Tryptophan__and_Phenylalanine_Metabolism'\n",
        "reacao21.lower_bound = 0.\n",
        "reacao21.upper_bound = 1000.\n",
        "\n",
        "reacao21.add_metabolites({\n",
        "      o2_c: -1.0,\n",
        "      hanthrn_c: -1.0,\n",
        "      h_c: 1.0,\n",
        "      cmusa_c: 1.0\n",
        "\n",
        "})\n",
        "reacao21.gene_reaction_rule = ( 'YJR025C' )\n",
        "reacao21.genes\n",
        "print(reacao21)"
      ]
    },
    {
      "cell_type": "code",
      "execution_count": null,
      "metadata": {
        "id": "DIkIisWI09Lc",
        "colab": {
          "base_uri": "https://localhost:8080/"
        },
        "outputId": "3139c8fa-6304-42de-872b-45de1b91e5f4"
      },
      "outputs": [
        {
          "output_type": "stream",
          "name": "stdout",
          "text": [
            "QUILSYN: cmusa_c + h_c --> h2o_c + quln_c\n"
          ]
        }
      ],
      "source": [
        "#Criando a reação do gene R04293 (Espontaneo)\n",
        "nmodelo = Model('nmodelo')\n",
        "\n",
        "reacao22 = Reaction('QUILSYN')\n",
        "reacao22.name = 'Quinolinate Synthase Eukaryotic'\n",
        "reacao22.subsystem = 'S_Quinone_Biosynthesis'\n",
        "reacao22.lower_bound = 0.\n",
        "reacao22.upper_bound = 1000.\n",
        "\n",
        "reacao22.add_metabolites({\n",
        "      h2o_c : 1.0,\n",
        "      quln_c: 1.0,\n",
        "      h_c: -1.0,\n",
        "      cmusa_c: -1.0\n",
        "\n",
        "})\n",
        "reacao22.gene_reaction_rule = ( 'R04293' )\n",
        "reacao22.genes\n",
        "print(reacao22)"
      ]
    },
    {
      "cell_type": "code",
      "execution_count": null,
      "metadata": {
        "id": "c3ujjEzO8qvD",
        "colab": {
          "base_uri": "https://localhost:8080/"
        },
        "outputId": "d8c1c2ac-2fae-4ed8-d38f-211db0179af9"
      },
      "outputs": [
        {
          "output_type": "stream",
          "name": "stdout",
          "text": [
            "QULNPARANAMN: prpp_c + quln_c --> co2_c + nicrnt_c + ppi_c\n"
          ]
        }
      ],
      "source": [
        "#Criando a reação do gene R03348 (BNA6)\n",
        "nmodelo = Model('nmodelo')\n",
        "\n",
        "reacao23 = Reaction('QULNPARANAMN')\n",
        "reacao23.name = 'nicotinate-nucleotide:pyrophosphate phosphoribosyltransferase'\n",
        "reacao23.subsystem = 'Nicotinamide_Metabolism'\n",
        "reacao23.lower_bound = 0.\n",
        "reacao23.upper_bound = 1000.\n",
        "\n",
        "reacao23.add_metabolites({\n",
        "      prpp_c : -1.0,\n",
        "      quln_c: -1.0,\n",
        "      co2_c: 1.0,\n",
        "      ppi_c: 1.0,\n",
        "      nicrnt_c: 1.0\n",
        "\n",
        "})\n",
        "reacao23.gene_reaction_rule = ( 'R03348' )\n",
        "reacao23.genes\n",
        "print(reacao23)"
      ]
    },
    {
      "cell_type": "code",
      "execution_count": null,
      "metadata": {
        "id": "eujNvXRMYf8V",
        "colab": {
          "base_uri": "https://localhost:8080/"
        },
        "outputId": "67367a6a-e1af-4190-e341-6c52a1520269"
      },
      "outputs": [
        {
          "output_type": "stream",
          "name": "stdout",
          "text": [
            "NMNAT2: atp_c + h_c + nmn_c --> nad_c + ppi_c\n"
          ]
        }
      ],
      "source": [
        "#Criando a reação do gene POF1 YCL047C\n",
        "nmodelo = Model('nmodelo')\n",
        "\n",
        "reacao24 = Reaction('NMNAT2')\n",
        "reacao24.name = 'Nicotinamide-nucleotide adenylyltransferase'\n",
        "reacao24.subsystem = 'S_NAD_Biosynthesis'\n",
        "reacao24.lower_bound = 0.\n",
        "reacao24.upper_bound = 1000.\n",
        "\n",
        "reacao24.add_metabolites({\n",
        "    atp_c: -1.0,\n",
        "    nad_c: 1.0,\n",
        "    nmn_c: -1.0,\n",
        "    h_c: -1.0,\n",
        "    ppi_c: 1.0,\n",
        "\n",
        "})\n",
        "reacao24.gene_reaction_rule = ( 'YCL047C' )\n",
        "reacao24.genes\n",
        "print(reacao24)"
      ]
    },
    {
      "cell_type": "code",
      "execution_count": null,
      "metadata": {
        "id": "wnUbYCbS5hMM",
        "colab": {
          "base_uri": "https://localhost:8080/"
        },
        "outputId": "d8b46ae2-4183-48b6-eafe-5f36247e1979"
      },
      "outputs": [
        {
          "output_type": "stream",
          "name": "stdout",
          "text": [
            "NMNAT3: atp_c + h_c + nmn_c --> nad_c + ppi_c\n"
          ]
        }
      ],
      "source": [
        "#Criando a reação do gene NMA1 YLR328W\n",
        "nmodelo = Model('nmodelo')\n",
        "\n",
        "reacao25 = Reaction('NMNAT3')\n",
        "reacao25.name = 'Nicotinamide-nucleotide adenylyltransferase'\n",
        "reacao25.subsystem = 'S_NAD_Biosynthesis'\n",
        "reacao25.lower_bound = 0.\n",
        "reacao25.upper_bound = 1000.\n",
        "\n",
        "reacao25.add_metabolites({\n",
        "    atp_c: -1.0,\n",
        "    nad_c: 1.0,\n",
        "    nmn_c: -1.0,\n",
        "    h_c: -1.0,\n",
        "    ppi_c: 1.0,\n",
        "\n",
        "})\n",
        "reacao25.gene_reaction_rule = ( 'YLR328W' )\n",
        "reacao25.genes\n",
        "print(reacao25)"
      ]
    },
    {
      "cell_type": "code",
      "source": [
        "#Criando a reação de efluxo nr chat gpt indicou o gene YLL028W\n",
        "nmodelo = Model('nmodelo')\n",
        "\n",
        "reacaoeff = Reaction('efflux')\n",
        "reacaoeff.name = 'Nicotinamide riboside efflux'\n",
        "reacaoeff.subsystem = 'S_NAD_Biosynthesis'\n",
        "reacaoeff.lower_bound = 0.\n",
        "reacaoeff.upper_bound = 1000.\n",
        "\n",
        "reacaoeff.add_metabolites({\n",
        "    rnam_c: -1.0,\n",
        "    rnam_e: 1.0,\n",
        "\n",
        "})\n",
        "reacaoeff.gene_reaction_rule = ( 'YLL028W' )\n",
        "reacaoeff.genes\n",
        "print(reacaoeff)"
      ],
      "metadata": {
        "colab": {
          "base_uri": "https://localhost:8080/"
        },
        "id": "wvbFIfQH3vuI",
        "outputId": "e10626a9-6cfe-44b7-8cd5-865cbdf3d3c1"
      },
      "execution_count": null,
      "outputs": [
        {
          "output_type": "stream",
          "name": "stdout",
          "text": [
            "efflux: rnam_c --> rnam_e\n"
          ]
        }
      ]
    },
    {
      "cell_type": "code",
      "execution_count": null,
      "metadata": {
        "id": "ie1N-azyagHf",
        "colab": {
          "base_uri": "https://localhost:8080/"
        },
        "outputId": "0cebb7e6-9be6-4932-b508-ba6c40e5944a"
      },
      "outputs": [
        {
          "output_type": "stream",
          "name": "stdout",
          "text": [
            "0 reactions\n",
            "0 metabolites\n",
            "0 genes\n"
          ]
        }
      ],
      "source": [
        "\n",
        "print(f'{len(nmodelo.reactions)} reactions')\n",
        "print(f'{len(nmodelo.metabolites)} metabolites')\n",
        "print(f'{len(nmodelo.genes)} genes')"
      ]
    },
    {
      "cell_type": "markdown",
      "metadata": {
        "id": "WQvo2LW_LFQ-"
      },
      "source": [
        "\n",
        "---\n",
        "\n",
        "**ATP Maintance reactions**\n",
        "---\n",
        "---\n",
        "reações de manutenção de ATP na célula"
      ]
    },
    {
      "cell_type": "code",
      "execution_count": null,
      "metadata": {
        "id": "xi_u6yaQ29Dw"
      },
      "outputs": [],
      "source": [
        "#adicionando metabolitos que precisaremos pra essas reações e ainda não foram descritos no modelo\n",
        "ap4a_c = Metabolite(\n",
        "    'ap4a_c',\n",
        "    formula='C20H24N10O19P4',\n",
        "    name='P1,P4-Bis5-adenosyl tetraphosphate',\n",
        "    compartment='c')\n",
        "prbatp_c = Metabolite(\n",
        "    'prbatp_c',\n",
        "    formula='C15H19N5O20P4',\n",
        "    name='1-5-Phosphoribosyl-ATP',\n",
        "    compartment='c')\n",
        "h_e = Metabolite(\n",
        "    'h_e',\n",
        "    formula='H',\n",
        "    name='H+',\n",
        "    compartment='e')\n",
        "amp_c = Metabolite(\n",
        "    'amp_c',\n",
        "    formula='C10H12N5O7P',\n",
        "    name='AMP C10H12N5O7P',\n",
        "    compartment='c')\n",
        "adp_c = Metabolite(\n",
        "    'adp_c',\n",
        "    formula='C10H12N5O10P2',\n",
        "    name='ADP C10H12N5O10P2',\n",
        "    compartment='c')\n",
        "adp_m = Metabolite(\n",
        "    'adp_m',\n",
        "    formula='C10H12N5O10P2',\n",
        "    name='ADP C10H12N5O10P2',\n",
        "    compartment='m')\n",
        "atp_m = Metabolite(\n",
        "    'atp_m',\n",
        "    formula='C10H12N5O13P3',\n",
        "    name='ATP C10H12N5O13P3',\n",
        "    compartment='m')\n",
        "h2o_m = Metabolite(\n",
        "    'h2o_m',\n",
        "    formula='H2O',\n",
        "    name='H2O',\n",
        "    compartment='m')\n",
        "pi_m = Metabolite(\n",
        "    'pi_m',\n",
        "    formula='HO4P',\n",
        "    name='Phosphate',\n",
        "    compartment='m')\n",
        "h_m = Metabolite(\n",
        "    'h_m',\n",
        "    formula='H',\n",
        "    name='H+',\n",
        "    compartment='m')\n",
        "ppi_e = Metabolite(\n",
        "        'ppi_e',\n",
        "        formula= 'HO7P2',\n",
        "        name='phosphate',\n",
        "        compartment= 'e')"
      ]
    },
    {
      "cell_type": "code",
      "execution_count": null,
      "metadata": {
        "id": "-3oCTIIY3mqf",
        "colab": {
          "base_uri": "https://localhost:8080/"
        },
        "outputId": "a3fcfc04-bb30-4ff8-8b59-79629fc06b0e"
      },
      "outputs": [
        {
          "output_type": "stream",
          "name": "stdout",
          "text": [
            "ATPM: atp_c + h2o_c --> adp_c + h_c + pi_c\n"
          ]
        }
      ],
      "source": [
        "#Não sei o gene relacionado a essa reação\n",
        "nmodelo = Model('nmodelo')\n",
        "\n",
        "reacaoatp1 = Reaction('ATPM')\n",
        "reacaoatp1.name = 'ATP maintenance requirement'\n",
        "reacaoatp1.subsystem = 'Biomass and maintenance functions'\n",
        "reacaoatp1.lower_bound = 0.\n",
        "reacaoatp1.upper_bound = 1000.\n",
        "\n",
        "reacaoatp1.add_metabolites({\n",
        "      atp_c: -1.0,\n",
        "    h2o_c: -1.0,\n",
        "      adp_c: 1.0,\n",
        "      h_c: 1.0,\n",
        "      pi_c: 1.0\n",
        "\n",
        "})\n",
        "reacaoatp1.gene_reaction_rule = ( 'YGL224C' )\n",
        "reacaoatp1.genes\n",
        "print(reacaoatp1)"
      ]
    },
    {
      "cell_type": "code",
      "execution_count": null,
      "metadata": {
        "id": "VHfcgnCh7U22",
        "colab": {
          "base_uri": "https://localhost:8080/"
        },
        "outputId": "8ec3be61-d379-497a-86ab-e9afe889573f"
      },
      "outputs": [
        {
          "output_type": "stream",
          "name": "stdout",
          "text": [
            "ADK1: amp_c + atp_c --> 2.0 adp_c\n"
          ]
        }
      ],
      "source": [
        "#Gene YDR226W ADK1\n",
        "nmodelo = Model('nmodelo')\n",
        "\n",
        "reacaoatp2 = Reaction('ADK1')\n",
        "reacaoatp2.name = 'Adenylate kinase'\n",
        "reacaoatp2.subsystem = 'S_Nucleotide_Salvage_Pathway'\n",
        "reacaoatp2.lower_bound = 0.\n",
        "reacaoatp2.upper_bound = 1000.\n",
        "\n",
        "reacaoatp2.add_metabolites({\n",
        "      amp_c: -1.0,\n",
        "    atp_c: -1.0,\n",
        "      adp_c: 2.0\n",
        "\n",
        "})\n",
        "reacaoatp2.gene_reaction_rule = ( 'YDR226W' )\n",
        "reacaoatp2.genes\n",
        "print(reacaoatp2)"
      ]
    },
    {
      "cell_type": "code",
      "execution_count": null,
      "metadata": {
        "id": "mgvqV3pzBa4t",
        "colab": {
          "base_uri": "https://localhost:8080/"
        },
        "outputId": "a90f1e23-f140-47c7-ddd9-044fc00b2c27"
      },
      "outputs": [
        {
          "output_type": "stream",
          "name": "stdout",
          "text": [
            "ATPS: atp_c + h2o_c --> adp_c + h_e + pi_c\n"
          ]
        }
      ],
      "source": [
        "#Genes PMA1, PMA2, PMP1, PMP2\n",
        "nmodelo = Model('nmodelo')\n",
        "\n",
        "reacaoatp3 = Reaction('ATPS')\n",
        "reacaoatp3.name = 'ATPase cytosolic'\n",
        "reacaoatp3.subsystem = 'S_Transport__Extracellular'\n",
        "reacaoatp3.lower_bound = 0.\n",
        "reacaoatp3.upper_bound = 1000.\n",
        "\n",
        "reacaoatp3.add_metabolites({\n",
        "      h2o_c: -1.0,\n",
        "    atp_c: -1.0,\n",
        "      adp_c: 1.0,\n",
        "      pi_c: 1.0,\n",
        "      h_e: 1.0\n",
        "\n",
        "})\n",
        "reacaoatp3.gene_reaction_rule = ( 'YCR024C_A')\n",
        "reacaoatp3.genes\n",
        "print(reacaoatp3)"
      ]
    },
    {
      "cell_type": "code",
      "execution_count": null,
      "metadata": {
        "id": "xX7BDEgCDwJ0",
        "colab": {
          "base_uri": "https://localhost:8080/"
        },
        "outputId": "3c0ffe80-1ed5-4b5a-a1b1-545c7a2f0f54"
      },
      "outputs": [
        {
          "output_type": "stream",
          "name": "stdout",
          "text": [
            "ATPH1: atp_c + 2.0 h2o_c --> amp_c + 2.0 h_c + 2.0 pi_c\n"
          ]
        }
      ],
      "source": [
        "#Genes YND1\n",
        "nmodelo = Model('nmodelo')\n",
        "\n",
        "reacaoatp4 = Reaction('ATPH1')\n",
        "reacaoatp4.name = 'ATP diphosphohydrolase'\n",
        "reacaoatp4.subsystem = 'S_Nucleotide_Salvage_Pathway'\n",
        "reacaoatp4.lower_bound = 0.\n",
        "reacaoatp4.upper_bound = 1000.\n",
        "\n",
        "reacaoatp4.add_metabolites({\n",
        "      h2o_c: -2.0,\n",
        "    atp_c: -1.0,\n",
        "      amp_c: 1.0,\n",
        "      h_c: 2.0,\n",
        "      pi_c: 2.0\n",
        "\n",
        "})\n",
        "reacaoatp4.gene_reaction_rule = ( 'YER005W')\n",
        "reacaoatp4.genes\n",
        "print(reacaoatp4)"
      ]
    },
    {
      "cell_type": "code",
      "execution_count": null,
      "metadata": {
        "id": "mRhd3KFLFeCO",
        "colab": {
          "base_uri": "https://localhost:8080/"
        },
        "outputId": "7c56e31f-6df3-4de3-8c06-583deaae317a"
      },
      "outputs": [
        {
          "output_type": "stream",
          "name": "stdout",
          "text": [
            "ATPS3m: adp_m + 3.0 h_c + pi_m --> atp_m + h2o_m + 2.0 h_m\n"
          ]
        }
      ],
      "source": [
        "#Síntese ATP -- muitos genes relacionados, não sei bem como colocar isso\n",
        "nmodelo = Model('nmodelo')\n",
        "\n",
        "reacaoatp5 = Reaction('ATPS3m')\n",
        "reacaoatp5.name = 'ATP synthase mitochondrial'\n",
        "reacaoatp5.subsystem = 'S_Oxidative_Phosphorylation'\n",
        "reacaoatp5.lower_bound = 0.\n",
        "reacaoatp5.upper_bound = 1000.\n",
        "\n",
        "reacaoatp5.add_metabolites({\n",
        "      h_c: -3.0,\n",
        "    adp_m: -1.0,\n",
        "      pi_m: -1.0,\n",
        "      atp_m: 1.0,\n",
        "      h2o_m: 1.0,\n",
        "      h_m: 2.0,\n",
        "\n",
        "\n",
        "\n",
        "\n",
        "})\n",
        "reacaoatp5.gene_reaction_rule = ( 'YDR530C')\n",
        "reacaoatp5.genes\n",
        "print(reacaoatp5)"
      ]
    },
    {
      "cell_type": "code",
      "execution_count": null,
      "metadata": {
        "id": "l9OzMvyoIMgY",
        "colab": {
          "base_uri": "https://localhost:8080/"
        },
        "outputId": "83e573ff-454a-40de-8b67-bbdfaf99cec6"
      },
      "outputs": [
        {
          "output_type": "stream",
          "name": "stdout",
          "text": [
            "ATPtm_H: adp_c + atp_m + h_c --> adp_m + atp_c + h_m\n"
          ]
        }
      ],
      "source": [
        "#Transferencia do ATP sintetizado na mitocondria para o citosol -- 3 genes relacionados\n",
        "nmodelo = Model('nmodelo')\n",
        "\n",
        "reacaoatp6 = Reaction('ATPtm_H')\n",
        "reacaoatp6.name = 'ADPATP transporter mitochondrial'\n",
        "reacaoatp6.subsystem = 'S_Transport__Mitochondrial'\n",
        "reacaoatp6.lower_bound = 0.\n",
        "reacaoatp6.upper_bound = 1000.\n",
        "\n",
        "reacaoatp6.add_metabolites({\n",
        "      h_c: -1.0,\n",
        "    adp_c: -1.0,\n",
        "      atp_m: -1.0,\n",
        "      atp_c: 1.0,\n",
        "      adp_m: 1.0,\n",
        "      h_m: 1.0,\n",
        "\n",
        "\n",
        "})\n",
        "reacaoatp6.gene_reaction_rule = ( 'YBR085W')\n",
        "reacaoatp6.genes\n",
        "print(reacaoatp6)"
      ]
    },
    {
      "cell_type": "code",
      "execution_count": null,
      "metadata": {
        "id": "Z2IzRxp7LoIZ",
        "colab": {
          "base_uri": "https://localhost:8080/"
        },
        "outputId": "aaa68d09-c0d2-4dfc-c972-65e86f3e439c"
      },
      "outputs": [
        {
          "output_type": "stream",
          "name": "stdout",
          "text": [
            "0 reactions\n",
            "0 metabolites\n",
            "0 genes\n"
          ]
        }
      ],
      "source": [
        "print(f'{len(nmodelo.reactions)} reactions')\n",
        "print(f'{len(nmodelo.metabolites)} metabolites')\n",
        "print(f'{len(nmodelo.genes)} genes')"
      ]
    },
    {
      "cell_type": "markdown",
      "metadata": {
        "id": "DRhATMtec9k2"
      },
      "source": [
        "\n",
        "\n",
        "---\n",
        "\n",
        "**Definindo restrições do meio**\n",
        "---\n",
        "\n",
        "Links que serão importantes:\n",
        "\n",
        "[Practical Exercises: Flux Balance Analysis using\n",
        "the COnstraint-Based Reconstruction and Analysis\n",
        "(COBRA) Toolbox](https://ibis.inrialpes.fr/people/dejong/courses/coursINSA/2023/TP_FBA_2020_answers.pdf)\n",
        "\n",
        "[What is flux balance analysis?\n",
        "Supplementary Tutorial](https://edisciplinas.usp.br/pluginfile.php/4311262/mod_resource/content/1/3.%20Orth%20Nat%20Biotech%202010%20supplementary.pdf)\n",
        "\n",
        "[Building a Model](https://cobrapy.readthedocs.io/en/latest/building_model.html)\n",
        "\n",
        "\n",
        "---\n",
        "\n"
      ]
    },
    {
      "cell_type": "code",
      "execution_count": null,
      "metadata": {
        "id": "4e3-104yZV9H"
      },
      "outputs": [],
      "source": [
        "#Primeiro precisamos criar as reações de troca com o meio (glicose, o2, etc) para depois limitarmos elas\n",
        "nmodelo.add_metabolites([\n",
        "\n",
        "    Metabolite(\n",
        "    'glc__D_e',\n",
        "    name='glucose ext',\n",
        "    compartment='e'\n",
        "    ),\n",
        "    Metabolite(\n",
        "        'o2_e',\n",
        "        name= 'oxygen ext',\n",
        "        compartment='e'\n",
        "    ),\n",
        "\n",
        "    Metabolite(\n",
        "        'ppi_e',\n",
        "        name='phosphate',\n",
        "        compartment= 'e'\n",
        "    )\n",
        "])"
      ]
    },
    {
      "cell_type": "code",
      "execution_count": null,
      "metadata": {
        "id": "JS21oZ-hu4KG",
        "colab": {
          "base_uri": "https://localhost:8080/"
        },
        "outputId": "d423375e-86f1-4bae-de98-0c628d31fb61"
      },
      "outputs": [
        {
          "output_type": "stream",
          "name": "stderr",
          "text": [
            "WARNING:cobra.medium.boundary_types:There are no boundary reactions in this model. Therefore, specific types of boundary reactions such as 'exchanges', 'demands' or 'sinks' cannot be identified.\n"
          ]
        },
        {
          "output_type": "stream",
          "name": "stdout",
          "text": [
            "exchanges"
          ]
        },
        {
          "output_type": "stream",
          "name": "stderr",
          "text": [
            "WARNING:cobra.medium.boundary_types:There are no boundary reactions in this model. Therefore, specific types of boundary reactions such as 'exchanges', 'demands' or 'sinks' cannot be identified.\n",
            "WARNING:cobra.medium.boundary_types:There are no boundary reactions in this model. Therefore, specific types of boundary reactions such as 'exchanges', 'demands' or 'sinks' cannot be identified.\n"
          ]
        },
        {
          "output_type": "stream",
          "name": "stdout",
          "text": [
            " []\n",
            "demands []\n",
            "sinks []\n"
          ]
        }
      ],
      "source": [
        "#verificando as reações que existem no modelo -- como nao adicionamos nenhuma, nao deve aparecer nenhuma ainda\n",
        "print(\"exchanges\", nmodelo.exchanges)\n",
        "print(\"demands\", nmodelo.demands)\n",
        "print(\"sinks\", nmodelo.sinks)"
      ]
    },
    {
      "cell_type": "code",
      "execution_count": null,
      "metadata": {
        "id": "-vT4yopuOlyL",
        "colab": {
          "base_uri": "https://localhost:8080/",
          "height": 204
        },
        "outputId": "6c943f01-a44a-4e3b-e114-47bfb90b26ca"
      },
      "outputs": [
        {
          "output_type": "execute_result",
          "data": {
            "text/plain": [
              "<Reaction EX_glc__D_e at 0x7dc09405ab90>"
            ],
            "text/html": [
              "\n",
              "        <table>\n",
              "            <tr>\n",
              "                <td><strong>Reaction identifier</strong></td><td>EX_glc__D_e</td>\n",
              "            </tr><tr>\n",
              "                <td><strong>Name</strong></td><td>glucose ext exchange</td>\n",
              "            </tr><tr>\n",
              "                <td><strong>Memory address</strong></td>\n",
              "                <td>0x7dc09405ab90</td>\n",
              "            </tr><tr>\n",
              "                <td><strong>Stoichiometry</strong></td>\n",
              "                <td>\n",
              "                    <p style='text-align:right'>glc__D_e <=></p>\n",
              "                    <p style='text-align:right'>glucose ext <=></p>\n",
              "                </td>\n",
              "            </tr><tr>\n",
              "                <td><strong>GPR</strong></td><td></td>\n",
              "            </tr><tr>\n",
              "                <td><strong>Lower bound</strong></td><td>-1000.0</td>\n",
              "            </tr><tr>\n",
              "                <td><strong>Upper bound</strong></td><td>1000.0</td>\n",
              "            </tr>\n",
              "        </table>\n",
              "        "
            ]
          },
          "metadata": {},
          "execution_count": 883
        }
      ],
      "source": [
        "#adicionando reação de exchange\n",
        "nmodelo.add_boundary(nmodelo.metabolites.get_by_id(\"glc__D_e\"), type=\"exchange\")"
      ]
    },
    {
      "cell_type": "code",
      "execution_count": null,
      "metadata": {
        "id": "8p5EG0b9O9I6",
        "colab": {
          "base_uri": "https://localhost:8080/",
          "height": 204
        },
        "outputId": "7e16fa80-a4c5-4939-f5a0-7afcb3c31c02"
      },
      "outputs": [
        {
          "output_type": "execute_result",
          "data": {
            "text/plain": [
              "<Reaction EX_ppi_e at 0x7dc09405b880>"
            ],
            "text/html": [
              "\n",
              "        <table>\n",
              "            <tr>\n",
              "                <td><strong>Reaction identifier</strong></td><td>EX_ppi_e</td>\n",
              "            </tr><tr>\n",
              "                <td><strong>Name</strong></td><td>phosphate exchange</td>\n",
              "            </tr><tr>\n",
              "                <td><strong>Memory address</strong></td>\n",
              "                <td>0x7dc09405b880</td>\n",
              "            </tr><tr>\n",
              "                <td><strong>Stoichiometry</strong></td>\n",
              "                <td>\n",
              "                    <p style='text-align:right'>ppi_e <=></p>\n",
              "                    <p style='text-align:right'>phosphate <=></p>\n",
              "                </td>\n",
              "            </tr><tr>\n",
              "                <td><strong>GPR</strong></td><td></td>\n",
              "            </tr><tr>\n",
              "                <td><strong>Lower bound</strong></td><td>-1000.0</td>\n",
              "            </tr><tr>\n",
              "                <td><strong>Upper bound</strong></td><td>1000.0</td>\n",
              "            </tr>\n",
              "        </table>\n",
              "        "
            ]
          },
          "metadata": {},
          "execution_count": 884
        }
      ],
      "source": [
        "#adicionando reação de exchange\n",
        "nmodelo.add_boundary(nmodelo.metabolites.get_by_id(\"ppi_e\"), type=\"exchange\")"
      ]
    },
    {
      "cell_type": "code",
      "execution_count": null,
      "metadata": {
        "id": "iKyqShURQ9KK",
        "colab": {
          "base_uri": "https://localhost:8080/",
          "height": 204
        },
        "outputId": "4ddd3c56-5cd1-4d30-caa4-7101c5785bba"
      },
      "outputs": [
        {
          "output_type": "execute_result",
          "data": {
            "text/plain": [
              "<Reaction EX_o2_e at 0x7dc09405a8c0>"
            ],
            "text/html": [
              "\n",
              "        <table>\n",
              "            <tr>\n",
              "                <td><strong>Reaction identifier</strong></td><td>EX_o2_e</td>\n",
              "            </tr><tr>\n",
              "                <td><strong>Name</strong></td><td>oxygen ext exchange</td>\n",
              "            </tr><tr>\n",
              "                <td><strong>Memory address</strong></td>\n",
              "                <td>0x7dc09405a8c0</td>\n",
              "            </tr><tr>\n",
              "                <td><strong>Stoichiometry</strong></td>\n",
              "                <td>\n",
              "                    <p style='text-align:right'>o2_e <=></p>\n",
              "                    <p style='text-align:right'>oxygen ext <=></p>\n",
              "                </td>\n",
              "            </tr><tr>\n",
              "                <td><strong>GPR</strong></td><td></td>\n",
              "            </tr><tr>\n",
              "                <td><strong>Lower bound</strong></td><td>-1000.0</td>\n",
              "            </tr><tr>\n",
              "                <td><strong>Upper bound</strong></td><td>1000.0</td>\n",
              "            </tr>\n",
              "        </table>\n",
              "        "
            ]
          },
          "metadata": {},
          "execution_count": 885
        }
      ],
      "source": [
        "#adicionando reação de exchange\n",
        "nmodelo.add_boundary(nmodelo.metabolites.get_by_id(\"o2_e\"), type=\"exchange\")"
      ]
    },
    {
      "cell_type": "code",
      "execution_count": null,
      "metadata": {
        "id": "fgyodCJfG8SU"
      },
      "outputs": [],
      "source": [
        "#Setando fluxo de oxigênio:\n",
        "nmodelo.reactions.get_by_id(\"EX_o2_e\").lower_bound = -1.0 #mmol/dcw.h  porque estamos considerando um crescimento com aerobiose mas ele nao aceita o lower bound = 0\n",
        "nmodelo.reactions.get_by_id(\"EX_o2_e\").upper_bound= 10000.0 #mmol/dcw.h unlimited oxygen uptake\n"
      ]
    },
    {
      "cell_type": "code",
      "execution_count": null,
      "metadata": {
        "id": "s8NhsoZeKtGx"
      },
      "outputs": [],
      "source": [
        "#Setando fluxo de glicose:\n",
        "nmodelo.reactions.get_by_id(\"EX_glc__D_e\").lower_bound = -1.0 #mmol/dcw.h\n",
        "nmodelo.reactions.get_by_id(\"EX_glc__D_e\").upper_bound= 10000.0 #mmol/dcw.h artigo fala que essa é uma realistic glucose uptake\n"
      ]
    },
    {
      "cell_type": "code",
      "execution_count": null,
      "metadata": {
        "id": "oDr1vn-m7d4e",
        "colab": {
          "base_uri": "https://localhost:8080/"
        },
        "outputId": "cab6bc82-30d8-47d1-d4bb-162e5594c8ef"
      },
      "outputs": [
        {
          "output_type": "stream",
          "name": "stdout",
          "text": [
            "EX_ppi_e: ppi_e --> \n"
          ]
        }
      ],
      "source": [
        "#Transferencia do ATP sintetizado na mitocondria para o citosol -- 3 genes relacionados\n",
        "nmodelo = Model('nmodelo')\n",
        "\n",
        "EX_ppi_e = Reaction('EX_ppi_e')\n",
        "EX_ppi_e.name = 'Exchange phosphate'\n",
        "EX_ppi_e.subsystem = 'Exchange'\n",
        "EX_ppi_e.lower_bound = 0.\n",
        "EX_ppi_e.upper_bound = 1000.\n",
        "\n",
        "EX_ppi_e.add_metabolites({\n",
        "      ppi_e: -1.0,\n",
        "\n",
        "})\n",
        "EX_ppi_e.gene_reaction_rule = ( 'YBR085W')\n",
        "EX_ppi_e.genes\n",
        "print(EX_ppi_e)"
      ]
    },
    {
      "cell_type": "code",
      "execution_count": null,
      "metadata": {
        "id": "WIe74aV160rc",
        "colab": {
          "base_uri": "https://localhost:8080/"
        },
        "outputId": "e985d867-d181-45d6-b31a-bb0ace7e8a23"
      },
      "outputs": [
        {
          "output_type": "stream",
          "name": "stderr",
          "text": [
            "WARNING:cobra.core.model:Ignoring reaction 'NNAM' since it already exists.\n",
            "WARNING:cobra.core.model:Ignoring reaction 'NNDPR' since it already exists.\n",
            "WARNING:cobra.core.model:Ignoring reaction 'RNMK' since it already exists.\n",
            "WARNING:cobra.core.model:Ignoring reaction 'NMNAT' since it already exists.\n",
            "WARNING:cobra.core.model:Ignoring reaction 'NADN' since it already exists.\n",
            "WARNING:cobra.core.model:Ignoring reaction 'NADS1' since it already exists.\n",
            "WARNING:cobra.core.model:Ignoring reaction 'PNP' since it already exists.\n",
            "WARNING:cobra.core.model:Ignoring reaction 'NNATr' since it already exists.\n",
            "WARNING:cobra.core.model:Ignoring reaction 'NAPRT' since it already exists.\n",
            "WARNING:cobra.core.model:Ignoring reaction 'NACt' since it already exists.\n",
            "WARNING:cobra.core.model:Ignoring reaction 'TRPO2' since it already exists.\n",
            "WARNING:cobra.core.model:Ignoring reaction 'FKYNH' since it already exists.\n",
            "WARNING:cobra.core.model:Ignoring reaction 'KYN3OX' since it already exists.\n",
            "WARNING:cobra.core.model:Ignoring reaction 'HKYNH' since it already exists.\n",
            "WARNING:cobra.core.model:Ignoring reaction '3HAO' since it already exists.\n",
            "WARNING:cobra.core.model:Ignoring reaction 'QUILSYN' since it already exists.\n",
            "WARNING:cobra.core.model:Ignoring reaction 'R02323' since it already exists.\n",
            "WARNING:cobra.core.model:Ignoring reaction 'ATPM' since it already exists.\n",
            "WARNING:cobra.core.model:Ignoring reaction 'ADK1' since it already exists.\n",
            "WARNING:cobra.core.model:Ignoring reaction 'ATPS' since it already exists.\n",
            "WARNING:cobra.core.model:Ignoring reaction 'ATPH1' since it already exists.\n",
            "WARNING:cobra.core.model:Ignoring reaction 'ATPS3m' since it already exists.\n",
            "WARNING:cobra.core.model:Ignoring reaction 'ATPS3m' since it already exists.\n",
            "WARNING:cobra.core.model:Ignoring reaction 'ATPtm_H' since it already exists.\n"
          ]
        }
      ],
      "source": [
        "#adicionando as reações\n",
        "nmodelo = copy.deepcopy(modelo)\n",
        "nmodelo.add_reactions([reacao01])\n",
        "nmodelo.add_reactions([reacao02])\n",
        "nmodelo.add_reactions([reacao03])\n",
        "nmodelo.add_reactions([reacao04])\n",
        "nmodelo.add_reactions([reacao05])\n",
        "nmodelo.add_reactions([reacao06])\n",
        "nmodelo.add_reactions([reacao07])\n",
        "nmodelo.add_reactions([reacao08])\n",
        "nmodelo.add_reactions([reacao09])\n",
        "nmodelo.add_reactions([reacao10])\n",
        "nmodelo.add_reactions([reacao11])\n",
        "nmodelo.add_reactions([reacao12])\n",
        "nmodelo.add_reactions([reacao13])\n",
        "nmodelo.add_reactions([reacao14])\n",
        "nmodelo.add_reactions([reacao15])\n",
        "nmodelo.add_reactions([reacao17])\n",
        "nmodelo.add_reactions([reacao18])\n",
        "nmodelo.add_reactions([reacao19])\n",
        "nmodelo.add_reactions([reacao20])\n",
        "nmodelo.add_reactions([reacao21])\n",
        "nmodelo.add_reactions([reacao22])\n",
        "nmodelo.add_reactions([reacao23])\n",
        "nmodelo.add_reactions([reacao24])\n",
        "nmodelo.add_reactions([reacao112])\n",
        "nmodelo.add_reactions([reacao25])\n",
        "nmodelo.add_reactions([reacao082])\n",
        "nmodelo.add_reactions([reacao083])\n",
        "nmodelo.add_reactions([reacao132])\n",
        "nmodelo.add_reactions([reacaox])\n",
        "nmodelo.add_reactions([reacaoeff])\n",
        "#Reações de atp\n",
        "nmodelo.add_reactions([reacaoatp1])\n",
        "nmodelo.add_reactions([reacaoatp2])\n",
        "nmodelo.add_reactions([reacaoatp3])\n",
        "nmodelo.add_reactions([reacaoatp4])\n",
        "nmodelo.add_reactions([reacaoatp5])\n",
        "nmodelo.add_reactions([reacaoatp5])\n",
        "nmodelo.add_reactions([reacaoatp6])\n",
        "#Exchange\n",
        "nmodelo.add_reactions([EX_ppi_e])\n",
        "nmodelo.add_reactions([reacao16_2])"
      ]
    },
    {
      "cell_type": "code",
      "execution_count": null,
      "metadata": {
        "id": "jWKSCWMV9dXd"
      },
      "outputs": [],
      "source": [
        "#Salvando o modelo\n",
        "save_json_model(nmodelo, \"Primeiro_modelo.json\")"
      ]
    },
    {
      "cell_type": "code",
      "execution_count": null,
      "metadata": {
        "id": "NhAWZMsA1LCj",
        "colab": {
          "base_uri": "https://localhost:8080/"
        },
        "outputId": "6360c17e-abc3-4ad8-d36d-5ed45f73ba99"
      },
      "outputs": [
        {
          "output_type": "stream",
          "name": "stdout",
          "text": [
            "1592 reactions\n",
            "1231 metabolites\n",
            "908 genes\n"
          ]
        }
      ],
      "source": [
        "print(f'{len(nmodelo.reactions)} reactions')\n",
        "print(f'{len(nmodelo.metabolites)} metabolites')\n",
        "print(f'{len(nmodelo.genes)} genes')"
      ]
    },
    {
      "cell_type": "code",
      "execution_count": null,
      "metadata": {
        "id": "DrTY7MtW1gMR",
        "colab": {
          "base_uri": "https://localhost:8080/"
        },
        "outputId": "61418767-524c-4f77-f7f1-cff6a0a9f67b"
      },
      "outputs": [
        {
          "output_type": "execute_result",
          "data": {
            "text/plain": [
              "{'EX_fe2_e': 999999.0,\n",
              " 'EX_glc__D_e': 10.0,\n",
              " 'EX_h2o_e': 999999.0,\n",
              " 'EX_h_e': 999999.0,\n",
              " 'EX_k_e': 999999.0,\n",
              " 'EX_na1_e': 999999.0,\n",
              " 'EX_so4_e': 999999.0,\n",
              " 'EX_nh4_e': 999999.0,\n",
              " 'EX_o2_e': 2.0,\n",
              " 'EX_pi_e': 999999.0}"
            ]
          },
          "metadata": {},
          "execution_count": 892
        }
      ],
      "source": [
        "nmodelo.medium"
      ]
    },
    {
      "cell_type": "code",
      "execution_count": null,
      "metadata": {
        "id": "u1721oKw8LPP",
        "colab": {
          "base_uri": "https://localhost:8080/",
          "height": 147
        },
        "outputId": "284e4c7f-6248-4796-9008-bfb34ebf95c4"
      },
      "outputs": [
        {
          "output_type": "execute_result",
          "data": {
            "text/plain": [
              "<Metabolite rnam_c at 0x7dc08fdbe020>"
            ],
            "text/html": [
              "\n",
              "        <table>\n",
              "            <tr>\n",
              "                <td><strong>Metabolite identifier</strong></td><td>rnam_c</td>\n",
              "            </tr><tr>\n",
              "                <td><strong>Name</strong></td><td>N Ribosylnicotinamide C11H15N2O5</td>\n",
              "            </tr><tr>\n",
              "                <td><strong>Memory address</strong></td>\n",
              "                <td>0x7dc08fdbe020</td>\n",
              "            </tr><tr>\n",
              "                <td><strong>Formula</strong></td><td>C11H15N2O5</td>\n",
              "            </tr><tr>\n",
              "                <td><strong>Compartment</strong></td><td>c</td>\n",
              "            </tr><tr>\n",
              "                <td><strong>In 8 reaction(s)</strong></td><td>\n",
              "                    R01273.2, R02323, RNMK, efflux, NR_salvage, Nr_intake, PNP, R01273\n",
              "                    </td>\n",
              "            </tr>\n",
              "        </table>"
            ]
          },
          "metadata": {},
          "execution_count": 893
        }
      ],
      "source": [
        "nmodelo.metabolites.get_by_id('rnam_c')"
      ]
    },
    {
      "cell_type": "code",
      "execution_count": null,
      "metadata": {
        "id": "4Z3ZSKk-1f0Q"
      },
      "outputs": [],
      "source": [
        "nmodelo.solver = 'glpk'"
      ]
    },
    {
      "cell_type": "code",
      "execution_count": null,
      "metadata": {
        "id": "ym3Q2Ldt1uwA"
      },
      "outputs": [],
      "source": [
        "#Fazendo o objetivo ser a soma das funões de biomassa+nr\n",
        "biomass = nmodelo.reactions.get_by_id('BIOMASS_SC5_notrace')\n",
        "NMNparaNR = nmodelo.reactions.get_by_id('R02323')\n",
        "NMNparaNAD = nmodelo.reactions.get_by_id('NMNAT')\n",
        "NRintake = nmodelo.reactions.get_by_id('Nr_intake')\n",
        "NRpraNMN = nmodelo.reactions.get_by_id('RNMK')\n",
        "NRpraNAM = nmodelo.reactions.get_by_id('R01273')\n",
        "NRpraNAMdois = nmodelo.reactions.get_by_id('R01273.2')\n",
        "PNP = nmodelo.reactions.get_by_id('PNP')\n",
        "efflux = nmodelo.reactions.get_by_id('efflux')\n",
        "\n",
        "# Funcao objetivo\n",
        "from optlang import Model, Variable, Constraint, Objective\n",
        "from cobra.util import linear_reaction_coefficients\n",
        "\n",
        "\n",
        "nmodelo.objective = Objective(0.5 * biomass.flux_expression + 0.5 * efflux.flux_expression)"
      ]
    },
    {
      "cell_type": "code",
      "execution_count": null,
      "metadata": {
        "colab": {
          "base_uri": "https://localhost:8080/"
        },
        "id": "OSzsp2s41vl3",
        "outputId": "f3ab1f34-5e7e-4c3c-eccd-e296e3044196"
      },
      "outputs": [
        {
          "output_type": "stream",
          "name": "stdout",
          "text": [
            "WT: 0.0 mmol/cdwh\n"
          ]
        }
      ],
      "source": [
        "#Solucionando o problema de FBA\n",
        "\n",
        "solucao = nmodelo.optimize()\n",
        "print('WT: '+str(solucao.objective_value)+' mmol/cdwh')"
      ]
    },
    {
      "cell_type": "code",
      "source": [
        "nmodelo.genes.YOR071C.knock_out() #nrt1\n",
        "nmodelo.genes.YAL022C.knock_out() #fun26\n",
        "print ('fun26nrt1del: '+str(nmodelo.optimize().objective_value)+' mmol/cdwh')"
      ],
      "metadata": {
        "colab": {
          "base_uri": "https://localhost:8080/"
        },
        "id": "F1_Qdl9sCszl",
        "outputId": "a1d33dea-9c28-4928-e58b-6669b12171a4"
      },
      "execution_count": null,
      "outputs": [
        {
          "output_type": "stream",
          "name": "stdout",
          "text": [
            "fun26nrt1del: 0.0 mmol/cdwh\n"
          ]
        }
      ]
    },
    {
      "cell_type": "code",
      "execution_count": null,
      "metadata": {
        "id": "p37CD_9PlYrd"
      },
      "outputs": [],
      "source": [
        "#salvando modelo\n",
        "save_json_model(nmodelo, \"biomassefflux.json\")"
      ]
    },
    {
      "cell_type": "code",
      "source": [
        "single_gene_deletion(nmodelo, nmodelo.genes)"
      ],
      "metadata": {
        "colab": {
          "base_uri": "https://localhost:8080/",
          "height": 424
        },
        "id": "2dkLGgNKNJHb",
        "outputId": "e0ba1d9c-8879-4ea4-cf42-25ab843a29fc"
      },
      "execution_count": null,
      "outputs": [
        {
          "output_type": "execute_result",
          "data": {
            "text/plain": [
              "           ids        growth   status\n",
              "0    {YHR174W}  1.439329e-01  optimal\n",
              "1    {YBR021W}  1.439329e-01  optimal\n",
              "2    {YNR012W}  1.439329e-01  optimal\n",
              "3    {YLR382C}  1.439329e-01  optimal\n",
              "4    {YGL062W}  1.439329e-01  optimal\n",
              "..         ...           ...      ...\n",
              "903  {YNR056C}  1.439329e-01  optimal\n",
              "904  {YLR164W}  1.439329e-01  optimal\n",
              "905  {YKR097W}  1.439329e-01  optimal\n",
              "906  {YPR062W}  1.439329e-01  optimal\n",
              "907  {YKL067W} -7.723203e-17  optimal\n",
              "\n",
              "[908 rows x 3 columns]"
            ],
            "text/html": [
              "\n",
              "  <div id=\"df-0282ed73-f1d9-4789-937b-f7595ac2e197\" class=\"colab-df-container\">\n",
              "    <div>\n",
              "<style scoped>\n",
              "    .dataframe tbody tr th:only-of-type {\n",
              "        vertical-align: middle;\n",
              "    }\n",
              "\n",
              "    .dataframe tbody tr th {\n",
              "        vertical-align: top;\n",
              "    }\n",
              "\n",
              "    .dataframe thead th {\n",
              "        text-align: right;\n",
              "    }\n",
              "</style>\n",
              "<table border=\"1\" class=\"dataframe\">\n",
              "  <thead>\n",
              "    <tr style=\"text-align: right;\">\n",
              "      <th></th>\n",
              "      <th>ids</th>\n",
              "      <th>growth</th>\n",
              "      <th>status</th>\n",
              "    </tr>\n",
              "  </thead>\n",
              "  <tbody>\n",
              "    <tr>\n",
              "      <th>0</th>\n",
              "      <td>{YHR174W}</td>\n",
              "      <td>1.439329e-01</td>\n",
              "      <td>optimal</td>\n",
              "    </tr>\n",
              "    <tr>\n",
              "      <th>1</th>\n",
              "      <td>{YBR021W}</td>\n",
              "      <td>1.439329e-01</td>\n",
              "      <td>optimal</td>\n",
              "    </tr>\n",
              "    <tr>\n",
              "      <th>2</th>\n",
              "      <td>{YNR012W}</td>\n",
              "      <td>1.439329e-01</td>\n",
              "      <td>optimal</td>\n",
              "    </tr>\n",
              "    <tr>\n",
              "      <th>3</th>\n",
              "      <td>{YLR382C}</td>\n",
              "      <td>1.439329e-01</td>\n",
              "      <td>optimal</td>\n",
              "    </tr>\n",
              "    <tr>\n",
              "      <th>4</th>\n",
              "      <td>{YGL062W}</td>\n",
              "      <td>1.439329e-01</td>\n",
              "      <td>optimal</td>\n",
              "    </tr>\n",
              "    <tr>\n",
              "      <th>...</th>\n",
              "      <td>...</td>\n",
              "      <td>...</td>\n",
              "      <td>...</td>\n",
              "    </tr>\n",
              "    <tr>\n",
              "      <th>903</th>\n",
              "      <td>{YNR056C}</td>\n",
              "      <td>1.439329e-01</td>\n",
              "      <td>optimal</td>\n",
              "    </tr>\n",
              "    <tr>\n",
              "      <th>904</th>\n",
              "      <td>{YLR164W}</td>\n",
              "      <td>1.439329e-01</td>\n",
              "      <td>optimal</td>\n",
              "    </tr>\n",
              "    <tr>\n",
              "      <th>905</th>\n",
              "      <td>{YKR097W}</td>\n",
              "      <td>1.439329e-01</td>\n",
              "      <td>optimal</td>\n",
              "    </tr>\n",
              "    <tr>\n",
              "      <th>906</th>\n",
              "      <td>{YPR062W}</td>\n",
              "      <td>1.439329e-01</td>\n",
              "      <td>optimal</td>\n",
              "    </tr>\n",
              "    <tr>\n",
              "      <th>907</th>\n",
              "      <td>{YKL067W}</td>\n",
              "      <td>-7.723203e-17</td>\n",
              "      <td>optimal</td>\n",
              "    </tr>\n",
              "  </tbody>\n",
              "</table>\n",
              "<p>908 rows × 3 columns</p>\n",
              "</div>\n",
              "    <div class=\"colab-df-buttons\">\n",
              "\n",
              "  <div class=\"colab-df-container\">\n",
              "    <button class=\"colab-df-convert\" onclick=\"convertToInteractive('df-0282ed73-f1d9-4789-937b-f7595ac2e197')\"\n",
              "            title=\"Convert this dataframe to an interactive table.\"\n",
              "            style=\"display:none;\">\n",
              "\n",
              "  <svg xmlns=\"http://www.w3.org/2000/svg\" height=\"24px\" viewBox=\"0 -960 960 960\">\n",
              "    <path d=\"M120-120v-720h720v720H120Zm60-500h600v-160H180v160Zm220 220h160v-160H400v160Zm0 220h160v-160H400v160ZM180-400h160v-160H180v160Zm440 0h160v-160H620v160ZM180-180h160v-160H180v160Zm440 0h160v-160H620v160Z\"/>\n",
              "  </svg>\n",
              "    </button>\n",
              "\n",
              "  <style>\n",
              "    .colab-df-container {\n",
              "      display:flex;\n",
              "      gap: 12px;\n",
              "    }\n",
              "\n",
              "    .colab-df-convert {\n",
              "      background-color: #E8F0FE;\n",
              "      border: none;\n",
              "      border-radius: 50%;\n",
              "      cursor: pointer;\n",
              "      display: none;\n",
              "      fill: #1967D2;\n",
              "      height: 32px;\n",
              "      padding: 0 0 0 0;\n",
              "      width: 32px;\n",
              "    }\n",
              "\n",
              "    .colab-df-convert:hover {\n",
              "      background-color: #E2EBFA;\n",
              "      box-shadow: 0px 1px 2px rgba(60, 64, 67, 0.3), 0px 1px 3px 1px rgba(60, 64, 67, 0.15);\n",
              "      fill: #174EA6;\n",
              "    }\n",
              "\n",
              "    .colab-df-buttons div {\n",
              "      margin-bottom: 4px;\n",
              "    }\n",
              "\n",
              "    [theme=dark] .colab-df-convert {\n",
              "      background-color: #3B4455;\n",
              "      fill: #D2E3FC;\n",
              "    }\n",
              "\n",
              "    [theme=dark] .colab-df-convert:hover {\n",
              "      background-color: #434B5C;\n",
              "      box-shadow: 0px 1px 3px 1px rgba(0, 0, 0, 0.15);\n",
              "      filter: drop-shadow(0px 1px 2px rgba(0, 0, 0, 0.3));\n",
              "      fill: #FFFFFF;\n",
              "    }\n",
              "  </style>\n",
              "\n",
              "    <script>\n",
              "      const buttonEl =\n",
              "        document.querySelector('#df-0282ed73-f1d9-4789-937b-f7595ac2e197 button.colab-df-convert');\n",
              "      buttonEl.style.display =\n",
              "        google.colab.kernel.accessAllowed ? 'block' : 'none';\n",
              "\n",
              "      async function convertToInteractive(key) {\n",
              "        const element = document.querySelector('#df-0282ed73-f1d9-4789-937b-f7595ac2e197');\n",
              "        const dataTable =\n",
              "          await google.colab.kernel.invokeFunction('convertToInteractive',\n",
              "                                                    [key], {});\n",
              "        if (!dataTable) return;\n",
              "\n",
              "        const docLinkHtml = 'Like what you see? Visit the ' +\n",
              "          '<a target=\"_blank\" href=https://colab.research.google.com/notebooks/data_table.ipynb>data table notebook</a>'\n",
              "          + ' to learn more about interactive tables.';\n",
              "        element.innerHTML = '';\n",
              "        dataTable['output_type'] = 'display_data';\n",
              "        await google.colab.output.renderOutput(dataTable, element);\n",
              "        const docLink = document.createElement('div');\n",
              "        docLink.innerHTML = docLinkHtml;\n",
              "        element.appendChild(docLink);\n",
              "      }\n",
              "    </script>\n",
              "  </div>\n",
              "\n",
              "\n",
              "<div id=\"df-ea735e21-d14c-4d9e-9d22-47067a894d91\">\n",
              "  <button class=\"colab-df-quickchart\" onclick=\"quickchart('df-ea735e21-d14c-4d9e-9d22-47067a894d91')\"\n",
              "            title=\"Suggest charts\"\n",
              "            style=\"display:none;\">\n",
              "\n",
              "<svg xmlns=\"http://www.w3.org/2000/svg\" height=\"24px\"viewBox=\"0 0 24 24\"\n",
              "     width=\"24px\">\n",
              "    <g>\n",
              "        <path d=\"M19 3H5c-1.1 0-2 .9-2 2v14c0 1.1.9 2 2 2h14c1.1 0 2-.9 2-2V5c0-1.1-.9-2-2-2zM9 17H7v-7h2v7zm4 0h-2V7h2v10zm4 0h-2v-4h2v4z\"/>\n",
              "    </g>\n",
              "</svg>\n",
              "  </button>\n",
              "\n",
              "<style>\n",
              "  .colab-df-quickchart {\n",
              "      --bg-color: #E8F0FE;\n",
              "      --fill-color: #1967D2;\n",
              "      --hover-bg-color: #E2EBFA;\n",
              "      --hover-fill-color: #174EA6;\n",
              "      --disabled-fill-color: #AAA;\n",
              "      --disabled-bg-color: #DDD;\n",
              "  }\n",
              "\n",
              "  [theme=dark] .colab-df-quickchart {\n",
              "      --bg-color: #3B4455;\n",
              "      --fill-color: #D2E3FC;\n",
              "      --hover-bg-color: #434B5C;\n",
              "      --hover-fill-color: #FFFFFF;\n",
              "      --disabled-bg-color: #3B4455;\n",
              "      --disabled-fill-color: #666;\n",
              "  }\n",
              "\n",
              "  .colab-df-quickchart {\n",
              "    background-color: var(--bg-color);\n",
              "    border: none;\n",
              "    border-radius: 50%;\n",
              "    cursor: pointer;\n",
              "    display: none;\n",
              "    fill: var(--fill-color);\n",
              "    height: 32px;\n",
              "    padding: 0;\n",
              "    width: 32px;\n",
              "  }\n",
              "\n",
              "  .colab-df-quickchart:hover {\n",
              "    background-color: var(--hover-bg-color);\n",
              "    box-shadow: 0 1px 2px rgba(60, 64, 67, 0.3), 0 1px 3px 1px rgba(60, 64, 67, 0.15);\n",
              "    fill: var(--button-hover-fill-color);\n",
              "  }\n",
              "\n",
              "  .colab-df-quickchart-complete:disabled,\n",
              "  .colab-df-quickchart-complete:disabled:hover {\n",
              "    background-color: var(--disabled-bg-color);\n",
              "    fill: var(--disabled-fill-color);\n",
              "    box-shadow: none;\n",
              "  }\n",
              "\n",
              "  .colab-df-spinner {\n",
              "    border: 2px solid var(--fill-color);\n",
              "    border-color: transparent;\n",
              "    border-bottom-color: var(--fill-color);\n",
              "    animation:\n",
              "      spin 1s steps(1) infinite;\n",
              "  }\n",
              "\n",
              "  @keyframes spin {\n",
              "    0% {\n",
              "      border-color: transparent;\n",
              "      border-bottom-color: var(--fill-color);\n",
              "      border-left-color: var(--fill-color);\n",
              "    }\n",
              "    20% {\n",
              "      border-color: transparent;\n",
              "      border-left-color: var(--fill-color);\n",
              "      border-top-color: var(--fill-color);\n",
              "    }\n",
              "    30% {\n",
              "      border-color: transparent;\n",
              "      border-left-color: var(--fill-color);\n",
              "      border-top-color: var(--fill-color);\n",
              "      border-right-color: var(--fill-color);\n",
              "    }\n",
              "    40% {\n",
              "      border-color: transparent;\n",
              "      border-right-color: var(--fill-color);\n",
              "      border-top-color: var(--fill-color);\n",
              "    }\n",
              "    60% {\n",
              "      border-color: transparent;\n",
              "      border-right-color: var(--fill-color);\n",
              "    }\n",
              "    80% {\n",
              "      border-color: transparent;\n",
              "      border-right-color: var(--fill-color);\n",
              "      border-bottom-color: var(--fill-color);\n",
              "    }\n",
              "    90% {\n",
              "      border-color: transparent;\n",
              "      border-bottom-color: var(--fill-color);\n",
              "    }\n",
              "  }\n",
              "</style>\n",
              "\n",
              "  <script>\n",
              "    async function quickchart(key) {\n",
              "      const quickchartButtonEl =\n",
              "        document.querySelector('#' + key + ' button');\n",
              "      quickchartButtonEl.disabled = true;  // To prevent multiple clicks.\n",
              "      quickchartButtonEl.classList.add('colab-df-spinner');\n",
              "      try {\n",
              "        const charts = await google.colab.kernel.invokeFunction(\n",
              "            'suggestCharts', [key], {});\n",
              "      } catch (error) {\n",
              "        console.error('Error during call to suggestCharts:', error);\n",
              "      }\n",
              "      quickchartButtonEl.classList.remove('colab-df-spinner');\n",
              "      quickchartButtonEl.classList.add('colab-df-quickchart-complete');\n",
              "    }\n",
              "    (() => {\n",
              "      let quickchartButtonEl =\n",
              "        document.querySelector('#df-ea735e21-d14c-4d9e-9d22-47067a894d91 button');\n",
              "      quickchartButtonEl.style.display =\n",
              "        google.colab.kernel.accessAllowed ? 'block' : 'none';\n",
              "    })();\n",
              "  </script>\n",
              "</div>\n",
              "\n",
              "    </div>\n",
              "  </div>\n"
            ],
            "application/vnd.google.colaboratory.intrinsic+json": {
              "type": "dataframe",
              "summary": "{\n  \"name\": \"single_gene_deletion(nmodelo, nmodelo\",\n  \"rows\": 908,\n  \"fields\": [\n    {\n      \"column\": \"ids\",\n      \"properties\": {\n        \"dtype\": \"object\",\n        \"semantic_type\": \"\",\n        \"description\": \"\"\n      }\n    },\n    {\n      \"column\": \"growth\",\n      \"properties\": {\n        \"dtype\": \"number\",\n        \"std\": 0.04743516486186843,\n        \"min\": -1.1555501584488789e-13,\n        \"max\": 0.14393285185205454,\n        \"num_unique_values\": 357,\n        \"samples\": [\n          1.39665836721409e-17,\n          0.14393285185200844,\n          0.14393285185201476\n        ],\n        \"semantic_type\": \"\",\n        \"description\": \"\"\n      }\n    },\n    {\n      \"column\": \"status\",\n      \"properties\": {\n        \"dtype\": \"category\",\n        \"num_unique_values\": 1,\n        \"samples\": [\n          \"optimal\"\n        ],\n        \"semantic_type\": \"\",\n        \"description\": \"\"\n      }\n    }\n  ]\n}"
            }
          },
          "metadata": {},
          "execution_count": 899
        }
      ]
    },
    {
      "cell_type": "code",
      "execution_count": null,
      "metadata": {
        "id": "dyPn0dEV1eL-"
      },
      "outputs": [],
      "source": [
        "from cobra.io import load_model\n",
        "model = load_model('textbook')"
      ]
    }
  ],
  "metadata": {
    "colab": {
      "collapsed_sections": [
        "WQvo2LW_LFQ-"
      ],
      "provenance": [],
      "include_colab_link": true
    },
    "kernelspec": {
      "display_name": "Python 3",
      "name": "python3"
    },
    "language_info": {
      "name": "python"
    }
  },
  "nbformat": 4,
  "nbformat_minor": 0
}