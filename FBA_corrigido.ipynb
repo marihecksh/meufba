{
  "cells": [
    {
      "cell_type": "markdown",
      "metadata": {
        "id": "view-in-github",
        "colab_type": "text"
      },
      "source": [
        "<a href=\"https://colab.research.google.com/github/marihecksh/meufba/blob/main/FBA_corrigido.ipynb\" target=\"_parent\"><img src=\"https://colab.research.google.com/assets/colab-badge.svg\" alt=\"Open In Colab\"/></a>"
      ]
    },
    {
      "cell_type": "markdown",
      "metadata": {
        "id": "RJ5_yV3Hmqot"
      },
      "source": [
        "# **Nova simulação Flux Balance Analysis**\n",
        "\n",
        "---\n",
        "\n",
        "\n",
        "\n",
        "---\n",
        "\n",
        "\n",
        "\n"
      ]
    },
    {
      "cell_type": "markdown",
      "metadata": {
        "id": "u_nNVIcHImIL"
      },
      "source": [
        "**Links importantes**\n",
        "\n",
        "\n",
        "*   [Documentação atualizada cobrapy](https://cobrapy.readthedocs.io/en/latest/autoapi/cobra/core/gene/index.html)\n",
        "\n",
        "*   [Documentação Escher](https://escher.readthedocs.io/en/latest/getting_started.html)\n",
        "* [Escher-FBA](https://sbrg.github.io/escher-fba/#/)\n",
        "* [FBA with Cobrapy](https://cnls.lanl.gov/external/qbio2018/Slides/FBA%202/qBio-FBA-lab-slides.pdf)\n",
        "* [Example codes para PyFBA](https://github.com/linsalrob/PyFBA/blob/master/example_code/run_fba_sbml.py)\n",
        "\n",
        "---\n",
        "\n",
        "\n",
        "\n"
      ]
    },
    {
      "cell_type": "markdown",
      "metadata": {
        "id": "ACj_jF6jqmQ3"
      },
      "source": [
        "---\n",
        "**Instalação de bibliotecas e criação da cópia do modelo**\n",
        "---\n"
      ]
    },
    {
      "cell_type": "code",
      "execution_count": null,
      "metadata": {
        "colab": {
          "base_uri": "https://localhost:8080/"
        },
        "id": "A03UbKgWmouu",
        "outputId": "60084db0-5f33-4f03-ce90-5239251da514"
      },
      "outputs": [
        {
          "output_type": "stream",
          "name": "stdout",
          "text": [
            "Collecting cobra\n",
            "  Downloading cobra-0.29.0-py2.py3-none-any.whl.metadata (9.3 kB)\n",
            "Collecting appdirs~=1.4 (from cobra)\n",
            "  Downloading appdirs-1.4.4-py2.py3-none-any.whl.metadata (9.0 kB)\n",
            "Collecting depinfo~=2.2 (from cobra)\n",
            "  Downloading depinfo-2.2.0-py3-none-any.whl.metadata (3.8 kB)\n",
            "Collecting diskcache~=5.0 (from cobra)\n",
            "  Downloading diskcache-5.6.3-py3-none-any.whl.metadata (20 kB)\n",
            "Requirement already satisfied: future in /usr/local/lib/python3.10/dist-packages (from cobra) (1.0.0)\n",
            "Collecting httpx~=0.24 (from cobra)\n",
            "  Downloading httpx-0.27.2-py3-none-any.whl.metadata (7.1 kB)\n",
            "Requirement already satisfied: importlib-resources in /usr/local/lib/python3.10/dist-packages (from cobra) (6.4.4)\n",
            "Requirement already satisfied: numpy>=1.13 in /usr/local/lib/python3.10/dist-packages (from cobra) (1.26.4)\n",
            "Collecting optlang~=1.8 (from cobra)\n",
            "  Downloading optlang-1.8.2-py2.py3-none-any.whl.metadata (8.1 kB)\n",
            "Requirement already satisfied: pandas<3.0,>=1.0 in /usr/local/lib/python3.10/dist-packages (from cobra) (2.1.4)\n",
            "Requirement already satisfied: pydantic>=1.6 in /usr/local/lib/python3.10/dist-packages (from cobra) (2.8.2)\n",
            "Collecting python-libsbml~=5.19 (from cobra)\n",
            "  Downloading python_libsbml-5.20.4-cp310-cp310-manylinux_2_17_x86_64.manylinux2014_x86_64.whl.metadata (532 bytes)\n",
            "Requirement already satisfied: rich>=8.0 in /usr/local/lib/python3.10/dist-packages (from cobra) (13.8.0)\n",
            "Collecting ruamel.yaml~=0.16 (from cobra)\n",
            "  Downloading ruamel.yaml-0.18.6-py3-none-any.whl.metadata (23 kB)\n",
            "Collecting swiglpk (from cobra)\n",
            "  Downloading swiglpk-5.0.10-cp310-cp310-manylinux_2_17_x86_64.manylinux2014_x86_64.whl.metadata (5.5 kB)\n",
            "Requirement already satisfied: anyio in /usr/local/lib/python3.10/dist-packages (from httpx~=0.24->cobra) (3.7.1)\n",
            "Requirement already satisfied: certifi in /usr/local/lib/python3.10/dist-packages (from httpx~=0.24->cobra) (2024.7.4)\n",
            "Collecting httpcore==1.* (from httpx~=0.24->cobra)\n",
            "  Downloading httpcore-1.0.5-py3-none-any.whl.metadata (20 kB)\n",
            "Requirement already satisfied: idna in /usr/local/lib/python3.10/dist-packages (from httpx~=0.24->cobra) (3.8)\n",
            "Requirement already satisfied: sniffio in /usr/local/lib/python3.10/dist-packages (from httpx~=0.24->cobra) (1.3.1)\n",
            "Collecting h11<0.15,>=0.13 (from httpcore==1.*->httpx~=0.24->cobra)\n",
            "  Downloading h11-0.14.0-py3-none-any.whl.metadata (8.2 kB)\n",
            "Requirement already satisfied: sympy>=1.12.0 in /usr/local/lib/python3.10/dist-packages (from optlang~=1.8->cobra) (1.13.2)\n",
            "Requirement already satisfied: python-dateutil>=2.8.2 in /usr/local/lib/python3.10/dist-packages (from pandas<3.0,>=1.0->cobra) (2.8.2)\n",
            "Requirement already satisfied: pytz>=2020.1 in /usr/local/lib/python3.10/dist-packages (from pandas<3.0,>=1.0->cobra) (2024.1)\n",
            "Requirement already satisfied: tzdata>=2022.1 in /usr/local/lib/python3.10/dist-packages (from pandas<3.0,>=1.0->cobra) (2024.1)\n",
            "Requirement already satisfied: annotated-types>=0.4.0 in /usr/local/lib/python3.10/dist-packages (from pydantic>=1.6->cobra) (0.7.0)\n",
            "Requirement already satisfied: pydantic-core==2.20.1 in /usr/local/lib/python3.10/dist-packages (from pydantic>=1.6->cobra) (2.20.1)\n",
            "Requirement already satisfied: typing-extensions>=4.6.1 in /usr/local/lib/python3.10/dist-packages (from pydantic>=1.6->cobra) (4.12.2)\n",
            "Requirement already satisfied: markdown-it-py>=2.2.0 in /usr/local/lib/python3.10/dist-packages (from rich>=8.0->cobra) (3.0.0)\n",
            "Requirement already satisfied: pygments<3.0.0,>=2.13.0 in /usr/local/lib/python3.10/dist-packages (from rich>=8.0->cobra) (2.16.1)\n",
            "Collecting ruamel.yaml.clib>=0.2.7 (from ruamel.yaml~=0.16->cobra)\n",
            "  Downloading ruamel.yaml.clib-0.2.8-cp310-cp310-manylinux_2_17_x86_64.manylinux2014_x86_64.manylinux_2_24_x86_64.whl.metadata (2.2 kB)\n",
            "Requirement already satisfied: mdurl~=0.1 in /usr/local/lib/python3.10/dist-packages (from markdown-it-py>=2.2.0->rich>=8.0->cobra) (0.1.2)\n",
            "Requirement already satisfied: six>=1.5 in /usr/local/lib/python3.10/dist-packages (from python-dateutil>=2.8.2->pandas<3.0,>=1.0->cobra) (1.16.0)\n",
            "Requirement already satisfied: mpmath<1.4,>=1.1.0 in /usr/local/lib/python3.10/dist-packages (from sympy>=1.12.0->optlang~=1.8->cobra) (1.3.0)\n",
            "Requirement already satisfied: exceptiongroup in /usr/local/lib/python3.10/dist-packages (from anyio->httpx~=0.24->cobra) (1.2.2)\n",
            "Downloading cobra-0.29.0-py2.py3-none-any.whl (1.2 MB)\n",
            "\u001b[2K   \u001b[90m━━━━━━━━━━━━━━━━━━━━━━━━━━━━━━━━━━━━━━━━\u001b[0m \u001b[32m1.2/1.2 MB\u001b[0m \u001b[31m23.2 MB/s\u001b[0m eta \u001b[36m0:00:00\u001b[0m\n",
            "\u001b[?25hDownloading appdirs-1.4.4-py2.py3-none-any.whl (9.6 kB)\n",
            "Downloading depinfo-2.2.0-py3-none-any.whl (24 kB)\n",
            "Downloading diskcache-5.6.3-py3-none-any.whl (45 kB)\n",
            "\u001b[2K   \u001b[90m━━━━━━━━━━━━━━━━━━━━━━━━━━━━━━━━━━━━━━━━\u001b[0m \u001b[32m45.5/45.5 kB\u001b[0m \u001b[31m2.5 MB/s\u001b[0m eta \u001b[36m0:00:00\u001b[0m\n",
            "\u001b[?25hDownloading httpx-0.27.2-py3-none-any.whl (76 kB)\n",
            "\u001b[2K   \u001b[90m━━━━━━━━━━━━━━━━━━━━━━━━━━━━━━━━━━━━━━━━\u001b[0m \u001b[32m76.4/76.4 kB\u001b[0m \u001b[31m4.1 MB/s\u001b[0m eta \u001b[36m0:00:00\u001b[0m\n",
            "\u001b[?25hDownloading httpcore-1.0.5-py3-none-any.whl (77 kB)\n",
            "\u001b[2K   \u001b[90m━━━━━━━━━━━━━━━━━━━━━━━━━━━━━━━━━━━━━━━━\u001b[0m \u001b[32m77.9/77.9 kB\u001b[0m \u001b[31m4.6 MB/s\u001b[0m eta \u001b[36m0:00:00\u001b[0m\n",
            "\u001b[?25hDownloading optlang-1.8.2-py2.py3-none-any.whl (141 kB)\n",
            "\u001b[2K   \u001b[90m━━━━━━━━━━━━━━━━━━━━━━━━━━━━━━━━━━━━━━━━\u001b[0m \u001b[32m141.8/141.8 kB\u001b[0m \u001b[31m8.2 MB/s\u001b[0m eta \u001b[36m0:00:00\u001b[0m\n",
            "\u001b[?25hDownloading python_libsbml-5.20.4-cp310-cp310-manylinux_2_17_x86_64.manylinux2014_x86_64.whl (8.0 MB)\n",
            "\u001b[2K   \u001b[90m━━━━━━━━━━━━━━━━━━━━━━━━━━━━━━━━━━━━━━━━\u001b[0m \u001b[32m8.0/8.0 MB\u001b[0m \u001b[31m46.2 MB/s\u001b[0m eta \u001b[36m0:00:00\u001b[0m\n",
            "\u001b[?25hDownloading ruamel.yaml-0.18.6-py3-none-any.whl (117 kB)\n",
            "\u001b[2K   \u001b[90m━━━━━━━━━━━━━━━━━━━━━━━━━━━━━━━━━━━━━━━━\u001b[0m \u001b[32m117.8/117.8 kB\u001b[0m \u001b[31m7.2 MB/s\u001b[0m eta \u001b[36m0:00:00\u001b[0m\n",
            "\u001b[?25hDownloading swiglpk-5.0.10-cp310-cp310-manylinux_2_17_x86_64.manylinux2014_x86_64.whl (2.3 MB)\n",
            "\u001b[2K   \u001b[90m━━━━━━━━━━━━━━━━━━━━━━━━━━━━━━━━━━━━━━━━\u001b[0m \u001b[32m2.3/2.3 MB\u001b[0m \u001b[31m43.5 MB/s\u001b[0m eta \u001b[36m0:00:00\u001b[0m\n",
            "\u001b[?25hDownloading ruamel.yaml.clib-0.2.8-cp310-cp310-manylinux_2_17_x86_64.manylinux2014_x86_64.manylinux_2_24_x86_64.whl (526 kB)\n",
            "\u001b[2K   \u001b[90m━━━━━━━━━━━━━━━━━━━━━━━━━━━━━━━━━━━━━━━━\u001b[0m \u001b[32m526.7/526.7 kB\u001b[0m \u001b[31m20.7 MB/s\u001b[0m eta \u001b[36m0:00:00\u001b[0m\n",
            "\u001b[?25hDownloading h11-0.14.0-py3-none-any.whl (58 kB)\n",
            "\u001b[2K   \u001b[90m━━━━━━━━━━━━━━━━━━━━━━━━━━━━━━━━━━━━━━━━\u001b[0m \u001b[32m58.3/58.3 kB\u001b[0m \u001b[31m3.2 MB/s\u001b[0m eta \u001b[36m0:00:00\u001b[0m\n",
            "\u001b[?25hInstalling collected packages: swiglpk, python-libsbml, appdirs, ruamel.yaml.clib, h11, diskcache, depinfo, ruamel.yaml, optlang, httpcore, httpx, cobra\n",
            "Successfully installed appdirs-1.4.4 cobra-0.29.0 depinfo-2.2.0 diskcache-5.6.3 h11-0.14.0 httpcore-1.0.5 httpx-0.27.2 optlang-1.8.2 python-libsbml-5.20.4 ruamel.yaml-0.18.6 ruamel.yaml.clib-0.2.8 swiglpk-5.0.10\n",
            "Requirement already satisfied: pandas in /usr/local/lib/python3.10/dist-packages (2.1.4)\n",
            "Requirement already satisfied: numpy<2,>=1.22.4 in /usr/local/lib/python3.10/dist-packages (from pandas) (1.26.4)\n",
            "Requirement already satisfied: python-dateutil>=2.8.2 in /usr/local/lib/python3.10/dist-packages (from pandas) (2.8.2)\n",
            "Requirement already satisfied: pytz>=2020.1 in /usr/local/lib/python3.10/dist-packages (from pandas) (2024.1)\n",
            "Requirement already satisfied: tzdata>=2022.1 in /usr/local/lib/python3.10/dist-packages (from pandas) (2024.1)\n",
            "Requirement already satisfied: six>=1.5 in /usr/local/lib/python3.10/dist-packages (from python-dateutil>=2.8.2->pandas) (1.16.0)\n"
          ]
        }
      ],
      "source": [
        "#Instalação do cobrapy\n",
        "!pip install cobra\n",
        "#Instalação do pandas\n",
        "!pip install pandas\n",
        "\n",
        "#Importação do cobrapy e funções importantes dele\n",
        "import cobra\n",
        "from cobra.io import load_model\n",
        "from cobra.io import load_json_model, save_json_model\n",
        "from cobra import Model, Reaction, Metabolite\n",
        "\n",
        "#Importação do pandas para manusear os dados de fluxo do cobrapy\n",
        "import pandas as pd\n",
        "\n",
        "#Permitir download do aquivo do Bigg\n",
        "from urllib import request\n",
        "\n",
        "#Permitir copiar arquivos\n",
        "import copy"
      ]
    },
    {
      "cell_type": "code",
      "source": [],
      "metadata": {
        "id": "LhSecT2oRQNf"
      },
      "execution_count": null,
      "outputs": []
    },
    {
      "cell_type": "code",
      "execution_count": null,
      "metadata": {
        "colab": {
          "base_uri": "https://localhost:8080/"
        },
        "id": "dfstTKnMpn0K",
        "outputId": "ab13b8af-b99a-4ea7-d24a-c7981f166f6f"
      },
      "outputs": [
        {
          "output_type": "execute_result",
          "data": {
            "text/plain": [
              "('iMM904.json', <http.client.HTTPMessage at 0x7e8ab1cfc820>)"
            ]
          },
          "metadata": {},
          "execution_count": 2
        }
      ],
      "source": [
        "#Download do modelo a partir do BIGG\n",
        "file_url = 'http://bigg.ucsd.edu/static/models/iMM904.json'\n",
        "file = 'iMM904.json'\n",
        "request.urlretrieve(file_url , file )"
      ]
    },
    {
      "cell_type": "code",
      "execution_count": null,
      "metadata": {
        "colab": {
          "base_uri": "https://localhost:8080/"
        },
        "id": "Z8JhyDmcLelk",
        "outputId": "7e3f3993-1388-4e37-ed59-1da258db7773"
      },
      "outputs": [
        {
          "output_type": "stream",
          "name": "stdout",
          "text": [
            "1577\n",
            "1226\n",
            "905\n"
          ]
        }
      ],
      "source": [
        "#Leitura do modelo baixado\n",
        "modelo = load_json_model('/content/iMM904.json')\n",
        "\n",
        "#Verificando as caracteristicas do modelo\n",
        "print(len(modelo.reactions))\n",
        "print(len(modelo.metabolites))\n",
        "print(len(modelo.genes))"
      ]
    },
    {
      "cell_type": "code",
      "execution_count": null,
      "metadata": {
        "id": "f1dNqWXBE5cA"
      },
      "outputs": [],
      "source": [
        "#Fazendo copia para modificar o modelo\n",
        "nmodelo = copy.deepcopy(modelo)"
      ]
    },
    {
      "cell_type": "code",
      "execution_count": null,
      "metadata": {
        "colab": {
          "base_uri": "https://localhost:8080/"
        },
        "id": "LqjLKJ7zFB44",
        "outputId": "74d7b3e7-bb8c-4365-d5a4-87a1309439a6"
      },
      "outputs": [
        {
          "output_type": "stream",
          "name": "stdout",
          "text": [
            "1577\n",
            "1226\n",
            "905\n"
          ]
        }
      ],
      "source": [
        "#Verificando as caracteristicas da cópia\n",
        "print(len(nmodelo.reactions))\n",
        "print(len(nmodelo.metabolites))\n",
        "print(len(nmodelo.genes))"
      ]
    },
    {
      "cell_type": "code",
      "execution_count": null,
      "metadata": {
        "colab": {
          "base_uri": "https://localhost:8080/",
          "height": 204
        },
        "id": "4ZdP_oM8M5eM",
        "outputId": "98fbe963-c03e-44ad-e51c-4ee61896ff27"
      },
      "outputs": [
        {
          "output_type": "execute_result",
          "data": {
            "text/plain": [
              "<Reaction ACALDtm at 0x7e8ab10deef0>"
            ],
            "text/html": [
              "\n",
              "        <table>\n",
              "            <tr>\n",
              "                <td><strong>Reaction identifier</strong></td><td>ACALDtm</td>\n",
              "            </tr><tr>\n",
              "                <td><strong>Name</strong></td><td>Acetaldehyde mitochondrial diffusion</td>\n",
              "            </tr><tr>\n",
              "                <td><strong>Memory address</strong></td>\n",
              "                <td>0x7e8ab10deef0</td>\n",
              "            </tr><tr>\n",
              "                <td><strong>Stoichiometry</strong></td>\n",
              "                <td>\n",
              "                    <p style='text-align:right'>acald_m <=> acald_c</p>\n",
              "                    <p style='text-align:right'>Acetaldehyde <=> Acetaldehyde</p>\n",
              "                </td>\n",
              "            </tr><tr>\n",
              "                <td><strong>GPR</strong></td><td></td>\n",
              "            </tr><tr>\n",
              "                <td><strong>Lower bound</strong></td><td>-999999.0</td>\n",
              "            </tr><tr>\n",
              "                <td><strong>Upper bound</strong></td><td>999999.0</td>\n",
              "            </tr>\n",
              "        </table>\n",
              "        "
            ]
          },
          "metadata": {},
          "execution_count": 6
        }
      ],
      "source": [
        "#Para visualizar uma reação específica (para ver reação número 30 deve-se usar o numero 29 devi ao o-indexing)\n",
        "modelo.reactions[29]"
      ]
    },
    {
      "cell_type": "code",
      "execution_count": null,
      "metadata": {
        "id": "8dDDuQKg659E"
      },
      "outputs": [],
      "source": [
        "#Definindo os metabolitos do modelo\n",
        "nad_c = nmodelo.metabolites.get_by_id( 'nad_c') #nad\n",
        "h2o_c = nmodelo.metabolites.get_by_id( 'h2o_c') #h2o\n",
        "amp_c = nmodelo.metabolites.get_by_id( 'amp_c') #AMP\n",
        "nmn_c = nmodelo.metabolites.get_by_id( 'nmn_c') #NMN\n",
        "pi_c = nmodelo.metabolites.get_by_id( 'pi_c') #phosphate\n",
        "rnam_c = nmodelo.metabolites.get_by_id( 'rnam_c') #NR\n",
        "nac_m = nmodelo.metabolites.get_by_id( 'nac_m') #Nicotinate mitocondrial\n",
        "ncam_m = nmodelo.metabolites.get_by_id( 'ncam_m') #Nicotinamide mitocondrial\n",
        "h2o_m = nmodelo.metabolites.get_by_id( 'h2o_m') #h2o mitocondrial\n",
        "nh4_m = nmodelo.metabolites.get_by_id( 'nh4_m') #Amonio mitocondrial\n",
        "co2_m = nmodelo.metabolites.get_by_id( 'co2_m') #CO2 mitocondrial\n",
        "h_m = nmodelo.metabolites.get_by_id( 'h_m') #H+ mitocondrial\n",
        "nicrnt_m = nmodelo.metabolites.get_by_id( 'nicrnt_m') #Nicotinate D-ribonucleotide mitocondrial\n",
        "ppi_m = nmodelo.metabolites.get_by_id( 'ppi_m') #Diphosphate mitocondrial\n",
        "prpp_m = nmodelo.metabolites.get_by_id( 'prpp_m') #5-Phospho-alpha-D-ribose 1-diphosphate mitocondrial\n",
        "quln_m = nmodelo.metabolites.get_by_id( 'quln_m') #Quinolinato mitocondrial\n",
        "adp_c = nmodelo.metabolites.get_by_id( 'adp_c') #ADP\n",
        "atp_c = nmodelo.metabolites.get_by_id( 'atp_c') #ATP\n",
        "h_c = nmodelo.metabolites.get_by_id( 'h_c') #H+\n",
        "nad_c = nmodelo.metabolites.get_by_id( 'nad_c') #NAD\n",
        "ppi_c = nmodelo.metabolites.get_by_id( 'ppi_c') #Diphosphate\n",
        "ncam_c = nmodelo.metabolites.get_by_id( 'ncam_c') #Nicotinamide\n",
        "nac_c = nmodelo.metabolites.get_by_id( 'nac_c') #Nicotinate\n",
        "nh4_c = nmodelo.metabolites.get_by_id( 'nh4_c') #Ammonium\n",
        "co2_c = nmodelo.metabolites.get_by_id( 'co2_c') #CO2\n",
        "nicrnt_c = nmodelo.metabolites.get_by_id( 'nicrnt_c') #Nicotinate D-ribonucleotide\n",
        "prpp_c = nmodelo.metabolites.get_by_id('prpp_c') #5-Phospho-alpha-D-ribose 1-diphosphate\n",
        "quln_c = nmodelo.metabolites.get_by_id('quln_c') #Quinolinato\n",
        "adprib_c = nmodelo.metabolites.get_by_id('adprib_c') # ADP ribose\n",
        "dnad_c = nmodelo.metabolites.get_by_id('dnad_c') #Deamino-NAD+\n",
        "r1p_c = nmodelo.metabolites.get_by_id('r1p_c') #Alpha-D-Ribose 1-phosphate\n",
        "nac_e = nmodelo.metabolites.get_by_id('nac_e') #Nicotinate externo\n",
        "hLkynr_c = nmodelo.metabolites.get_by_id('hLkynr_c') #3-Hydroxy-L-kynurenine\n",
        "nadp_c = nmodelo.metabolites.get_by_id('nadp_c') #NADP\n",
        "nadph_c = nmodelo.metabolites.get_by_id('nadph_c') #NADPH\n",
        "Lkynr_c = nmodelo.metabolites.get_by_id('Lkynr_c') #KYN\n",
        "ala__L_c = nmodelo.metabolites.get_by_id('ala__L_c') #L-Alanine\n",
        "hanthrn_c = nmodelo.metabolites.get_by_id('3hanthrn_c') #3 Hydroxyanthranilate\n",
        "cmusa_c = nmodelo.metabolites.get_by_id('cmusa_c') #2 Amino 3 carboxymuconate semialdehyde\n",
        "o2_c = nmodelo.metabolites.get_by_id('o2_c') #Oxigenio\n",
        "Lfmkynr_c = nmodelo.metabolites.get_by_id('Lfmkynr_c') #L Formylkynurenine\n",
        "for_c = nmodelo.metabolites.get_by_id('for_c') #Formic acid\n",
        "arg__L_c = nmodelo.metabolites.get_by_id('arg__L_c')\n",
        "asn__L_c = nmodelo.metabolites.get_by_id('asn__L_c')\n",
        "asp__L_c = nmodelo.metabolites.get_by_id('asp__L_c')\n",
        "cmp_c = nmodelo.metabolites.get_by_id('cmp_c')\n",
        "cys__L_c = nmodelo.metabolites.get_by_id('cys__L_c')\n",
        "damp_c = nmodelo.metabolites.get_by_id('damp_c')\n",
        "dcmp_c = nmodelo.metabolites.get_by_id('dcmp_c')\n",
        "dgmp_c = nmodelo.metabolites.get_by_id('dgmp_c')\n",
        "dtmp_c = nmodelo.metabolites.get_by_id('dtmp_c')\n",
        "gln__L_c = nmodelo.metabolites.get_by_id('gln__L_c')\n",
        "glu__L_c = nmodelo.metabolites.get_by_id('glu__L_c')\n",
        "gly_c = nmodelo.metabolites.get_by_id('gly_c')\n",
        "glycogen_c = nmodelo.metabolites.get_by_id('glycogen_c')\n",
        "gmp_c = nmodelo.metabolites.get_by_id('gmp_c')\n",
        "his__L_c = nmodelo.metabolites.get_by_id('his__L_c')\n",
        "ile__L_c = nmodelo.metabolites.get_by_id('ile__L_c')\n",
        "leu__L_c = nmodelo.metabolites.get_by_id('leu__L_c')\n",
        "lys__L_c = nmodelo.metabolites.get_by_id('lys__L_c')\n",
        "met__L_c = nmodelo.metabolites.get_by_id('met__L_c')\n",
        "phe__L_c = nmodelo.metabolites.get_by_id('phe__L_c')\n",
        "pro__L_c = nmodelo.metabolites.get_by_id('pro__L_c')\n",
        "ribflv_c = nmodelo.metabolites.get_by_id('ribflv_c')\n",
        "ser__L_c = nmodelo.metabolites.get_by_id('ser__L_c')\n",
        "so4_c = nmodelo.metabolites.get_by_id('so4_c')\n",
        "thr__L_c = nmodelo.metabolites.get_by_id('thr__L_c')\n",
        "tre_c = nmodelo.metabolites.get_by_id('tre_c')\n",
        "tyr__L_c = nmodelo.metabolites.get_by_id('tyr__L_c')\n",
        "ump_c = nmodelo.metabolites.get_by_id('ump_c')\n",
        "val__L_c = nmodelo.metabolites.get_by_id('val__L_c')\n",
        "BDglcn_c = nmodelo.metabolites.get_by_id('13BDglcn_c')\n",
        "ergst_c = nmodelo.metabolites.get_by_id('ergst_c')\n",
        "mannan_c = nmodelo.metabolites.get_by_id('mannan_c')\n",
        "pa_SC_c = nmodelo.metabolites.get_by_id('pa_SC_c')\n",
        "pc_SC_c = nmodelo.metabolites.get_by_id('pc_SC_c')\n",
        "pe_SC_c = nmodelo.metabolites.get_by_id('pe_SC_c')\n",
        "ps_SC_c = nmodelo.metabolites.get_by_id('pe_SC_c')\n",
        "ptd1ino_SC_c = nmodelo.metabolites.get_by_id('ptd1ino_SC_c')\n",
        "triglyc_SC_c = nmodelo.metabolites.get_by_id('triglyc_SC_c')\n",
        "zymst_c = nmodelo.metabolites.get_by_id('zymst_c')"
      ]
    },
    {
      "cell_type": "code",
      "execution_count": null,
      "metadata": {
        "colab": {
          "base_uri": "https://localhost:8080/"
        },
        "id": "HSMtyAT-4URc",
        "outputId": "ee3bd020-523b-45f1-c4c3-c30d21527145"
      },
      "outputs": [
        {
          "output_type": "stream",
          "name": "stdout",
          "text": [
            "NNAM: h2o_c + ncam_c --> nac_c + nh4_c\n"
          ]
        }
      ],
      "source": [
        "#Reacao referente ao gene YGL037C (Nicotinamidase - citosol)  (essa celula adiciona ao modelo a reaçao, os metabolitos e o gene relacionado)\n",
        "nmodelo = Model('nmodelo')\n",
        "\n",
        "reacao01 = Reaction('NNAM')\n",
        "reacao01.name = 'Nicotinamidase'\n",
        "reacao01.subsystem = 'S_NAD_Biosynthesis'\n",
        "reacao01.lower_bound = 0.\n",
        "reacao01.upper_bound = 1000.\n",
        "\n",
        "reacao01.add_metabolites({\n",
        "    h2o_c: -1.0,\n",
        "    ncam_c: -1.0,\n",
        "    nac_c: 1.0,\n",
        "    nh4_c: 1.0\n",
        "})\n",
        "reacao01.gene_reaction_rule = ( 'YGL037C' )\n",
        "reacao01.genes\n",
        "print(reacao01)"
      ]
    },
    {
      "cell_type": "code",
      "execution_count": null,
      "metadata": {
        "colab": {
          "base_uri": "https://localhost:8080/"
        },
        "id": "b-KCEc9yQToj",
        "outputId": "39804795-d52f-46d3-9e1e-82049ad62ddd"
      },
      "outputs": [
        {
          "output_type": "stream",
          "name": "stdout",
          "text": [
            "NNDPR: co2_c + 2.0 h_c + prpp_c + quln_c --> nicrnt_c + ppi_c\n"
          ]
        }
      ],
      "source": [
        "#Reacao referente ao gene YFR047C (BNA6/QPT1)\n",
        "nmodelo = Model('nmodelo')\n",
        "\n",
        "reacao02 = Reaction('NNDPR')\n",
        "reacao02.name = 'Nicotinate-nucleotide diphosphorylase (carboxylating)'\n",
        "reacao02.subsystem = 'S_NAD_Biosynthesis'\n",
        "reacao02.lower_bound = 0.\n",
        "reacao02.upper_bound = 1000.\n",
        "\n",
        "reacao02.add_metabolites({\n",
        "    co2_c: -1.0,\n",
        "    h_c: -2.0,\n",
        "    nicrnt_c: 1.0,\n",
        "    ppi_c: 1.0,\n",
        "    prpp_c: -1.0,\n",
        "    quln_c: -1.0\n",
        "})\n",
        "reacao02.gene_reaction_rule = ( 'YFR047C' )\n",
        "reacao02.genes\n",
        "print(reacao02)\n",
        "nmodelo.add_reactions([reacao02])"
      ]
    },
    {
      "cell_type": "code",
      "execution_count": null,
      "metadata": {
        "colab": {
          "base_uri": "https://localhost:8080/"
        },
        "id": "ec7-WeYpHU8u",
        "outputId": "7fd1e9fa-5f20-4d8c-b415-bbde641dd8d8"
      },
      "outputs": [
        {
          "output_type": "stream",
          "name": "stdout",
          "text": [
            "2 reactions\n",
            "10 metabolites\n",
            "2 genes\n"
          ]
        }
      ],
      "source": [
        "#Adicionando a reaçao\n",
        "nmodelo.add_reactions([reacao01])\n",
        "print(f'{len(nmodelo.reactions)} reactions')\n",
        "print(f'{len(nmodelo.metabolites)} metabolites')\n",
        "print(f'{len(nmodelo.genes)} genes')"
      ]
    },
    {
      "cell_type": "code",
      "execution_count": null,
      "metadata": {
        "colab": {
          "base_uri": "https://localhost:8080/"
        },
        "id": "q__Y9WAkbLIf",
        "outputId": "e7a739c5-414d-4320-b3d1-ccafd612e75e"
      },
      "outputs": [
        {
          "output_type": "stream",
          "name": "stdout",
          "text": [
            "RNMK: atp_c + rnam_c --> adp_c + h_c + nmn_c\n"
          ]
        }
      ],
      "source": [
        "#Reacao referente ao gene YNL129W (NRK1)\n",
        "nmodelo = Model('nmodelo')\n",
        "\n",
        "reacao03 = Reaction('RNMK')\n",
        "reacao03.name = 'Ribosylnicotinamide kinase'\n",
        "reacao03.subsystem = 'S_NAD_Biosynthesis'\n",
        "reacao03.lower_bound = 0.\n",
        "reacao03.upper_bound = 1000.\n",
        "\n",
        "reacao03.add_metabolites({\n",
        "    atp_c: -1.0,\n",
        "    rnam_c: -1.0,\n",
        "    adp_c: 1.0,\n",
        "    h_c: 1.0,\n",
        "    nmn_c: 1.0,\n",
        "\n",
        "})\n",
        "reacao03.gene_reaction_rule = ( 'YNL129W' )\n",
        "reacao03.genes\n",
        "print(reacao03)\n",
        "nmodelo.add_reactions([reacao03])"
      ]
    },
    {
      "cell_type": "code",
      "execution_count": null,
      "metadata": {
        "colab": {
          "base_uri": "https://localhost:8080/"
        },
        "id": "w_dKF0u6qaYx",
        "outputId": "a6612f47-dba5-4452-a18e-03c49f21798a"
      },
      "outputs": [
        {
          "output_type": "stream",
          "name": "stdout",
          "text": [
            "NMNAT: atp_c + h_c + nmn_c --> nad_c + ppi_c\n"
          ]
        }
      ],
      "source": [
        "#Reacao referente ao gene YGR010W (NMA2)\n",
        "nmodelo = Model('nmodelo')\n",
        "\n",
        "reacao04 = Reaction('NMNAT')\n",
        "reacao04.name = 'Nicotinamide-nucleotide adenylyltransferase'\n",
        "reacao04.subsystem = 'S_NAD_Biosynthesis'\n",
        "reacao04.lower_bound = 0.\n",
        "reacao04.upper_bound = 1000.\n",
        "\n",
        "reacao04.add_metabolites({\n",
        "    atp_c: -1.0,\n",
        "    nad_c: 1.0,\n",
        "    nmn_c: -1.0,\n",
        "    h_c: -1.0,\n",
        "    ppi_c: 1.0,\n",
        "\n",
        "})\n",
        "reacao04.gene_reaction_rule = ( 'YGR010W' )\n",
        "reacao04.genes\n",
        "print(reacao04)\n",
        "nmodelo.add_reactions([reacao04])"
      ]
    },
    {
      "cell_type": "code",
      "execution_count": null,
      "metadata": {
        "colab": {
          "base_uri": "https://localhost:8080/"
        },
        "id": "RQJ3Y7se7TcL",
        "outputId": "c19ef09b-44a5-49c7-ed34-9f5b565d7af1"
      },
      "outputs": [
        {
          "output_type": "stream",
          "name": "stdout",
          "text": [
            "NADN: h2o_c + nad_c --> adprib_c + h_c + ncam_c\n"
          ]
        }
      ],
      "source": [
        "#Reacao referente ao gene TEMQUEVER (SIR2)\n",
        "nmodelo = Model('nmodelo')\n",
        "\n",
        "reacao05 = Reaction('NADN')\n",
        "reacao05.name = 'NAD nucleosidase'\n",
        "reacao05.subsystem = 'S_NAD_Biosynthesis'\n",
        "reacao05.lower_bound = 0.\n",
        "reacao05.upper_bound = 1000.\n",
        "\n",
        "reacao05.add_metabolites({\n",
        "    adprib_c: 1.0,\n",
        "    h_c: 1.0,\n",
        "    h2o_c: -1.0,\n",
        "    nad_c: -1.0,\n",
        "    ncam_c: 1.0,\n",
        "\n",
        "})\n",
        "reacao05.gene_reaction_rule = ( 'TEMQUEVER' )\n",
        "reacao05.genes\n",
        "print(reacao05)\n",
        "nmodelo.add_reactions([reacao05])\n",
        "\n",
        "#Nao tem gene relacionado no bigg models ( http://bigg.ucsd.edu/models/iMM904/reactions/NADN)"
      ]
    },
    {
      "cell_type": "code",
      "execution_count": null,
      "metadata": {
        "colab": {
          "base_uri": "https://localhost:8080/"
        },
        "id": "0MKUAxjkuhBW",
        "outputId": "9ffb10ee-d993-45aa-b42c-9c4a0363ed7c"
      },
      "outputs": [
        {
          "output_type": "stream",
          "name": "stdout",
          "text": [
            "NADS1: atp_c + dnad_c + nh4_c --> amp_c + h_c + nad_c + ppi_c\n"
          ]
        }
      ],
      "source": [
        "#Reacao referente ao gene YHR074W (QNS1)\n",
        "nmodelo = Model('nmodelo')\n",
        "\n",
        "reacao06 = Reaction('NADS1')\n",
        "reacao06.name = 'NAD synthase (nh3)'\n",
        "reacao06.subsystem = 'S_NAD_Biosynthesis'\n",
        "reacao06.lower_bound = 0.\n",
        "reacao06.upper_bound = 1000.\n",
        "\n",
        "reacao06.add_metabolites({\n",
        "    atp_c: -1.0,\n",
        "    dnad_c: -1.0,\n",
        "    nh4_c: -1.0,\n",
        "    amp_c: 1.0,\n",
        "    h_c: 1.0,\n",
        "    nad_c: 1.0,\n",
        "    ppi_c: 1.0\n",
        "\n",
        "})\n",
        "reacao06.gene_reaction_rule = ( 'YHR074W' )\n",
        "reacao06.genes\n",
        "print(reacao06)\n",
        "nmodelo.add_reactions([reacao06])"
      ]
    },
    {
      "cell_type": "code",
      "execution_count": null,
      "metadata": {
        "colab": {
          "base_uri": "https://localhost:8080/"
        },
        "id": "G3a7jifFOeex",
        "outputId": "fee7f400-549f-4181-f0cd-b1a6e708357a"
      },
      "outputs": [
        {
          "output_type": "stream",
          "name": "stdout",
          "text": [
            "PNP: pi_c + rnam_c --> h_c + ncam_c + r1p_c\n"
          ]
        }
      ],
      "source": [
        "#Reacao referente ao gene NAODIZ (PNP1)\n",
        "nmodelo = Model('nmodelo')\n",
        "\n",
        "reacao07 = Reaction('PNP')\n",
        "reacao07.name = 'Purine nucleoside phosphorylase'\n",
        "reacao07.subsystem = 'S_NAD_Biosynthesis'\n",
        "reacao07.lower_bound = 0.\n",
        "reacao07.upper_bound = 1000.\n",
        "\n",
        "reacao07.add_metabolites({\n",
        "      pi_c: -1.0,\n",
        "    rnam_c: -1.0,\n",
        "    h_c: 1.0,\n",
        "    ncam_c: 1.0,\n",
        "    r1p_c: 1.0,\n",
        "\n",
        "\n",
        "})\n",
        "reacao07.gene_reaction_rule = ( 'NAODIZ' )\n",
        "reacao07.genes\n",
        "print(reacao07)\n",
        "nmodelo.add_reactions([reacao07])"
      ]
    },
    {
      "cell_type": "code",
      "execution_count": null,
      "metadata": {
        "colab": {
          "base_uri": "https://localhost:8080/"
        },
        "id": "vw47Hu3IUtpI",
        "outputId": "0e81637d-d3c3-4d40-968d-5d8ae92133b6"
      },
      "outputs": [
        {
          "output_type": "stream",
          "name": "stdout",
          "text": [
            "NNATr: atp_c + h_c + nicrnt_c --> dnad_c + ppi_c\n"
          ]
        }
      ],
      "source": [
        "#Reacao referente ao gene YLR328W (NMA1) -- \tR03005\n",
        "nmodelo = Model('nmodelo')\n",
        "\n",
        "reacao08 = Reaction('NNATr')\n",
        "reacao08.name = 'Nicotinate-nucleotide adenylyltransferase'\n",
        "reacao08.subsystem = 'S_NAD_Biosynthesis'\n",
        "reacao08.lower_bound = 0.\n",
        "reacao08.upper_bound = 1000.\n",
        "\n",
        "reacao08.add_metabolites({\n",
        "      atp_c: -1.0,\n",
        "    nicrnt_c: -1.0,\n",
        "    h_c: -1.0,\n",
        "    dnad_c: 1.0,\n",
        "    ppi_c: 1.0\n",
        "\n",
        "})\n",
        "reacao08.gene_reaction_rule = ( 'YLR328W' )\n",
        "reacao08.genes\n",
        "print(reacao08)\n",
        "nmodelo.add_reactions([reacao08])"
      ]
    },
    {
      "cell_type": "code",
      "source": [
        "#Reacao referente ao gene YCL047C (POF1)\n",
        "nmodelo = Model('nmodelo')\n",
        "\n",
        "reacao082 = Reaction('NNATr2')\n",
        "reacao082.name = 'Nicotinate-nucleotide adenylyltransferase'\n",
        "reacao082.subsystem = 'S_NAD_Biosynthesis'\n",
        "reacao082.lower_bound = 0.\n",
        "reacao082.upper_bound = 1000.\n",
        "\n",
        "reacao082.add_metabolites({\n",
        "      atp_c: -1.0,\n",
        "    nicrnt_c: -1.0,\n",
        "    h_c: -1.0,\n",
        "    dnad_c: 1.0,\n",
        "    ppi_c: 1.0\n",
        "\n",
        "})\n",
        "reacao082.gene_reaction_rule = ( 'YCL047C' )\n",
        "reacao082.genes\n",
        "print(reacao082)\n",
        "nmodelo.add_reactions([reacao082])"
      ],
      "metadata": {
        "colab": {
          "base_uri": "https://localhost:8080/"
        },
        "id": "esjdXYgo6zxM",
        "outputId": "ff6f8d31-7be4-4298-e038-551a57b9eef2"
      },
      "execution_count": null,
      "outputs": [
        {
          "output_type": "stream",
          "name": "stdout",
          "text": [
            "NNATr2: atp_c + h_c + nicrnt_c --> dnad_c + ppi_c\n"
          ]
        }
      ]
    },
    {
      "cell_type": "code",
      "source": [
        "#Reacao referente ao gene YCL047C (POF1)\n",
        "# adicionando a reaçao da pof1 mais vezes para ela ter maior impacto no mapa\n",
        "nmodelo = Model('nmodelo')\n",
        "\n",
        "reacao082 = Reaction('NNATr2')\n",
        "reacao082.name = 'Nicotinate-nucleotide adenylyltransferase'\n",
        "reacao082.subsystem = 'S_NAD_Biosynthesis'\n",
        "reacao082.lower_bound = 0.\n",
        "reacao082.upper_bound = 1000.\n",
        "\n",
        "reacao082.add_metabolites({\n",
        "      atp_c: -1.0,\n",
        "    nicrnt_c: -1.0,\n",
        "    h_c: -1.0,\n",
        "    dnad_c: 1.0,\n",
        "    ppi_c: 1.0\n",
        "\n",
        "})\n",
        "reacao082.gene_reaction_rule = ( 'YCL047C' )\n",
        "reacao082.genes\n",
        "print(reacao082)\n",
        "nmodelo.add_reactions([reacao082])"
      ],
      "metadata": {
        "colab": {
          "base_uri": "https://localhost:8080/"
        },
        "id": "6FTqvzFuvSQz",
        "outputId": "074f9ccd-e547-4269-9b10-6386a8e7729b"
      },
      "execution_count": null,
      "outputs": [
        {
          "output_type": "stream",
          "name": "stdout",
          "text": [
            "NNATr2: atp_c + h_c + nicrnt_c --> dnad_c + ppi_c\n"
          ]
        }
      ]
    },
    {
      "cell_type": "code",
      "source": [
        "#Reacao referente ao gene YCL047C (POF1)\n",
        "# adicionando a reaçao da pof1 mais vezes para ela ter maior impacto no mapa\n",
        "nmodelo = Model('nmodelo')\n",
        "\n",
        "reacao082 = Reaction('NNATr2')\n",
        "reacao082.name = 'Nicotinate-nucleotide adenylyltransferase'\n",
        "reacao082.subsystem = 'S_NAD_Biosynthesis'\n",
        "reacao082.lower_bound = 0.\n",
        "reacao082.upper_bound = 1000.\n",
        "\n",
        "reacao082.add_metabolites({\n",
        "      atp_c: -1.0,\n",
        "    nicrnt_c: -1.0,\n",
        "    h_c: -1.0,\n",
        "    dnad_c: 1.0,\n",
        "    ppi_c: 1.0\n",
        "\n",
        "})\n",
        "reacao082.gene_reaction_rule = ( 'YCL047C' )\n",
        "reacao082.genes\n",
        "print(reacao082)\n",
        "nmodelo.add_reactions([reacao082])"
      ],
      "metadata": {
        "colab": {
          "base_uri": "https://localhost:8080/"
        },
        "id": "xbWUcaXPvTOr",
        "outputId": "bc722b6d-5b7c-4644-d01b-60a88cb402bc"
      },
      "execution_count": null,
      "outputs": [
        {
          "output_type": "stream",
          "name": "stdout",
          "text": [
            "NNATr2: atp_c + h_c + nicrnt_c --> dnad_c + ppi_c\n"
          ]
        }
      ]
    },
    {
      "cell_type": "code",
      "source": [
        "#Reacao referente ao gene YGR010W (NMA2)\n",
        "nmodelo = Model('nmodelo')\n",
        "\n",
        "reacao083 = Reaction('NNATr3')\n",
        "reacao083.name = 'Nicotinate-nucleotide adenylyltransferase'\n",
        "reacao083.subsystem = 'S_NAD_Biosynthesis'\n",
        "reacao083.lower_bound = 0.\n",
        "reacao083.upper_bound = 1000.\n",
        "\n",
        "reacao083.add_metabolites({\n",
        "      atp_c: -1.0,\n",
        "    nicrnt_c: -1.0,\n",
        "    h_c: -1.0,\n",
        "    dnad_c: 1.0,\n",
        "    ppi_c: 1.0\n",
        "\n",
        "})\n",
        "reacao083.gene_reaction_rule = ( 'YGR010W' )\n",
        "reacao083.genes\n",
        "print(reacao083)\n",
        "nmodelo.add_reactions([reacao083])"
      ],
      "metadata": {
        "colab": {
          "base_uri": "https://localhost:8080/"
        },
        "id": "BQoE45fz9Eks",
        "outputId": "a9a848b8-1927-4217-cb23-2c8cfb6bebb4"
      },
      "execution_count": null,
      "outputs": [
        {
          "output_type": "stream",
          "name": "stdout",
          "text": [
            "NNATr3: atp_c + h_c + nicrnt_c --> dnad_c + ppi_c\n"
          ]
        }
      ]
    },
    {
      "cell_type": "code",
      "execution_count": null,
      "metadata": {
        "colab": {
          "base_uri": "https://localhost:8080/"
        },
        "id": "BF1RN0HSWWig",
        "outputId": "0d4768e7-bf24-4abc-afdb-8ac099d1cbb8"
      },
      "outputs": [
        {
          "output_type": "stream",
          "name": "stdout",
          "text": [
            "NAPRT: h_c + nac_c + prpp_c --> nicrnt_c + ppi_c\n"
          ]
        }
      ],
      "source": [
        "#Reacao referente ao gene YOR209C (NPT1)\n",
        "nmodelo = Model('nmodelo')\n",
        "\n",
        "reacao09 = Reaction('NAPRT')\n",
        "reacao09.name = 'NAPRTase (rev)'\n",
        "reacao09.subsystem = 'S_NAD_Biosynthesis'\n",
        "reacao09.lower_bound = 0.\n",
        "reacao09.upper_bound = 1000.\n",
        "\n",
        "reacao09.add_metabolites({\n",
        "      prpp_c: -1.0,\n",
        "    nac_c: -1.0,\n",
        "    h_c: -1.0,\n",
        "    nicrnt_c: 1.0,\n",
        "    ppi_c: 1.0\n",
        "\n",
        "})\n",
        "reacao09.gene_reaction_rule = ( 'YOR209C' )\n",
        "reacao09.genes\n",
        "print(reacao09)\n",
        "nmodelo.add_reactions([reacao09])"
      ]
    },
    {
      "cell_type": "code",
      "execution_count": null,
      "metadata": {
        "colab": {
          "base_uri": "https://localhost:8080/"
        },
        "id": "jw_AD9xQbtCd",
        "outputId": "e13ebdec-5e4e-4a4e-e23f-7a3523001574"
      },
      "outputs": [
        {
          "output_type": "stream",
          "name": "stdout",
          "text": [
            "NACt: nac_e --> nac_c\n"
          ]
        }
      ],
      "source": [
        "#Reacao referente ao gene YGR260W (TNA1)\n",
        "nmodelo = Model('nmodelo')\n",
        "\n",
        "reacao10 = Reaction('NACt')\n",
        "reacao10.name = 'Nicotinic acid transport'\n",
        "reacao10.subsystem = 'S_Transport__Extracellular'\n",
        "reacao10.lower_bound = 0.\n",
        "reacao10.upper_bound = 1000.\n",
        "\n",
        "reacao10.add_metabolites({\n",
        "      nac_e: -1.0,\n",
        "    nac_c: 1.0,\n",
        "\n",
        "\n",
        "})\n",
        "reacao10.gene_reaction_rule = ( 'YGR260W' )\n",
        "reacao10.genes\n",
        "print(reacao10)\n",
        "nmodelo.add_reactions([reacao10])"
      ]
    },
    {
      "cell_type": "code",
      "execution_count": null,
      "metadata": {
        "colab": {
          "base_uri": "https://localhost:8080/"
        },
        "id": "81l3sbSJdul2",
        "outputId": "341f08a5-cef5-43b2-b6dc-e6ed58b47c8a"
      },
      "outputs": [
        {
          "output_type": "stream",
          "name": "stdout",
          "text": [
            "1577 reactions\n",
            "1226 metabolites\n",
            "905 genes\n"
          ]
        }
      ],
      "source": [
        "#Quantidade de genes, reaçoes e metabolitos tem ate agora no modelo -- o aviso de que as reacoes ja existem acontece quando vc executa mais de uma vez a celula, mas executando apenas 1x ele vai avisar que ja existe apenas a ultima (NACt)\n",
        "nmodelo = copy.deepcopy(modelo)\n",
        "\n",
        "print(f'{len(nmodelo.reactions)} reactions')\n",
        "print(f'{len(nmodelo.metabolites)} metabolites')\n",
        "print(f'{len(nmodelo.genes)} genes')\n",
        "\n",
        "#AS CÉLULAS ACIMA FORAM ALTERADAS DO MEU TESTE INICIAL -- ESTOU TENTANDO RESOLVER O PROBLEMA DO \"SUMIÇO\" DAS REAÇOES NO MODELO; ACREDITO QUE ESSAS 10 REAÇOES JA FAZEM PARTE DO MODELO POR ESTAREM DESCRITAS NO BIGG MODELS"
      ]
    },
    {
      "cell_type": "markdown",
      "metadata": {
        "id": "g_EN_B7gyka0"
      },
      "source": [
        "\n",
        "\n",
        "---\n",
        "\n",
        "\n",
        "**Criando reações que não estavam descritas no Bigg**\n",
        "---\n",
        "\n",
        "[Como criar reações que não estam descritas no bigg models e adicioná-las ao\n",
        "modelo](https://cobrapy.readthedocs.io/en/latest/building_model.html)\n",
        "\n",
        "\n",
        "\n",
        "---\n",
        "\n"
      ]
    },
    {
      "cell_type": "code",
      "execution_count": null,
      "metadata": {
        "id": "k4UPQZlTlpul"
      },
      "outputs": [],
      "source": [
        "#Lista de novos metabolitos, nao descritos no Bigg Models\n",
        "h3po4_c = Metabolite(\n",
        "    'h3po4_c',\n",
        "    formula='H3PO4',\n",
        "    name='Orthophosphate',\n",
        "    compartment='c')\n",
        "nar_c = Metabolite(\n",
        "    'nar_c',\n",
        "    formula= 'C11H15NO9P',\n",
        "    name= 'Nicotinate D-ribonucleotide',\n",
        "    compartment= 'c')\n",
        "rib_c = Metabolite(\n",
        "    'rib_c',\n",
        "    formula= 'C5H10O5',\n",
        "    name= 'D-Ribose',\n",
        "    compartment = 'c'\n",
        ")\n",
        "rnam_e = Metabolite(\n",
        "    'rnam_e',\n",
        "    formula= 'C11H15N2O5',\n",
        "    name= 'N Ribosylnicotinamide',\n",
        "    compartment = 'e'\n",
        ")\n",
        "trp__L_c = Metabolite(\n",
        "    'trp__L_c',\n",
        "    formula= 'C11H12N2O2',\n",
        "    name= 'Tryptophan',\n",
        "    compartment= 'c'\n",
        ")\n",
        "frmt_c = Metabolite(\n",
        "    'frmt_c',\n",
        "    formula= 'CH2O2',\n",
        "    name= 'Formic acid',\n",
        "    compartment= 'c'\n",
        ")\n",
        "\n"
      ]
    },
    {
      "cell_type": "code",
      "execution_count": null,
      "metadata": {
        "colab": {
          "base_uri": "https://localhost:8080/"
        },
        "id": "nmaTz_vufi6t",
        "outputId": "aa69a6cd-e8b4-43e6-e0d6-1ec56fae2e5b"
      },
      "outputs": [
        {
          "output_type": "stream",
          "name": "stdout",
          "text": [
            "R02323: h2o_c + nmn_c --> h3po4_c + rnam_c\n"
          ]
        }
      ],
      "source": [
        "#Criando a reação do gene YGL224C (SDT1)\n",
        "nmodelo = Model('nmodelo')\n",
        "\n",
        "reacao11 = Reaction('R02323')\n",
        "reacao11.name = 'nicotinamide ribonucleotide phosphohydrolase'\n",
        "reacao11.subsystem = 'Nucleotidase'\n",
        "reacao11.lower_bound = 0.\n",
        "reacao11.upper_bound = 1000.\n",
        "\n",
        "reacao11.add_metabolites({\n",
        "      nmn_c: -1.0,\n",
        "    h2o_c: -1.0,\n",
        "      h3po4_c: 1.0,\n",
        "      rnam_c: 1.0\n",
        "\n",
        "\n",
        "\n",
        "})\n",
        "reacao11.gene_reaction_rule = ( 'YGL224C' )\n",
        "reacao11.genes\n",
        "print(reacao11)\n",
        "nmodelo.add_reactions([reacao11])"
      ]
    },
    {
      "cell_type": "code",
      "source": [
        "#Criando a reação do gene K18550  (Isn1)\n",
        "nmodelo = Model('nmodelo')\n",
        "\n",
        "reacao112 = Reaction('R02323.2')\n",
        "reacao112.name = 'nicotinamide ribonucleotide phosphohydrolase'\n",
        "reacao112.subsystem = 'Nucleotidase'\n",
        "reacao112.lower_bound = 0.\n",
        "reacao112.upper_bound = 1000.\n",
        "\n",
        "reacao112.add_metabolites({\n",
        "      nmn_c: -1.0,\n",
        "    h2o_c: -1.0,\n",
        "      h3po4_c: 1.0,\n",
        "      rnam_c: 1.0\n",
        "\n",
        "\n",
        "\n",
        "})\n",
        "reacao112.gene_reaction_rule = ( 'K18550' )\n",
        "reacao112.genes\n",
        "print(reacao112)\n",
        "nmodelo.add_reactions([reacao112])"
      ],
      "metadata": {
        "colab": {
          "base_uri": "https://localhost:8080/"
        },
        "id": "YpI-EDSs1bxc",
        "outputId": "2c557bdc-4aee-4e08-8752-e44bcac5790d"
      },
      "execution_count": null,
      "outputs": [
        {
          "output_type": "stream",
          "name": "stdout",
          "text": [
            "R02323.2: h2o_c + nmn_c --> h3po4_c + rnam_c\n"
          ]
        }
      ]
    },
    {
      "cell_type": "code",
      "execution_count": null,
      "metadata": {
        "colab": {
          "base_uri": "https://localhost:8080/"
        },
        "id": "1pinCYO6zHHz",
        "outputId": "12e468df-5171-437d-b7a5-cb0105ca6f16"
      },
      "outputs": [
        {
          "output_type": "stream",
          "name": "stdout",
          "text": [
            "R03346: h3po4_c + nicrnt_c --> h2o_c + nar_c\n"
          ]
        }
      ],
      "source": [
        "#Criando a reação do gene YGL224C (SDT1)\n",
        "nmodelo = Model('nmodelo')\n",
        "\n",
        "reacao12 = Reaction('R03346')\n",
        "reacao12.name = 'nicotinate D-ribonucleotide phosphohydrolase'\n",
        "reacao12.subsystem = 'phosphohydrolase'\n",
        "reacao12.lower_bound = 0.\n",
        "reacao12.upper_bound = 1000.\n",
        "\n",
        "reacao12.add_metabolites({\n",
        "      nicrnt_c: -1.0,\n",
        "    h3po4_c: -1.0,\n",
        "      h2o_c: 1.0,\n",
        "      nar_c: 1.0\n",
        "\n",
        "\n",
        "\n",
        "})\n",
        "reacao12.gene_reaction_rule = ( 'YGL224C' )\n",
        "reacao12.genes\n",
        "print(reacao12)\n",
        "nmodelo.add_reactions([reacao12])"
      ]
    },
    {
      "cell_type": "code",
      "execution_count": null,
      "metadata": {
        "colab": {
          "base_uri": "https://localhost:8080/"
        },
        "id": "G7u0VDWQ1iVT",
        "outputId": "7ff19f2d-d755-4ba4-c323-4a8e045e4adb"
      },
      "outputs": [
        {
          "output_type": "stream",
          "name": "stdout",
          "text": [
            "R01273: h2o_c + rnam_c --> ncam_c + rib_c\n"
          ]
        }
      ],
      "source": [
        "#Criando a reação do gene YDR400W (URH1)\n",
        "nmodelo = Model('nmodelo')\n",
        "\n",
        "reacao13 = Reaction('R01273')\n",
        "reacao13.name = 'N-ribosylnicotinamide ribohydrolase'\n",
        "reacao13.subsystem = 'ribohydrolase'\n",
        "reacao13.lower_bound = 0.\n",
        "reacao13.upper_bound = 1000.\n",
        "\n",
        "reacao13.add_metabolites({\n",
        "      rnam_c: -1.0,\n",
        "    h2o_c: -1.0,\n",
        "    ncam_c: 1.0,\n",
        "    rib_c: 1.0,\n",
        "\n",
        "})\n",
        "reacao13.gene_reaction_rule = ( 'YDR400W' )\n",
        "reacao13.genes\n",
        "print(reacao13)\n",
        "nmodelo.add_reactions([reacao13])"
      ]
    },
    {
      "cell_type": "code",
      "source": [
        "#Criando a reação do gene K03783 (PNP1)\n",
        "nmodelo = Model('nmodelo')\n",
        "\n",
        "reacao132 = Reaction('R01273.2')\n",
        "reacao132.name = 'N-ribosylnicotinamide ribohydrolase'\n",
        "reacao132.subsystem = 'ribohydrolase'\n",
        "reacao132.lower_bound = 0.\n",
        "reacao132.upper_bound = 1000.\n",
        "\n",
        "reacao132.add_metabolites({\n",
        "    rnam_c: -1.0,\n",
        "    h2o_c: -1.0,\n",
        "    ncam_c: 1.0,\n",
        "    rib_c: 1.0,\n",
        "\n",
        "})\n",
        "reacao132.gene_reaction_rule = ( 'K03783' )\n",
        "reacao132.genes\n",
        "print(reacao132)\n",
        "nmodelo.add_reactions([reacao132])"
      ],
      "metadata": {
        "colab": {
          "base_uri": "https://localhost:8080/"
        },
        "id": "VB0aQxiQ-TtV",
        "outputId": "9ac2d90f-b121-4e78-dfe3-31b7e8705360"
      },
      "execution_count": null,
      "outputs": [
        {
          "output_type": "stream",
          "name": "stdout",
          "text": [
            "R01273.2: h2o_c + rnam_c --> ncam_c + rib_c\n"
          ]
        }
      ]
    },
    {
      "cell_type": "code",
      "execution_count": null,
      "metadata": {
        "colab": {
          "base_uri": "https://localhost:8080/"
        },
        "id": "wOvlAsMk7pjS",
        "outputId": "0c7fb834-aabb-4f3f-ece1-bb0d5fad1149"
      },
      "outputs": [
        {
          "output_type": "stream",
          "name": "stdout",
          "text": [
            "R10046: h2o_c + nar_c --> nac_c + rib_c\n"
          ]
        }
      ],
      "source": [
        "#Criando a reação do gene YDR400W (URH1)\n",
        "nmodelo = Model('nmodelo')\n",
        "\n",
        "reacao14 = Reaction('R10046')\n",
        "reacao14.name = 'Nicotinate D-ribonucleoside ribohydrolase'\n",
        "reacao14.subsystem = 'ribohydrolase'\n",
        "reacao14.lower_bound = 0.\n",
        "reacao14.upper_bound = 1000.\n",
        "\n",
        "reacao14.add_metabolites({\n",
        "      nar_c: -1.0,\n",
        "    h2o_c: -1.0,\n",
        "    nac_c: 1.0,\n",
        "    rib_c: 1.0,\n",
        "\n",
        "})\n",
        "reacao14.gene_reaction_rule = ( 'YDR400W' )\n",
        "reacao14.genes\n",
        "print(reacao14)\n",
        "nmodelo.add_reactions([reacao14])"
      ]
    },
    {
      "cell_type": "code",
      "execution_count": null,
      "metadata": {
        "colab": {
          "base_uri": "https://localhost:8080/"
        },
        "id": "q2fTVgdc-UkQ",
        "outputId": "47182a59-9d6f-47b6-f875-99eaf6e6ed57"
      },
      "outputs": [
        {
          "output_type": "stream",
          "name": "stdout",
          "text": [
            "R03347: adp_c + nar_c --> atp_c + nicrnt_c\n"
          ]
        }
      ],
      "source": [
        "#Criando a reação do gene YNL129W (NRK1)\n",
        "nmodelo = Model('nmodelo')\n",
        "\n",
        "reacao15 = Reaction('R03347')\n",
        "reacao15.name = 'ATP:beta-D-ribosylnicotinate 5-phosphotransferase'\n",
        "reacao15.subsystem = 'Phosphotransferase'\n",
        "reacao15.lower_bound = 0.\n",
        "reacao15.upper_bound = 1000.\n",
        "\n",
        "reacao15.add_metabolites({\n",
        "      nar_c: -1.0,\n",
        "    adp_c: -1.0,\n",
        "    nicrnt_c: 1.0,\n",
        "    atp_c: 1.0,\n",
        "\n",
        "})\n",
        "reacao15.gene_reaction_rule = ( 'YNL129W' )\n",
        "reacao15.genes\n",
        "print(reacao15)\n",
        "nmodelo.add_reactions([reacao15])"
      ]
    },
    {
      "cell_type": "code",
      "execution_count": null,
      "metadata": {
        "colab": {
          "base_uri": "https://localhost:8080/"
        },
        "id": "x2vG3JPCSsgW",
        "outputId": "b75d5cbc-8c2b-49d5-ce6a-0dd9f1307a2f"
      },
      "outputs": [
        {
          "output_type": "stream",
          "name": "stdout",
          "text": [
            "SEMNOME: rnam_e --> rnam_c\n"
          ]
        }
      ],
      "source": [
        "#Criando a reação do gene YOR071C (NRT1)\n",
        "nmodelo = Model('nmodelo')\n",
        "\n",
        "reacao16 = Reaction('SEMNOME')\n",
        "reacao16.name = 'Transporte extracel-intracel'\n",
        "reacao16.subsystem = 'Transporte intramemb'\n",
        "reacao16.lower_bound = 0.\n",
        "reacao16.upper_bound = 1000.\n",
        "\n",
        "reacao16.add_metabolites({\n",
        "      rnam_e: -1.0,\n",
        "    rnam_c: 1.0\n",
        "\n",
        "})\n",
        "reacao16.gene_reaction_rule = ( 'YOR071C' )\n",
        "reacao16.genes\n",
        "print(reacao16)\n",
        "nmodelo.add_reactions([reacao16])"
      ]
    },
    {
      "cell_type": "code",
      "source": [
        "#Criando a reação do gene YOR071C (NRT11)\n",
        "nmodelo = Model('nmodelo')\n",
        "\n",
        "reacao16_2 = Reaction('EX_nr')\n",
        "reacao16_2.name = 'Transporte extracel-intracel'\n",
        "reacao16_2.subsystem = 'Transporte intramemb'\n",
        "reacao16_2.lower_bound = 0.\n",
        "reacao16_2.upper_bound = 1000.\n",
        "\n",
        "reacao16_2.add_metabolites({\n",
        "      rnam_e: 1.0,\n",
        "    rnam_c: -1.0\n",
        "\n",
        "})\n",
        "reacao16_2.gene_reaction_rule = ( 'YOR071C.2' )\n",
        "reacao16_2.genes\n",
        "print(reacao16_2)\n",
        "nmodelo.add_reactions([reacao16_2])"
      ],
      "metadata": {
        "colab": {
          "base_uri": "https://localhost:8080/"
        },
        "id": "WU5P3kKp5BZu",
        "outputId": "8fe304bb-c1cc-462e-daaa-bcae219f7845"
      },
      "execution_count": null,
      "outputs": [
        {
          "output_type": "stream",
          "name": "stdout",
          "text": [
            "EX_nr: rnam_c --> rnam_e\n"
          ]
        }
      ]
    },
    {
      "cell_type": "code",
      "execution_count": null,
      "metadata": {
        "colab": {
          "base_uri": "https://localhost:8080/"
        },
        "id": "MyCoNkEWPC1p",
        "outputId": "38da30f0-5212-4ce8-85e8-22624b32b7f1"
      },
      "outputs": [
        {
          "output_type": "stream",
          "name": "stdout",
          "text": [
            "TRPO2: o2_c + trp__L_c --> Lfmkynr_c\n"
          ]
        }
      ],
      "source": [
        "#Criando a reação do gene YJR078W (BNA2) -- COMEÇANDO A ADICIONAR A VIA DE SINTESE DE NOVO DO TRIPTOFANO\n",
        "nmodelo = Model('nmodelo')\n",
        "\n",
        "reacao17 = Reaction('TRPO2')\n",
        "reacao17.name = 'L Tryptophanoxygen 2 3 oxidoreductase decyclizing'\n",
        "reacao17.subsystem = 'S_Tyrosine__Tryptophan__and_Phenylalanine_Metabolism'\n",
        "reacao17.lower_bound = 0.\n",
        "reacao17.upper_bound = 1000.\n",
        "\n",
        "reacao17.add_metabolites({\n",
        "      o2_c: -1.0,\n",
        "    trp__L_c: -1.0,\n",
        "      Lfmkynr_c: 1.0\n",
        "\n",
        "})\n",
        "reacao17.gene_reaction_rule = ( 'YJR078W' )\n",
        "reacao17.genes\n",
        "print(reacao17)"
      ]
    },
    {
      "cell_type": "code",
      "execution_count": null,
      "metadata": {
        "colab": {
          "base_uri": "https://localhost:8080/"
        },
        "id": "LPhWBJCXRuZn",
        "outputId": "5197ca24-1fa0-46e2-9d24-8c17bc2af5c7"
      },
      "outputs": [
        {
          "output_type": "stream",
          "name": "stdout",
          "text": [
            "FKYNH: Lfmkynr_c + h2o_c --> Lkynr_c + for_c + h_c\n"
          ]
        }
      ],
      "source": [
        "#Criando a reação do gene NAOFALA (BNA7)\n",
        "nmodelo = Model('nmodelo')\n",
        "\n",
        "reacao18 = Reaction('FKYNH')\n",
        "reacao18.name = 'N Formyl L kynurenine amidohydrolase'\n",
        "reacao18.subsystem = 'S_Tyrosine__Tryptophan__and_Phenylalanine_Metabolism'\n",
        "reacao18.lower_bound = 0.\n",
        "reacao18.upper_bound = 1000.\n",
        "\n",
        "reacao18.add_metabolites({\n",
        "      h2o_c: -1.0,\n",
        "    Lfmkynr_c: -1.0,\n",
        "      for_c: 1.0,\n",
        "      h_c: 1.0,\n",
        "      Lkynr_c: 1.0\n",
        "\n",
        "})\n",
        "reacao18.gene_reaction_rule = ( 'NAOFALA' )\n",
        "reacao18.genes\n",
        "print(reacao18)"
      ]
    },
    {
      "cell_type": "code",
      "execution_count": null,
      "metadata": {
        "colab": {
          "base_uri": "https://localhost:8080/"
        },
        "id": "ZDkigfIXpJtA",
        "outputId": "a5cac02c-38b7-4fe1-d04f-3c8ec3f4faa4"
      },
      "outputs": [
        {
          "output_type": "stream",
          "name": "stdout",
          "text": [
            "KYN3OX: Lkynr_c + h_c + nadph_c + o2_c --> h2o_c + hLkynr_c + nadp_c\n"
          ]
        }
      ],
      "source": [
        "#Criando a reação do gene YBL098W (BNA4)\n",
        "nmodelo = Model('nmodelo')\n",
        "\n",
        "reacao19 = Reaction('KYN3OX')\n",
        "reacao19.name = 'Kynurenine 3 monooxygenase'\n",
        "reacao19.subsystem = 'S_Tyrosine__Tryptophan__and_Phenylalanine_Metabolism'\n",
        "reacao19.lower_bound = 0.\n",
        "reacao19.upper_bound = 1000.\n",
        "\n",
        "reacao19.add_metabolites({\n",
        "      nadph_c: -1.0,\n",
        "      o2_c: -1.0,\n",
        "      h_c: -1.0,\n",
        "      Lkynr_c: -1.0,\n",
        "      h2o_c: 1.0,\n",
        "      nadp_c: 1.0,\n",
        "      hLkynr_c: 1.0\n",
        "\n",
        "})\n",
        "reacao19.gene_reaction_rule = ( 'YBL098W' )\n",
        "reacao19.genes\n",
        "print(reacao19)"
      ]
    },
    {
      "cell_type": "code",
      "execution_count": null,
      "metadata": {
        "colab": {
          "base_uri": "https://localhost:8080/"
        },
        "id": "RQ8pCC-swbXO",
        "outputId": "b1d5ff95-8e56-460c-eb13-66e971bb676f"
      },
      "outputs": [
        {
          "output_type": "stream",
          "name": "stdout",
          "text": [
            "HKYNH: h2o_c + hLkynr_c --> 3hanthrn_c + ala__L_c\n"
          ]
        }
      ],
      "source": [
        "#Criando a reação do gene YLR231C (BNA5)\n",
        "nmodelo = Model('nmodelo')\n",
        "\n",
        "reacao20 = Reaction('HKYNH')\n",
        "reacao20.name = '3 Hydroxy L kynurenine hydrolase'\n",
        "reacao20.subsystem = 'S_Tyrosine__Tryptophan__and_Phenylalanine_Metabolism'\n",
        "reacao20.lower_bound = 0.\n",
        "reacao20.upper_bound = 1000.\n",
        "\n",
        "reacao20.add_metabolites({\n",
        "      h2o_c: -1.0,\n",
        "      hLkynr_c: -1.0,\n",
        "      ala__L_c: 1.0,\n",
        "      hanthrn_c: 1.0\n",
        "\n",
        "})\n",
        "reacao20.gene_reaction_rule = ( 'YLR231C' )\n",
        "reacao20.genes\n",
        "print(reacao20)"
      ]
    },
    {
      "cell_type": "code",
      "execution_count": null,
      "metadata": {
        "colab": {
          "base_uri": "https://localhost:8080/"
        },
        "id": "tYAAKktwzxmM",
        "outputId": "f37c1198-4641-484d-ae63-648da9c04780"
      },
      "outputs": [
        {
          "output_type": "stream",
          "name": "stdout",
          "text": [
            "3HAO: 3hanthrn_c + o2_c --> cmusa_c + h_c\n"
          ]
        }
      ],
      "source": [
        "#Criando a reação do gene YJR025C (BNA1)\n",
        "nmodelo = Model('nmodelo')\n",
        "\n",
        "reacao21 = Reaction('3HAO')\n",
        "reacao21.name = '3 hydroxyanthranilate 3 4 dioxygenase'\n",
        "reacao21.subsystem = 'S_Tyrosine__Tryptophan__and_Phenylalanine_Metabolism'\n",
        "reacao21.lower_bound = 0.\n",
        "reacao21.upper_bound = 1000.\n",
        "\n",
        "reacao21.add_metabolites({\n",
        "      o2_c: -1.0,\n",
        "      hanthrn_c: -1.0,\n",
        "      h_c: 1.0,\n",
        "      cmusa_c: 1.0\n",
        "\n",
        "})\n",
        "reacao21.gene_reaction_rule = ( 'YJR025C' )\n",
        "reacao21.genes\n",
        "print(reacao21)"
      ]
    },
    {
      "cell_type": "code",
      "execution_count": null,
      "metadata": {
        "colab": {
          "base_uri": "https://localhost:8080/"
        },
        "id": "DIkIisWI09Lc",
        "outputId": "05355e10-0944-46ad-a195-8cee41405f06"
      },
      "outputs": [
        {
          "output_type": "stream",
          "name": "stdout",
          "text": [
            "QUILSYN: cmusa_c + h_c --> h2o_c + quln_c\n"
          ]
        }
      ],
      "source": [
        "#Criando a reação do gene R04293 (Espontaneo)\n",
        "nmodelo = Model('nmodelo')\n",
        "\n",
        "reacao22 = Reaction('QUILSYN')\n",
        "reacao22.name = 'Quinolinate Synthase Eukaryotic'\n",
        "reacao22.subsystem = 'S_Quinone_Biosynthesis'\n",
        "reacao22.lower_bound = 0.\n",
        "reacao22.upper_bound = 1000.\n",
        "\n",
        "reacao22.add_metabolites({\n",
        "      h2o_c : 1.0,\n",
        "      quln_c: 1.0,\n",
        "      h_c: -1.0,\n",
        "      cmusa_c: -1.0\n",
        "\n",
        "})\n",
        "reacao22.gene_reaction_rule = ( 'R04293' )\n",
        "reacao22.genes\n",
        "print(reacao22)"
      ]
    },
    {
      "cell_type": "code",
      "execution_count": null,
      "metadata": {
        "colab": {
          "base_uri": "https://localhost:8080/"
        },
        "id": "c3ujjEzO8qvD",
        "outputId": "fc68e494-0d0b-4cb2-bebf-47400ffd508f"
      },
      "outputs": [
        {
          "output_type": "stream",
          "name": "stdout",
          "text": [
            "QULNPARANAMN: prpp_c + quln_c --> co2_c + nicrnt_c + ppi_c\n"
          ]
        }
      ],
      "source": [
        "#Criando a reação do gene R03348 (BNA6)\n",
        "nmodelo = Model('nmodelo')\n",
        "\n",
        "reacao23 = Reaction('QULNPARANAMN')\n",
        "reacao23.name = 'nicotinate-nucleotide:pyrophosphate phosphoribosyltransferase'\n",
        "reacao23.subsystem = 'Nicotinamide_Metabolism'\n",
        "reacao23.lower_bound = 0.\n",
        "reacao23.upper_bound = 1000.\n",
        "\n",
        "reacao23.add_metabolites({\n",
        "      prpp_c : -1.0,\n",
        "      quln_c: -1.0,\n",
        "      co2_c: 1.0,\n",
        "      ppi_c: 1.0,\n",
        "      nicrnt_c: 1.0\n",
        "\n",
        "})\n",
        "reacao23.gene_reaction_rule = ( 'R03348' )\n",
        "reacao23.genes\n",
        "print(reacao23)"
      ]
    },
    {
      "cell_type": "code",
      "execution_count": null,
      "metadata": {
        "colab": {
          "base_uri": "https://localhost:8080/"
        },
        "id": "eujNvXRMYf8V",
        "outputId": "ec7988c5-44da-4c91-bdab-c522b3c8f248"
      },
      "outputs": [
        {
          "output_type": "stream",
          "name": "stdout",
          "text": [
            "NMNAT2: atp_c + h_c + nmn_c --> nad_c + ppi_c\n"
          ]
        }
      ],
      "source": [
        "#Criando a reação do gene POF1 YCL047C\n",
        "nmodelo = Model('nmodelo')\n",
        "\n",
        "reacao24 = Reaction('NMNAT2')\n",
        "reacao24.name = 'Nicotinamide-nucleotide adenylyltransferase'\n",
        "reacao24.subsystem = 'S_NAD_Biosynthesis'\n",
        "reacao24.lower_bound = 0.\n",
        "reacao24.upper_bound = 1000.\n",
        "\n",
        "reacao24.add_metabolites({\n",
        "    atp_c: -1.0,\n",
        "    nad_c: 1.0,\n",
        "    nmn_c: -1.0,\n",
        "    h_c: -1.0,\n",
        "    ppi_c: 1.0,\n",
        "\n",
        "})\n",
        "reacao24.gene_reaction_rule = ( 'YCL047C' )\n",
        "reacao24.genes\n",
        "print(reacao24)"
      ]
    },
    {
      "cell_type": "code",
      "source": [
        "#Criando a reação do gene POF1 YCL047C\n",
        "#adicionando de novo para a pof1 ter maior impacto no mapa\n",
        "nmodelo = Model('nmodelo')\n",
        "\n",
        "reacao24 = Reaction('NMNAT2')\n",
        "reacao24.name = 'Nicotinamide-nucleotide adenylyltransferase'\n",
        "reacao24.subsystem = 'S_NAD_Biosynthesis'\n",
        "reacao24.lower_bound = 0.\n",
        "reacao24.upper_bound = 1000.\n",
        "\n",
        "reacao24.add_metabolites({\n",
        "    atp_c: -1.0,\n",
        "    nad_c: 1.0,\n",
        "    nmn_c: -1.0,\n",
        "    h_c: -1.0,\n",
        "    ppi_c: 1.0,\n",
        "\n",
        "})\n",
        "reacao24.gene_reaction_rule = ( 'YCL047C' )\n",
        "reacao24.genes\n",
        "print(reacao24)"
      ],
      "metadata": {
        "colab": {
          "base_uri": "https://localhost:8080/"
        },
        "id": "BWxLsrLtxuaz",
        "outputId": "975b3143-1f41-457c-cc8a-417ea522ce41"
      },
      "execution_count": null,
      "outputs": [
        {
          "output_type": "stream",
          "name": "stdout",
          "text": [
            "NMNAT2: atp_c + h_c + nmn_c --> nad_c + ppi_c\n"
          ]
        }
      ]
    },
    {
      "cell_type": "code",
      "source": [
        "#Criando a reação do gene POF1 YCL047C\n",
        "#adicionando de novo para a pof1 ter maior impacto no mapa\n",
        "nmodelo = Model('nmodelo')\n",
        "\n",
        "reacao24 = Reaction('NMNAT2')\n",
        "reacao24.name = 'Nicotinamide-nucleotide adenylyltransferase'\n",
        "reacao24.subsystem = 'S_NAD_Biosynthesis'\n",
        "reacao24.lower_bound = 0.\n",
        "reacao24.upper_bound = 1000.\n",
        "\n",
        "reacao24.add_metabolites({\n",
        "    atp_c: -1.0,\n",
        "    nad_c: 1.0,\n",
        "    nmn_c: -1.0,\n",
        "    h_c: -1.0,\n",
        "    ppi_c: 1.0,\n",
        "\n",
        "})\n",
        "reacao24.gene_reaction_rule = ( 'YCL047C' )\n",
        "reacao24.genes\n",
        "print(reacao24)"
      ],
      "metadata": {
        "colab": {
          "base_uri": "https://localhost:8080/"
        },
        "id": "M8Kfqrt3xy17",
        "outputId": "487d251e-64a4-49e9-8093-bb966e2eeaa4"
      },
      "execution_count": null,
      "outputs": [
        {
          "output_type": "stream",
          "name": "stdout",
          "text": [
            "NMNAT2: atp_c + h_c + nmn_c --> nad_c + ppi_c\n"
          ]
        }
      ]
    },
    {
      "cell_type": "code",
      "source": [
        "#Criando a reação do gene NMA1 YLR328W\n",
        "nmodelo = Model('nmodelo')\n",
        "\n",
        "reacao25 = Reaction('NMNAT3')\n",
        "reacao25.name = 'Nicotinamide-nucleotide adenylyltransferase'\n",
        "reacao25.subsystem = 'S_NAD_Biosynthesis'\n",
        "reacao25.lower_bound = 0.\n",
        "reacao25.upper_bound = 1000.\n",
        "\n",
        "reacao25.add_metabolites({\n",
        "    atp_c: -1.0,\n",
        "    nad_c: 1.0,\n",
        "    nmn_c: -1.0,\n",
        "    h_c: -1.0,\n",
        "    ppi_c: 1.0,\n",
        "\n",
        "})\n",
        "reacao25.gene_reaction_rule = ( 'YLR328W' )\n",
        "reacao25.genes\n",
        "print(reacao25)"
      ],
      "metadata": {
        "colab": {
          "base_uri": "https://localhost:8080/"
        },
        "id": "wnUbYCbS5hMM",
        "outputId": "37b3d1e6-1d30-4eaf-9006-27a4f55ad876"
      },
      "execution_count": null,
      "outputs": [
        {
          "output_type": "stream",
          "name": "stdout",
          "text": [
            "NMNAT3: atp_c + h_c + nmn_c --> nad_c + ppi_c\n"
          ]
        }
      ]
    },
    {
      "cell_type": "code",
      "execution_count": null,
      "metadata": {
        "colab": {
          "base_uri": "https://localhost:8080/"
        },
        "id": "ie1N-azyagHf",
        "outputId": "d137f04c-9b89-46b0-d1f2-d3296019d23d"
      },
      "outputs": [
        {
          "output_type": "stream",
          "name": "stdout",
          "text": [
            "0 reactions\n",
            "0 metabolites\n",
            "0 genes\n"
          ]
        }
      ],
      "source": [
        "\n",
        "print(f'{len(nmodelo.reactions)} reactions')\n",
        "print(f'{len(nmodelo.metabolites)} metabolites')\n",
        "print(f'{len(nmodelo.genes)} genes')"
      ]
    },
    {
      "cell_type": "markdown",
      "source": [
        "\n",
        "---\n",
        "\n",
        "**ATP Maintance reactions**\n",
        "---\n",
        "---\n",
        "reações de manutenção de ATP na célula"
      ],
      "metadata": {
        "id": "WQvo2LW_LFQ-"
      }
    },
    {
      "cell_type": "code",
      "source": [
        "#adicionando metabolitos que precisaremos pra essas reações e ainda não foram descritos no modelo\n",
        "ap4a_c = Metabolite(\n",
        "    'ap4a_c',\n",
        "    formula='C20H24N10O19P4',\n",
        "    name='P1,P4-Bis5-adenosyl tetraphosphate',\n",
        "    compartment='c')\n",
        "prbatp_c = Metabolite(\n",
        "    'prbatp_c',\n",
        "    formula='C15H19N5O20P4',\n",
        "    name='1-5-Phosphoribosyl-ATP',\n",
        "    compartment='c')\n",
        "h_e = Metabolite(\n",
        "    'h_e',\n",
        "    formula='H',\n",
        "    name='H+',\n",
        "    compartment='e')\n",
        "amp_c = Metabolite(\n",
        "    'amp_c',\n",
        "    formula='C10H12N5O7P',\n",
        "    name='AMP C10H12N5O7P',\n",
        "    compartment='c')\n",
        "adp_c = Metabolite(\n",
        "    'adp_c',\n",
        "    formula='C10H12N5O10P2',\n",
        "    name='ADP C10H12N5O10P2',\n",
        "    compartment='c')\n",
        "adp_m = Metabolite(\n",
        "    'adp_m',\n",
        "    formula='C10H12N5O10P2',\n",
        "    name='ADP C10H12N5O10P2',\n",
        "    compartment='m')\n",
        "atp_m = Metabolite(\n",
        "    'atp_m',\n",
        "    formula='C10H12N5O13P3',\n",
        "    name='ATP C10H12N5O13P3',\n",
        "    compartment='m')\n",
        "h2o_m = Metabolite(\n",
        "    'h2o_m',\n",
        "    formula='H2O',\n",
        "    name='H2O',\n",
        "    compartment='m')\n",
        "pi_m = Metabolite(\n",
        "    'pi_m',\n",
        "    formula='HO4P',\n",
        "    name='Phosphate',\n",
        "    compartment='m')\n",
        "h_m = Metabolite(\n",
        "    'h_m',\n",
        "    formula='H',\n",
        "    name='H+',\n",
        "    compartment='m')\n",
        "ppi_e = Metabolite(\n",
        "        'ppi_e',\n",
        "        formula= 'HO7P2',\n",
        "        name='phosphate',\n",
        "        compartment= 'e')"
      ],
      "metadata": {
        "id": "xi_u6yaQ29Dw"
      },
      "execution_count": null,
      "outputs": []
    },
    {
      "cell_type": "code",
      "source": [
        "#Não sei o gene relacionado a essa reação\n",
        "nmodelo = Model('nmodelo')\n",
        "\n",
        "reacaoatp1 = Reaction('ATPM')\n",
        "reacaoatp1.name = 'ATP maintenance requirement'\n",
        "reacaoatp1.subsystem = 'Biomass and maintenance functions'\n",
        "reacaoatp1.lower_bound = 0.\n",
        "reacaoatp1.upper_bound = 1000.\n",
        "\n",
        "reacaoatp1.add_metabolites({\n",
        "      atp_c: -1.0,\n",
        "    h2o_c: -1.0,\n",
        "      adp_c: 1.0,\n",
        "      h_c: 1.0,\n",
        "      pi_c: 1.0\n",
        "\n",
        "})\n",
        "reacaoatp1.gene_reaction_rule = ( 'YGL224C' )\n",
        "reacaoatp1.genes\n",
        "print(reacaoatp1)"
      ],
      "metadata": {
        "colab": {
          "base_uri": "https://localhost:8080/"
        },
        "id": "-3oCTIIY3mqf",
        "outputId": "955561a5-6ca4-4a62-a8b6-959154b43622"
      },
      "execution_count": null,
      "outputs": [
        {
          "output_type": "stream",
          "name": "stdout",
          "text": [
            "ATPM: atp_c + h2o_c --> adp_c + h_c + pi_c\n"
          ]
        }
      ]
    },
    {
      "cell_type": "code",
      "source": [
        "#Gene YDR226W ADK1\n",
        "nmodelo = Model('nmodelo')\n",
        "\n",
        "reacaoatp2 = Reaction('ADK1')\n",
        "reacaoatp2.name = 'Adenylate kinase'\n",
        "reacaoatp2.subsystem = 'S_Nucleotide_Salvage_Pathway'\n",
        "reacaoatp2.lower_bound = 0.\n",
        "reacaoatp2.upper_bound = 1000.\n",
        "\n",
        "reacaoatp2.add_metabolites({\n",
        "      amp_c: -1.0,\n",
        "    atp_c: -1.0,\n",
        "      adp_c: 2.0\n",
        "\n",
        "})\n",
        "reacaoatp2.gene_reaction_rule = ( 'YDR226W' )\n",
        "reacaoatp2.genes\n",
        "print(reacaoatp2)"
      ],
      "metadata": {
        "colab": {
          "base_uri": "https://localhost:8080/"
        },
        "id": "VHfcgnCh7U22",
        "outputId": "579b1de4-b6b3-4d4e-c41c-dbf3c5c28f11"
      },
      "execution_count": null,
      "outputs": [
        {
          "output_type": "stream",
          "name": "stdout",
          "text": [
            "ADK1: amp_c + atp_c --> 2.0 adp_c\n"
          ]
        }
      ]
    },
    {
      "cell_type": "code",
      "source": [
        "#Genes PMA1, PMA2, PMP1, PMP2\n",
        "nmodelo = Model('nmodelo')\n",
        "\n",
        "reacaoatp3 = Reaction('ATPS')\n",
        "reacaoatp3.name = 'ATPase cytosolic'\n",
        "reacaoatp3.subsystem = 'S_Transport__Extracellular'\n",
        "reacaoatp3.lower_bound = 0.\n",
        "reacaoatp3.upper_bound = 1000.\n",
        "\n",
        "reacaoatp3.add_metabolites({\n",
        "      h2o_c: -1.0,\n",
        "    atp_c: -1.0,\n",
        "      adp_c: 1.0,\n",
        "      pi_c: 1.0,\n",
        "      h_e: 1.0\n",
        "\n",
        "})\n",
        "reacaoatp3.gene_reaction_rule = ( 'YCR024C_A')\n",
        "reacaoatp3.genes\n",
        "print(reacaoatp3)"
      ],
      "metadata": {
        "colab": {
          "base_uri": "https://localhost:8080/"
        },
        "id": "mgvqV3pzBa4t",
        "outputId": "274fb935-6dcc-424b-bb2b-fced6d0be0a2"
      },
      "execution_count": null,
      "outputs": [
        {
          "output_type": "stream",
          "name": "stdout",
          "text": [
            "ATPS: atp_c + h2o_c --> adp_c + h_e + pi_c\n"
          ]
        }
      ]
    },
    {
      "cell_type": "code",
      "source": [
        "#Genes YND1\n",
        "nmodelo = Model('nmodelo')\n",
        "\n",
        "reacaoatp4 = Reaction('ATPH1')\n",
        "reacaoatp4.name = 'ATP diphosphohydrolase'\n",
        "reacaoatp4.subsystem = 'S_Nucleotide_Salvage_Pathway'\n",
        "reacaoatp4.lower_bound = 0.\n",
        "reacaoatp4.upper_bound = 1000.\n",
        "\n",
        "reacaoatp4.add_metabolites({\n",
        "      h2o_c: -2.0,\n",
        "    atp_c: -1.0,\n",
        "      amp_c: 1.0,\n",
        "      h_c: 2.0,\n",
        "      pi_c: 2.0\n",
        "\n",
        "})\n",
        "reacaoatp4.gene_reaction_rule = ( 'YER005W')\n",
        "reacaoatp4.genes\n",
        "print(reacaoatp4)"
      ],
      "metadata": {
        "colab": {
          "base_uri": "https://localhost:8080/"
        },
        "id": "xX7BDEgCDwJ0",
        "outputId": "e470eb32-52ff-490a-fe0a-914f32e403ec"
      },
      "execution_count": null,
      "outputs": [
        {
          "output_type": "stream",
          "name": "stdout",
          "text": [
            "ATPH1: atp_c + 2.0 h2o_c --> amp_c + 2.0 h_c + 2.0 pi_c\n"
          ]
        }
      ]
    },
    {
      "cell_type": "code",
      "source": [
        "#Síntese ATP -- muitos genes relacionados, não sei bem como colocar isso\n",
        "nmodelo = Model('nmodelo')\n",
        "\n",
        "reacaoatp5 = Reaction('ATPS3m')\n",
        "reacaoatp5.name = 'ATP synthase mitochondrial'\n",
        "reacaoatp5.subsystem = 'S_Oxidative_Phosphorylation'\n",
        "reacaoatp5.lower_bound = 0.\n",
        "reacaoatp5.upper_bound = 1000.\n",
        "\n",
        "reacaoatp5.add_metabolites({\n",
        "      h_c: -3.0,\n",
        "    adp_m: -1.0,\n",
        "      pi_m: -1.0,\n",
        "      atp_m: 1.0,\n",
        "      h2o_m: 1.0,\n",
        "      h_m: 2.0,\n",
        "\n",
        "\n",
        "\n",
        "\n",
        "})\n",
        "reacaoatp5.gene_reaction_rule = ( 'YDR530C')\n",
        "reacaoatp5.genes\n",
        "print(reacaoatp5)"
      ],
      "metadata": {
        "colab": {
          "base_uri": "https://localhost:8080/"
        },
        "id": "mRhd3KFLFeCO",
        "outputId": "6bb3b6a8-d415-4d2c-b11f-cf807ba0d1fa"
      },
      "execution_count": null,
      "outputs": [
        {
          "output_type": "stream",
          "name": "stdout",
          "text": [
            "ATPS3m: adp_m + 3.0 h_c + pi_m --> atp_m + h2o_m + 2.0 h_m\n"
          ]
        }
      ]
    },
    {
      "cell_type": "code",
      "source": [
        "#Transferencia do ATP sintetizado na mitocondria para o citosol -- 3 genes relacionados\n",
        "nmodelo = Model('nmodelo')\n",
        "\n",
        "reacaoatp6 = Reaction('ATPtm_H')\n",
        "reacaoatp6.name = 'ADPATP transporter mitochondrial'\n",
        "reacaoatp6.subsystem = 'S_Transport__Mitochondrial'\n",
        "reacaoatp6.lower_bound = 0.\n",
        "reacaoatp6.upper_bound = 1000.\n",
        "\n",
        "reacaoatp6.add_metabolites({\n",
        "      h_c: -1.0,\n",
        "    adp_c: -1.0,\n",
        "      atp_m: -1.0,\n",
        "      atp_c: 1.0,\n",
        "      adp_m: 1.0,\n",
        "      h_m: 1.0,\n",
        "\n",
        "\n",
        "})\n",
        "reacaoatp6.gene_reaction_rule = ( 'YBR085W')\n",
        "reacaoatp6.genes\n",
        "print(reacaoatp6)"
      ],
      "metadata": {
        "colab": {
          "base_uri": "https://localhost:8080/"
        },
        "id": "l9OzMvyoIMgY",
        "outputId": "fd68c6ba-e177-41fc-9db6-d11a42b8d3ef"
      },
      "execution_count": null,
      "outputs": [
        {
          "output_type": "stream",
          "name": "stdout",
          "text": [
            "ATPtm_H: adp_c + atp_m + h_c --> adp_m + atp_c + h_m\n"
          ]
        }
      ]
    },
    {
      "cell_type": "code",
      "source": [
        "print(f'{len(nmodelo.reactions)} reactions')\n",
        "print(f'{len(nmodelo.metabolites)} metabolites')\n",
        "print(f'{len(nmodelo.genes)} genes')"
      ],
      "metadata": {
        "colab": {
          "base_uri": "https://localhost:8080/"
        },
        "id": "Z2IzRxp7LoIZ",
        "outputId": "ecff1cc1-e41f-4749-8181-a489fc07f5e0"
      },
      "execution_count": null,
      "outputs": [
        {
          "output_type": "stream",
          "name": "stdout",
          "text": [
            "0 reactions\n",
            "0 metabolites\n",
            "0 genes\n"
          ]
        }
      ]
    },
    {
      "cell_type": "markdown",
      "metadata": {
        "id": "DRhATMtec9k2"
      },
      "source": [
        "\n",
        "\n",
        "---\n",
        "\n",
        "**Definindo restrições do meio**\n",
        "---\n",
        "\n",
        "Links que serão importantes:\n",
        "\n",
        "[Practical Exercises: Flux Balance Analysis using\n",
        "the COnstraint-Based Reconstruction and Analysis\n",
        "(COBRA) Toolbox](https://ibis.inrialpes.fr/people/dejong/courses/coursINSA/2023/TP_FBA_2020_answers.pdf)\n",
        "\n",
        "[What is flux balance analysis?\n",
        "Supplementary Tutorial](https://edisciplinas.usp.br/pluginfile.php/4311262/mod_resource/content/1/3.%20Orth%20Nat%20Biotech%202010%20supplementary.pdf)\n",
        "\n",
        "[Building a Model](https://cobrapy.readthedocs.io/en/latest/building_model.html)\n",
        "\n",
        "\n",
        "---\n",
        "\n"
      ]
    },
    {
      "cell_type": "code",
      "execution_count": null,
      "metadata": {
        "id": "4e3-104yZV9H"
      },
      "outputs": [],
      "source": [
        "#Primeiro precisamos criar as reações de troca com o meio (glicose, o2, etc) para depois limitarmos elas\n",
        "nmodelo.add_metabolites([\n",
        "\n",
        "    Metabolite(\n",
        "    'glc__D_e',\n",
        "    name='glucose ext',\n",
        "    compartment='e'\n",
        "    ),\n",
        "    Metabolite(\n",
        "        'o2_e',\n",
        "        name= 'oxygen ext',\n",
        "        compartment='e'\n",
        "    ),\n",
        "\n",
        "    Metabolite(\n",
        "        'ppi_e',\n",
        "        name='phosphate',\n",
        "        compartment= 'e'\n",
        "    )\n",
        "])"
      ]
    },
    {
      "cell_type": "code",
      "execution_count": null,
      "metadata": {
        "colab": {
          "base_uri": "https://localhost:8080/"
        },
        "id": "JS21oZ-hu4KG",
        "outputId": "27a78dd1-41ca-4938-9048-cdbb881507d8"
      },
      "outputs": [
        {
          "output_type": "stream",
          "name": "stderr",
          "text": [
            "WARNING:cobra.medium.boundary_types:There are no boundary reactions in this model. Therefore, specific types of boundary reactions such as 'exchanges', 'demands' or 'sinks' cannot be identified.\n",
            "WARNING:cobra.medium.boundary_types:There are no boundary reactions in this model. Therefore, specific types of boundary reactions such as 'exchanges', 'demands' or 'sinks' cannot be identified.\n",
            "WARNING:cobra.medium.boundary_types:There are no boundary reactions in this model. Therefore, specific types of boundary reactions such as 'exchanges', 'demands' or 'sinks' cannot be identified.\n"
          ]
        },
        {
          "output_type": "stream",
          "name": "stdout",
          "text": [
            "exchanges []\n",
            "demands []\n",
            "sinks []\n"
          ]
        }
      ],
      "source": [
        "#verificando as reações que existem no modelo -- como nao adicionamos nenhuma, nao deve aparecer nenhuma ainda\n",
        "print(\"exchanges\", nmodelo.exchanges)\n",
        "print(\"demands\", nmodelo.demands)\n",
        "print(\"sinks\", nmodelo.sinks)"
      ]
    },
    {
      "cell_type": "code",
      "execution_count": null,
      "metadata": {
        "colab": {
          "base_uri": "https://localhost:8080/",
          "height": 204
        },
        "id": "-vT4yopuOlyL",
        "outputId": "06e4ec16-53ce-40a2-881a-1c384cfd3abc"
      },
      "outputs": [
        {
          "output_type": "execute_result",
          "data": {
            "text/plain": [
              "<Reaction EX_glc__D_e at 0x7e8aae6d45e0>"
            ],
            "text/html": [
              "\n",
              "        <table>\n",
              "            <tr>\n",
              "                <td><strong>Reaction identifier</strong></td><td>EX_glc__D_e</td>\n",
              "            </tr><tr>\n",
              "                <td><strong>Name</strong></td><td>glucose ext exchange</td>\n",
              "            </tr><tr>\n",
              "                <td><strong>Memory address</strong></td>\n",
              "                <td>0x7e8aae6d45e0</td>\n",
              "            </tr><tr>\n",
              "                <td><strong>Stoichiometry</strong></td>\n",
              "                <td>\n",
              "                    <p style='text-align:right'>glc__D_e <=></p>\n",
              "                    <p style='text-align:right'>glucose ext <=></p>\n",
              "                </td>\n",
              "            </tr><tr>\n",
              "                <td><strong>GPR</strong></td><td></td>\n",
              "            </tr><tr>\n",
              "                <td><strong>Lower bound</strong></td><td>-1000.0</td>\n",
              "            </tr><tr>\n",
              "                <td><strong>Upper bound</strong></td><td>1000.0</td>\n",
              "            </tr>\n",
              "        </table>\n",
              "        "
            ]
          },
          "metadata": {},
          "execution_count": 56
        }
      ],
      "source": [
        "#adicionando reação de exchange\n",
        "nmodelo.add_boundary(nmodelo.metabolites.get_by_id(\"glc__D_e\"), type=\"exchange\")"
      ]
    },
    {
      "cell_type": "code",
      "execution_count": null,
      "metadata": {
        "colab": {
          "base_uri": "https://localhost:8080/",
          "height": 204
        },
        "id": "8p5EG0b9O9I6",
        "outputId": "3d39b2a9-5712-4c45-a108-0ce1dba1a8be"
      },
      "outputs": [
        {
          "output_type": "execute_result",
          "data": {
            "text/plain": [
              "<Reaction EX_ppi_e at 0x7e8aae6d6cb0>"
            ],
            "text/html": [
              "\n",
              "        <table>\n",
              "            <tr>\n",
              "                <td><strong>Reaction identifier</strong></td><td>EX_ppi_e</td>\n",
              "            </tr><tr>\n",
              "                <td><strong>Name</strong></td><td>phosphate exchange</td>\n",
              "            </tr><tr>\n",
              "                <td><strong>Memory address</strong></td>\n",
              "                <td>0x7e8aae6d6cb0</td>\n",
              "            </tr><tr>\n",
              "                <td><strong>Stoichiometry</strong></td>\n",
              "                <td>\n",
              "                    <p style='text-align:right'>ppi_e <=></p>\n",
              "                    <p style='text-align:right'>phosphate <=></p>\n",
              "                </td>\n",
              "            </tr><tr>\n",
              "                <td><strong>GPR</strong></td><td></td>\n",
              "            </tr><tr>\n",
              "                <td><strong>Lower bound</strong></td><td>-1000.0</td>\n",
              "            </tr><tr>\n",
              "                <td><strong>Upper bound</strong></td><td>1000.0</td>\n",
              "            </tr>\n",
              "        </table>\n",
              "        "
            ]
          },
          "metadata": {},
          "execution_count": 57
        }
      ],
      "source": [
        "#adicionando reação de exchange\n",
        "nmodelo.add_boundary(nmodelo.metabolites.get_by_id(\"ppi_e\"), type=\"exchange\")"
      ]
    },
    {
      "cell_type": "code",
      "execution_count": null,
      "metadata": {
        "colab": {
          "base_uri": "https://localhost:8080/",
          "height": 204
        },
        "id": "iKyqShURQ9KK",
        "outputId": "432228c7-83f8-405b-ed54-d746d8865d6c"
      },
      "outputs": [
        {
          "output_type": "execute_result",
          "data": {
            "text/plain": [
              "<Reaction EX_o2_e at 0x7e8aae6d59f0>"
            ],
            "text/html": [
              "\n",
              "        <table>\n",
              "            <tr>\n",
              "                <td><strong>Reaction identifier</strong></td><td>EX_o2_e</td>\n",
              "            </tr><tr>\n",
              "                <td><strong>Name</strong></td><td>oxygen ext exchange</td>\n",
              "            </tr><tr>\n",
              "                <td><strong>Memory address</strong></td>\n",
              "                <td>0x7e8aae6d59f0</td>\n",
              "            </tr><tr>\n",
              "                <td><strong>Stoichiometry</strong></td>\n",
              "                <td>\n",
              "                    <p style='text-align:right'>o2_e <=></p>\n",
              "                    <p style='text-align:right'>oxygen ext <=></p>\n",
              "                </td>\n",
              "            </tr><tr>\n",
              "                <td><strong>GPR</strong></td><td></td>\n",
              "            </tr><tr>\n",
              "                <td><strong>Lower bound</strong></td><td>-1000.0</td>\n",
              "            </tr><tr>\n",
              "                <td><strong>Upper bound</strong></td><td>1000.0</td>\n",
              "            </tr>\n",
              "        </table>\n",
              "        "
            ]
          },
          "metadata": {},
          "execution_count": 58
        }
      ],
      "source": [
        "#adicionando reação de exchange\n",
        "nmodelo.add_boundary(nmodelo.metabolites.get_by_id(\"o2_e\"), type=\"exchange\")"
      ]
    },
    {
      "cell_type": "code",
      "execution_count": null,
      "metadata": {
        "id": "fgyodCJfG8SU"
      },
      "outputs": [],
      "source": [
        "#Setando fluxo de oxigênio:\n",
        "nmodelo.reactions.get_by_id(\"EX_o2_e\").lower_bound = -1.0 #mmol/dcw.h  porque estamos considerando um crescimento com aerobiose mas ele nao aceita o lower bound = 0\n",
        "nmodelo.reactions.get_by_id(\"EX_o2_e\").upper_bound= 10000.0 #mmol/dcw.h unlimited oxygen uptake\n"
      ]
    },
    {
      "cell_type": "code",
      "execution_count": null,
      "metadata": {
        "id": "s8NhsoZeKtGx"
      },
      "outputs": [],
      "source": [
        "#Setando fluxo de glicose:\n",
        "nmodelo.reactions.get_by_id(\"EX_glc__D_e\").lower_bound = -1.0 #mmol/dcw.h\n",
        "nmodelo.reactions.get_by_id(\"EX_glc__D_e\").upper_bound= 10000.0 #mmol/dcw.h artigo fala que essa é uma realistic glucose uptake\n"
      ]
    },
    {
      "cell_type": "code",
      "source": [
        "#Transferencia do ATP sintetizado na mitocondria para o citosol -- 3 genes relacionados\n",
        "nmodelo = Model('nmodelo')\n",
        "\n",
        "EX_ppi_e = Reaction('EX_ppi_e')\n",
        "EX_ppi_e.name = 'Exchange phosphate'\n",
        "EX_ppi_e.subsystem = 'Exchange'\n",
        "EX_ppi_e.lower_bound = 0.\n",
        "EX_ppi_e.upper_bound = 1000.\n",
        "\n",
        "EX_ppi_e.add_metabolites({\n",
        "      ppi_e: -1.0,\n",
        "\n",
        "})\n",
        "EX_ppi_e.gene_reaction_rule = ( 'YBR085W')\n",
        "EX_ppi_e.genes\n",
        "print(EX_ppi_e)"
      ],
      "metadata": {
        "colab": {
          "base_uri": "https://localhost:8080/"
        },
        "id": "oDr1vn-m7d4e",
        "outputId": "0a9a4191-1926-423e-a146-3f62dbeaf760"
      },
      "execution_count": null,
      "outputs": [
        {
          "output_type": "stream",
          "name": "stdout",
          "text": [
            "EX_ppi_e: ppi_e --> \n"
          ]
        }
      ]
    },
    {
      "cell_type": "code",
      "source": [
        "#adicionando as reações\n",
        "nmodelo = copy.deepcopy(modelo)\n",
        "nmodelo.add_reactions([reacao01])\n",
        "nmodelo.add_reactions([reacao02])\n",
        "nmodelo.add_reactions([reacao03])\n",
        "nmodelo.add_reactions([reacao04])\n",
        "nmodelo.add_reactions([reacao05])\n",
        "nmodelo.add_reactions([reacao06])\n",
        "nmodelo.add_reactions([reacao07])\n",
        "nmodelo.add_reactions([reacao08])\n",
        "nmodelo.add_reactions([reacao09])\n",
        "nmodelo.add_reactions([reacao10])\n",
        "nmodelo.add_reactions([reacao11])\n",
        "nmodelo.add_reactions([reacao12])\n",
        "nmodelo.add_reactions([reacao13])\n",
        "nmodelo.add_reactions([reacao14])\n",
        "nmodelo.add_reactions([reacao15])\n",
        "nmodelo.add_reactions([reacao16])\n",
        "nmodelo.add_reactions([reacao17])\n",
        "nmodelo.add_reactions([reacao18])\n",
        "nmodelo.add_reactions([reacao19])\n",
        "nmodelo.add_reactions([reacao20])\n",
        "nmodelo.add_reactions([reacao21])\n",
        "nmodelo.add_reactions([reacao22])\n",
        "nmodelo.add_reactions([reacao23])\n",
        "nmodelo.add_reactions([reacao24])\n",
        "nmodelo.add_reactions([reacao112])\n",
        "nmodelo.add_reactions([reacao25])\n",
        "nmodelo.add_reactions([reacao082])\n",
        "nmodelo.add_reactions([reacao083])\n",
        "nmodelo.add_reactions([reacao132])\n",
        "#Reações de atp\n",
        "nmodelo.add_reactions([reacaoatp1])\n",
        "nmodelo.add_reactions([reacaoatp2])\n",
        "nmodelo.add_reactions([reacaoatp3])\n",
        "nmodelo.add_reactions([reacaoatp4])\n",
        "nmodelo.add_reactions([reacaoatp5])\n",
        "nmodelo.add_reactions([reacaoatp5])\n",
        "nmodelo.add_reactions([reacaoatp6])\n",
        "#Exchange\n",
        "nmodelo.add_reactions([EX_ppi_e])\n",
        "nmodelo.add_reactions([reacao16_2])"
      ],
      "metadata": {
        "id": "WIe74aV160rc",
        "colab": {
          "base_uri": "https://localhost:8080/"
        },
        "outputId": "cc6c3a6a-8612-4eb9-a17d-52b4bbc00ec3"
      },
      "execution_count": null,
      "outputs": [
        {
          "output_type": "stream",
          "name": "stderr",
          "text": [
            "WARNING:cobra.core.model:Ignoring reaction 'NNAM' since it already exists.\n",
            "WARNING:cobra.core.model:Ignoring reaction 'NNDPR' since it already exists.\n",
            "WARNING:cobra.core.model:Ignoring reaction 'RNMK' since it already exists.\n",
            "WARNING:cobra.core.model:Ignoring reaction 'NMNAT' since it already exists.\n",
            "WARNING:cobra.core.model:Ignoring reaction 'NADN' since it already exists.\n",
            "WARNING:cobra.core.model:Ignoring reaction 'NADS1' since it already exists.\n",
            "WARNING:cobra.core.model:Ignoring reaction 'PNP' since it already exists.\n",
            "WARNING:cobra.core.model:Ignoring reaction 'NNATr' since it already exists.\n",
            "WARNING:cobra.core.model:Ignoring reaction 'NAPRT' since it already exists.\n",
            "WARNING:cobra.core.model:Ignoring reaction 'NACt' since it already exists.\n",
            "WARNING:cobra.core.model:Ignoring reaction 'TRPO2' since it already exists.\n",
            "WARNING:cobra.core.model:Ignoring reaction 'FKYNH' since it already exists.\n",
            "WARNING:cobra.core.model:Ignoring reaction 'KYN3OX' since it already exists.\n",
            "WARNING:cobra.core.model:Ignoring reaction 'HKYNH' since it already exists.\n",
            "WARNING:cobra.core.model:Ignoring reaction '3HAO' since it already exists.\n",
            "WARNING:cobra.core.model:Ignoring reaction 'QUILSYN' since it already exists.\n",
            "WARNING:cobra.core.model:Ignoring reaction 'ATPM' since it already exists.\n",
            "WARNING:cobra.core.model:Ignoring reaction 'ADK1' since it already exists.\n",
            "WARNING:cobra.core.model:Ignoring reaction 'ATPS' since it already exists.\n",
            "WARNING:cobra.core.model:Ignoring reaction 'ATPH1' since it already exists.\n",
            "WARNING:cobra.core.model:Ignoring reaction 'ATPS3m' since it already exists.\n",
            "WARNING:cobra.core.model:Ignoring reaction 'ATPS3m' since it already exists.\n",
            "WARNING:cobra.core.model:Ignoring reaction 'ATPtm_H' since it already exists.\n"
          ]
        }
      ]
    },
    {
      "cell_type": "code",
      "source": [
        "#Salvando o modelo\n",
        "save_json_model(nmodelo, \"Primeiro_modelo.json\")"
      ],
      "metadata": {
        "id": "jWKSCWMV9dXd"
      },
      "execution_count": null,
      "outputs": []
    },
    {
      "cell_type": "code",
      "source": [
        "print(f'{len(nmodelo.reactions)} reactions')\n",
        "print(f'{len(nmodelo.metabolites)} metabolites')\n",
        "print(f'{len(nmodelo.genes)} genes')"
      ],
      "metadata": {
        "colab": {
          "base_uri": "https://localhost:8080/"
        },
        "id": "NhAWZMsA1LCj",
        "outputId": "6697e29a-c32d-4555-c35d-7060e8850c9b"
      },
      "execution_count": null,
      "outputs": [
        {
          "output_type": "stream",
          "name": "stdout",
          "text": [
            "1592 reactions\n",
            "1231 metabolites\n",
            "910 genes\n"
          ]
        }
      ]
    },
    {
      "cell_type": "code",
      "source": [
        "nmodelo.medium"
      ],
      "metadata": {
        "colab": {
          "base_uri": "https://localhost:8080/"
        },
        "id": "DrTY7MtW1gMR",
        "outputId": "cb24ae21-5607-404f-9251-2e1c04d61458"
      },
      "execution_count": null,
      "outputs": [
        {
          "output_type": "execute_result",
          "data": {
            "text/plain": [
              "{'EX_fe2_e': 999999.0,\n",
              " 'EX_glc__D_e': 10.0,\n",
              " 'EX_h2o_e': 999999.0,\n",
              " 'EX_h_e': 999999.0,\n",
              " 'EX_k_e': 999999.0,\n",
              " 'EX_na1_e': 999999.0,\n",
              " 'EX_so4_e': 999999.0,\n",
              " 'EX_nh4_e': 999999.0,\n",
              " 'EX_o2_e': 2.0,\n",
              " 'EX_pi_e': 999999.0}"
            ]
          },
          "metadata": {},
          "execution_count": 69
        }
      ]
    },
    {
      "cell_type": "code",
      "source": [
        "#Forncando o valor de objetivo ser zero para todas as reacoes\n",
        "[setattr(x, 'objective_coefficient', 0) for x in nmodelo.reactions if x.objective_coefficient != 0];"
      ],
      "metadata": {
        "id": "powh0ZKr10CX"
      },
      "execution_count": null,
      "outputs": []
    },
    {
      "cell_type": "code",
      "source": [
        "#Setando funcao objetivo - Biomassa\n",
        "nmodelo.reactions.get_by_id(\"BIOMASS_SC5_notrace\").objective_coefficient = 1.0"
      ],
      "metadata": {
        "id": "Aawl2SMA3Ram"
      },
      "execution_count": null,
      "outputs": []
    },
    {
      "cell_type": "code",
      "source": [
        "#Solucionando o problema de FBA\n",
        "\n",
        "solution = nmodelo.optimize()\n",
        "\n",
        "print('mi: '+str(solution.objective_value)+' 1/h')"
      ],
      "metadata": {
        "colab": {
          "base_uri": "https://localhost:8080/"
        },
        "id": "mICxlbWy3ded",
        "outputId": "89a3a0e3-53a9-46d8-aa2c-cbdd08281f77"
      },
      "execution_count": null,
      "outputs": [
        {
          "output_type": "stream",
          "name": "stdout",
          "text": [
            "mi: 0.2878657037040193 1/h\n"
          ]
        }
      ]
    },
    {
      "cell_type": "code",
      "source": [
        "#valores dos fluxos\n",
        "nmodelo.summary()"
      ],
      "metadata": {
        "colab": {
          "base_uri": "https://localhost:8080/",
          "height": 535
        },
        "id": "gK9bmDMV3lVe",
        "outputId": "b00a76c8-dcdf-4dbd-bd9f-462deca1bad1"
      },
      "execution_count": null,
      "outputs": [
        {
          "output_type": "execute_result",
          "data": {
            "text/plain": [
              "<cobra.summary.model_summary.ModelSummary at 0x7e8aae6bbd30>"
            ],
            "text/html": [
              "<h3>Objective</h3><p>1.0 BIOMASS_SC5_notrace = 0.28786570370401826</p><h4>Uptake</h4><table border=\"1\" class=\"dataframe\">\n",
              "  <thead>\n",
              "    <tr style=\"text-align: right;\">\n",
              "      <th>Metabolite</th>\n",
              "      <th>Reaction</th>\n",
              "      <th>Flux</th>\n",
              "      <th>C-Number</th>\n",
              "      <th>C-Flux</th>\n",
              "    </tr>\n",
              "  </thead>\n",
              "  <tbody>\n",
              "    <tr>\n",
              "      <td>glc__D_e</td>\n",
              "      <td>EX_glc__D_e</td>\n",
              "      <td>10</td>\n",
              "      <td>6</td>\n",
              "      <td>100.00%</td>\n",
              "    </tr>\n",
              "    <tr>\n",
              "      <td>nh4_e</td>\n",
              "      <td>EX_nh4_e</td>\n",
              "      <td>1.611</td>\n",
              "      <td>0</td>\n",
              "      <td>0.00%</td>\n",
              "    </tr>\n",
              "    <tr>\n",
              "      <td>o2_e</td>\n",
              "      <td>EX_o2_e</td>\n",
              "      <td>2</td>\n",
              "      <td>0</td>\n",
              "      <td>0.00%</td>\n",
              "    </tr>\n",
              "    <tr>\n",
              "      <td>pi_e</td>\n",
              "      <td>EX_pi_e</td>\n",
              "      <td>0.05691</td>\n",
              "      <td>0</td>\n",
              "      <td>0.00%</td>\n",
              "    </tr>\n",
              "    <tr>\n",
              "      <td>so4_e</td>\n",
              "      <td>EX_so4_e</td>\n",
              "      <td>0.02225</td>\n",
              "      <td>0</td>\n",
              "      <td>0.00%</td>\n",
              "    </tr>\n",
              "  </tbody>\n",
              "</table><h4>Secretion</h4><table border=\"1\" class=\"dataframe\">\n",
              "  <thead>\n",
              "    <tr style=\"text-align: right;\">\n",
              "      <th>Metabolite</th>\n",
              "      <th>Reaction</th>\n",
              "      <th>Flux</th>\n",
              "      <th>C-Number</th>\n",
              "      <th>C-Flux</th>\n",
              "    </tr>\n",
              "  </thead>\n",
              "  <tbody>\n",
              "    <tr>\n",
              "      <td>co2_e</td>\n",
              "      <td>EX_co2_e</td>\n",
              "      <td>-18.02</td>\n",
              "      <td>1</td>\n",
              "      <td>36.29%</td>\n",
              "    </tr>\n",
              "    <tr>\n",
              "      <td>etoh_e</td>\n",
              "      <td>EX_etoh_e</td>\n",
              "      <td>-15.82</td>\n",
              "      <td>2</td>\n",
              "      <td>63.70%</td>\n",
              "    </tr>\n",
              "    <tr>\n",
              "      <td>for_e</td>\n",
              "      <td>EX_for_e</td>\n",
              "      <td>-0.001488</td>\n",
              "      <td>1</td>\n",
              "      <td>0.00%</td>\n",
              "    </tr>\n",
              "    <tr>\n",
              "      <td>h2o_e</td>\n",
              "      <td>EX_h2o_e</td>\n",
              "      <td>-5.64</td>\n",
              "      <td>0</td>\n",
              "      <td>0.00%</td>\n",
              "    </tr>\n",
              "    <tr>\n",
              "      <td>h_e</td>\n",
              "      <td>EX_h_e</td>\n",
              "      <td>-1.45</td>\n",
              "      <td>0</td>\n",
              "      <td>0.00%</td>\n",
              "    </tr>\n",
              "  </tbody>\n",
              "</table>"
            ]
          },
          "metadata": {},
          "execution_count": 75
        }
      ]
    },
    {
      "cell_type": "code",
      "source": [
        "#salvando modelo\n",
        "save_json_model(nmodelo,\"Modelo_com_fluxo.json\")"
      ],
      "metadata": {
        "id": "iT_In65d33ZW"
      },
      "execution_count": null,
      "outputs": []
    },
    {
      "cell_type": "markdown",
      "source": [
        "---\n",
        "# **Objective functions: biomassa e NR**\n",
        "\n",
        "---\n",
        "Sequencia GenBank usada: https://www.ncbi.nlm.nih.gov/datasets/genome/GCA_000766575.2/\n",
        "\n",
        "Artigos referencia para valores:\n",
        "https://www.ncbi.nlm.nih.gov/pmc/articles/PMC420374/pdf/16X.pdf\n",
        "https://www.ncbi.nlm.nih.gov/pmc/articles/PMC6675859/pdf/13197_2019_Article_3833.pdf"
      ],
      "metadata": {
        "id": "d_gyDKpW3L5p"
      }
    },
    {
      "cell_type": "code",
      "source": [
        "pip install BOFdat"
      ],
      "metadata": {
        "id": "idYcF_G8_AkM",
        "colab": {
          "base_uri": "https://localhost:8080/"
        },
        "outputId": "ecf83e5e-e243-4625-b556-7e623bacd928"
      },
      "execution_count": null,
      "outputs": [
        {
          "output_type": "stream",
          "name": "stdout",
          "text": [
            "Collecting BOFdat\n",
            "  Downloading BOFdat-0.1.7-py3-none-any.whl.metadata (631 bytes)\n",
            "Requirement already satisfied: cobra>=0.11.0 in /usr/local/lib/python3.10/dist-packages (from BOFdat) (0.29.0)\n",
            "Requirement already satisfied: numpy>=1.13 in /usr/local/lib/python3.10/dist-packages (from BOFdat) (1.26.4)\n",
            "Collecting BioPython (from BOFdat)\n",
            "  Downloading biopython-1.84-cp310-cp310-manylinux_2_17_x86_64.manylinux2014_x86_64.whl.metadata (12 kB)\n",
            "Requirement already satisfied: seaborn in /usr/local/lib/python3.10/dist-packages (from BOFdat) (0.13.1)\n",
            "Requirement already satisfied: scikit-learn>=0.18 in /usr/local/lib/python3.10/dist-packages (from BOFdat) (1.3.2)\n",
            "Requirement already satisfied: scipy in /usr/local/lib/python3.10/dist-packages (from BOFdat) (1.13.1)\n",
            "Collecting deap (from BOFdat)\n",
            "  Downloading deap-1.4.1-cp310-cp310-manylinux_2_5_x86_64.manylinux1_x86_64.manylinux_2_17_x86_64.manylinux2014_x86_64.whl.metadata (13 kB)\n",
            "Collecting pebble (from BOFdat)\n",
            "  Downloading Pebble-5.0.7-py3-none-any.whl.metadata (3.6 kB)\n",
            "Requirement already satisfied: matplotlib in /usr/local/lib/python3.10/dist-packages (from BOFdat) (3.7.1)\n",
            "Requirement already satisfied: appdirs~=1.4 in /usr/local/lib/python3.10/dist-packages (from cobra>=0.11.0->BOFdat) (1.4.4)\n",
            "Requirement already satisfied: depinfo~=2.2 in /usr/local/lib/python3.10/dist-packages (from cobra>=0.11.0->BOFdat) (2.2.0)\n",
            "Requirement already satisfied: diskcache~=5.0 in /usr/local/lib/python3.10/dist-packages (from cobra>=0.11.0->BOFdat) (5.6.3)\n",
            "Requirement already satisfied: future in /usr/local/lib/python3.10/dist-packages (from cobra>=0.11.0->BOFdat) (1.0.0)\n",
            "Requirement already satisfied: httpx~=0.24 in /usr/local/lib/python3.10/dist-packages (from cobra>=0.11.0->BOFdat) (0.27.2)\n",
            "Requirement already satisfied: importlib-resources in /usr/local/lib/python3.10/dist-packages (from cobra>=0.11.0->BOFdat) (6.4.4)\n",
            "Requirement already satisfied: optlang~=1.8 in /usr/local/lib/python3.10/dist-packages (from cobra>=0.11.0->BOFdat) (1.8.2)\n",
            "Requirement already satisfied: pandas<3.0,>=1.0 in /usr/local/lib/python3.10/dist-packages (from cobra>=0.11.0->BOFdat) (2.1.4)\n",
            "Requirement already satisfied: pydantic>=1.6 in /usr/local/lib/python3.10/dist-packages (from cobra>=0.11.0->BOFdat) (2.8.2)\n",
            "Requirement already satisfied: python-libsbml~=5.19 in /usr/local/lib/python3.10/dist-packages (from cobra>=0.11.0->BOFdat) (5.20.4)\n",
            "Requirement already satisfied: rich>=8.0 in /usr/local/lib/python3.10/dist-packages (from cobra>=0.11.0->BOFdat) (13.8.0)\n",
            "Requirement already satisfied: ruamel.yaml~=0.16 in /usr/local/lib/python3.10/dist-packages (from cobra>=0.11.0->BOFdat) (0.18.6)\n",
            "Requirement already satisfied: swiglpk in /usr/local/lib/python3.10/dist-packages (from cobra>=0.11.0->BOFdat) (5.0.10)\n",
            "Requirement already satisfied: joblib>=1.1.1 in /usr/local/lib/python3.10/dist-packages (from scikit-learn>=0.18->BOFdat) (1.4.2)\n",
            "Requirement already satisfied: threadpoolctl>=2.0.0 in /usr/local/lib/python3.10/dist-packages (from scikit-learn>=0.18->BOFdat) (3.5.0)\n",
            "Requirement already satisfied: contourpy>=1.0.1 in /usr/local/lib/python3.10/dist-packages (from matplotlib->BOFdat) (1.3.0)\n",
            "Requirement already satisfied: cycler>=0.10 in /usr/local/lib/python3.10/dist-packages (from matplotlib->BOFdat) (0.12.1)\n",
            "Requirement already satisfied: fonttools>=4.22.0 in /usr/local/lib/python3.10/dist-packages (from matplotlib->BOFdat) (4.53.1)\n",
            "Requirement already satisfied: kiwisolver>=1.0.1 in /usr/local/lib/python3.10/dist-packages (from matplotlib->BOFdat) (1.4.5)\n",
            "Requirement already satisfied: packaging>=20.0 in /usr/local/lib/python3.10/dist-packages (from matplotlib->BOFdat) (24.1)\n",
            "Requirement already satisfied: pillow>=6.2.0 in /usr/local/lib/python3.10/dist-packages (from matplotlib->BOFdat) (9.4.0)\n",
            "Requirement already satisfied: pyparsing>=2.3.1 in /usr/local/lib/python3.10/dist-packages (from matplotlib->BOFdat) (3.1.4)\n",
            "Requirement already satisfied: python-dateutil>=2.7 in /usr/local/lib/python3.10/dist-packages (from matplotlib->BOFdat) (2.8.2)\n",
            "Requirement already satisfied: anyio in /usr/local/lib/python3.10/dist-packages (from httpx~=0.24->cobra>=0.11.0->BOFdat) (3.7.1)\n",
            "Requirement already satisfied: certifi in /usr/local/lib/python3.10/dist-packages (from httpx~=0.24->cobra>=0.11.0->BOFdat) (2024.7.4)\n",
            "Requirement already satisfied: httpcore==1.* in /usr/local/lib/python3.10/dist-packages (from httpx~=0.24->cobra>=0.11.0->BOFdat) (1.0.5)\n",
            "Requirement already satisfied: idna in /usr/local/lib/python3.10/dist-packages (from httpx~=0.24->cobra>=0.11.0->BOFdat) (3.8)\n",
            "Requirement already satisfied: sniffio in /usr/local/lib/python3.10/dist-packages (from httpx~=0.24->cobra>=0.11.0->BOFdat) (1.3.1)\n",
            "Requirement already satisfied: h11<0.15,>=0.13 in /usr/local/lib/python3.10/dist-packages (from httpcore==1.*->httpx~=0.24->cobra>=0.11.0->BOFdat) (0.14.0)\n",
            "Requirement already satisfied: sympy>=1.12.0 in /usr/local/lib/python3.10/dist-packages (from optlang~=1.8->cobra>=0.11.0->BOFdat) (1.13.2)\n",
            "Requirement already satisfied: pytz>=2020.1 in /usr/local/lib/python3.10/dist-packages (from pandas<3.0,>=1.0->cobra>=0.11.0->BOFdat) (2024.1)\n",
            "Requirement already satisfied: tzdata>=2022.1 in /usr/local/lib/python3.10/dist-packages (from pandas<3.0,>=1.0->cobra>=0.11.0->BOFdat) (2024.1)\n",
            "Requirement already satisfied: annotated-types>=0.4.0 in /usr/local/lib/python3.10/dist-packages (from pydantic>=1.6->cobra>=0.11.0->BOFdat) (0.7.0)\n",
            "Requirement already satisfied: pydantic-core==2.20.1 in /usr/local/lib/python3.10/dist-packages (from pydantic>=1.6->cobra>=0.11.0->BOFdat) (2.20.1)\n",
            "Requirement already satisfied: typing-extensions>=4.6.1 in /usr/local/lib/python3.10/dist-packages (from pydantic>=1.6->cobra>=0.11.0->BOFdat) (4.12.2)\n",
            "Requirement already satisfied: six>=1.5 in /usr/local/lib/python3.10/dist-packages (from python-dateutil>=2.7->matplotlib->BOFdat) (1.16.0)\n",
            "Requirement already satisfied: markdown-it-py>=2.2.0 in /usr/local/lib/python3.10/dist-packages (from rich>=8.0->cobra>=0.11.0->BOFdat) (3.0.0)\n",
            "Requirement already satisfied: pygments<3.0.0,>=2.13.0 in /usr/local/lib/python3.10/dist-packages (from rich>=8.0->cobra>=0.11.0->BOFdat) (2.16.1)\n",
            "Requirement already satisfied: ruamel.yaml.clib>=0.2.7 in /usr/local/lib/python3.10/dist-packages (from ruamel.yaml~=0.16->cobra>=0.11.0->BOFdat) (0.2.8)\n",
            "Requirement already satisfied: mdurl~=0.1 in /usr/local/lib/python3.10/dist-packages (from markdown-it-py>=2.2.0->rich>=8.0->cobra>=0.11.0->BOFdat) (0.1.2)\n",
            "Requirement already satisfied: mpmath<1.4,>=1.1.0 in /usr/local/lib/python3.10/dist-packages (from sympy>=1.12.0->optlang~=1.8->cobra>=0.11.0->BOFdat) (1.3.0)\n",
            "Requirement already satisfied: exceptiongroup in /usr/local/lib/python3.10/dist-packages (from anyio->httpx~=0.24->cobra>=0.11.0->BOFdat) (1.2.2)\n",
            "Downloading BOFdat-0.1.7-py3-none-any.whl (5.1 MB)\n",
            "\u001b[2K   \u001b[90m━━━━━━━━━━━━━━━━━━━━━━━━━━━━━━━━━━━━━━━━\u001b[0m \u001b[32m5.1/5.1 MB\u001b[0m \u001b[31m56.7 MB/s\u001b[0m eta \u001b[36m0:00:00\u001b[0m\n",
            "\u001b[?25hDownloading biopython-1.84-cp310-cp310-manylinux_2_17_x86_64.manylinux2014_x86_64.whl (3.2 MB)\n",
            "\u001b[2K   \u001b[90m━━━━━━━━━━━━━━━━━━━━━━━━━━━━━━━━━━━━━━━━\u001b[0m \u001b[32m3.2/3.2 MB\u001b[0m \u001b[31m80.7 MB/s\u001b[0m eta \u001b[36m0:00:00\u001b[0m\n",
            "\u001b[?25hDownloading deap-1.4.1-cp310-cp310-manylinux_2_5_x86_64.manylinux1_x86_64.manylinux_2_17_x86_64.manylinux2014_x86_64.whl (135 kB)\n",
            "\u001b[2K   \u001b[90m━━━━━━━━━━━━━━━━━━━━━━━━━━━━━━━━━━━━━━━━\u001b[0m \u001b[32m135.4/135.4 kB\u001b[0m \u001b[31m10.8 MB/s\u001b[0m eta \u001b[36m0:00:00\u001b[0m\n",
            "\u001b[?25hDownloading Pebble-5.0.7-py3-none-any.whl (30 kB)\n",
            "Installing collected packages: pebble, deap, BioPython, BOFdat\n",
            "Successfully installed BOFdat-0.1.7 BioPython-1.84 deap-1.4.1 pebble-5.0.7\n"
          ]
        }
      ]
    },
    {
      "cell_type": "code",
      "source": [
        "from BOFdat import step1\n",
        "from BOFdat.util import update\n",
        "import pandas as pd\n",
        "import cobra"
      ],
      "metadata": {
        "id": "OVKdC4J1B6Va"
      },
      "execution_count": null,
      "outputs": []
    },
    {
      "cell_type": "code",
      "source": [
        "#Set parameters based on dry weight composition, esta em porcentagem\n",
        "dna_weight_fraction = 0.012\n",
        "rna_weight_fraction = 0.196\n",
        "protein_weight_fraction = 0.4283\n",
        "lipid_weight_fraction = 0.0145\n",
        "metabolite_weight_fraction = 0.1 #ainda nao encontrei um especifico pra saccharomyces, esse é do exemplo do bofdat (e.coli)"
      ],
      "metadata": {
        "id": "Mx4fMXwD3Th5"
      },
      "execution_count": null,
      "outputs": []
    }
  ],
  "metadata": {
    "colab": {
      "collapsed_sections": [
        "g_EN_B7gyka0",
        "WQvo2LW_LFQ-",
        "d_gyDKpW3L5p"
      ],
      "provenance": [],
      "include_colab_link": true
    },
    "kernelspec": {
      "display_name": "Python 3",
      "name": "python3"
    },
    "language_info": {
      "name": "python"
    }
  },
  "nbformat": 4,
  "nbformat_minor": 0
}